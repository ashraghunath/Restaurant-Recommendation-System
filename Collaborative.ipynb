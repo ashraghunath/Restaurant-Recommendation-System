{
 "cells": [
  {
   "cell_type": "markdown",
   "metadata": {},
   "source": [
    "# Import Libraries"
   ]
  },
  {
   "cell_type": "code",
   "execution_count": 23,
   "metadata": {},
   "outputs": [],
   "source": [
    "\n",
    "from pyspark.ml.recommendation import ALS\n",
    "from pyspark.sql import SparkSession\n",
    "from pyspark.sql.functions import col\n",
    "from pyspark.ml.feature import StringIndexer\n",
    "from pyspark.ml import Pipeline\n",
    "from pyspark.ml.evaluation import RegressionEvaluator\n",
    "from pyspark.sql.types import StructType,StructField,IntegerType\n"
   ]
  },
  {
   "cell_type": "markdown",
   "metadata": {},
   "source": [
    "# Constants : Modify as and when required!"
   ]
  },
  {
   "cell_type": "code",
   "execution_count": 24,
   "metadata": {},
   "outputs": [],
   "source": [
    "# file paths\n",
    "business_file=\"Sample_Datasets/montreal_business/part-00000-b5f251d0-79e6-47a8-a405-042eb7b7894e-c000.snappy.parquet\"\n",
    "reviews_file=\"Sample_Datasets/montreal_reviews/part-00000-f0e4463e-0ac9-402e-b995-734cbefc958e-c000.snappy.parquet\"\n",
    "users_file=\"Sample_Datasets/montreal_users/part-00000-a7d49d78-89a7-478f-a577-0efe02dca047-c000.snappy.parquet\"\n"
   ]
  },
  {
   "cell_type": "markdown",
   "metadata": {},
   "source": [
    "# Initialize spark session"
   ]
  },
  {
   "cell_type": "code",
   "execution_count": 25,
   "metadata": {
    "jupyter": {
     "outputs_hidden": true
    }
   },
   "outputs": [],
   "source": [
    "app_name=\"Collaborative filtering for restaurant recommendation\"\n",
    "\n",
    "def init_spark():\n",
    "    spark = SparkSession \\\n",
    "        .builder \\\n",
    "        .appName(app_name) \\\n",
    "        .getOrCreate()\n",
    "    return spark\n"
   ]
  },
  {
   "cell_type": "markdown",
   "metadata": {},
   "source": [
    "# Load Dataset in Apache Spark"
   ]
  },
  {
   "cell_type": "code",
   "execution_count": 26,
   "metadata": {},
   "outputs": [],
   "source": [
    "spark=init_spark()\n",
    "business_df = spark.read.parquet(business_file)\n",
    "reviews_df=spark.read.parquet(reviews_file)\n",
    "users_df=spark.read.parquet(users_file)"
   ]
  },
  {
   "cell_type": "markdown",
   "metadata": {},
   "source": [
    "## Selecting required features\n",
    "\n",
    "In our project, we are only concerned with a subset of columns from the dataset, specifically those that are relevant to our goal of recommending restaurants in Montreal. Therefore, we extract the necessary features from the business_df table, including the id, name, stars, category. \n",
    "Similarly, we filter the reviews_df=spark.read.parquet(reviews_file)\n",
    " table to include only reviews for the selected restaurants by performing an inner join with business_df."
   ]
  },
  {
   "cell_type": "code",
   "execution_count": 27,
   "metadata": {},
   "outputs": [],
   "source": [
    "business_df = business_df.select(\"business_id\",\"name\", \"stars\", \n",
    "                                 \"review_count\", \"address\", \"city\", \"state\", \"postal_code\", \"longitude\", \n",
    "                                 \"categories\", \"latitude\").withColumnRenamed(\"stars\", \"stars_restaurant\")\n",
    "reviews_df = reviews_df.join(business_df, on='business_id', how='inner')"
   ]
  },
  {
   "cell_type": "markdown",
   "metadata": {},
   "source": [
    "## Preparing Data for ALS: Convert String to index\n",
    "Prior to initiating the modeling process, it is essential to transform all the relevant columns to integer type for compatibility with the ALS model from pyspark. The columns requiring conversion are the business_id and user_id. We accomplish this by leveraging the StringIndexer function, which we imported from pyspark.ml.feature."
   ]
  },
  {
   "cell_type": "code",
   "execution_count": 28,
   "metadata": {},
   "outputs": [
    {
     "data": {
      "text/plain": [
       "DataFrame[business_id: string, user_id: string, business_id_index: double, user_id_index: double, stars: double, categories: string]"
      ]
     },
     "execution_count": 28,
     "metadata": {},
     "output_type": "execute_result"
    }
   ],
   "source": [
    "indexer = [StringIndexer(inputCol=column, outputCol=column+\"_index\") for column in ['business_id', 'user_id']]\n",
    "pipeline = Pipeline(stages=indexer)\n",
    "transformed = pipeline.fit(reviews_df).transform(reviews_df)\n",
    "transformed.select(['business_id', 'user_id','business_id_index', 'user_id_index','stars','categories'])"
   ]
  },
  {
   "cell_type": "markdown",
   "metadata": {},
   "source": [
    "## Spliting the dataset into training and testing subsets "
   ]
  },
  {
   "cell_type": "code",
   "execution_count": 29,
   "metadata": {},
   "outputs": [],
   "source": [
    "(training, test) = transformed.randomSplit([0.8, 0.2])"
   ]
  },
  {
   "cell_type": "markdown",
   "metadata": {},
   "source": [
    "## Create ALS model\n",
    "The Apache Spark library provides various parameters for the ALS (Alternating Least Squares) algorithm, including:\n",
    "\n",
    "- numBlocks*: the number of blocks used to partition users and items, allowing for parallelized computation (default value: 10).\n",
    "- rank: the number of latent factors used in the model (default value: 10).\n",
    "- maxIter: the maximum number of iterations to run (default value: 10).\n",
    "- regParam: the regularization parameter used in ALS (default value: 1.0).\n",
    "- implicitPrefs: a boolean value that indicates whether to use the explicit feedback ALS variant or the one adapted for implicit feedback data (default value: false, which means using explicit feedback).\n",
    "- alpha: a parameter that applies to the implicit feedback variant of ALS, determining the baseline confidence in preference observations (default value: 1.0).\n",
    "- nonnegative: a boolean value that specifies whether to use nonnegative constraints for least squares (default value: false)."
   ]
  },
  {
   "cell_type": "code",
   "execution_count": 30,
   "metadata": {},
   "outputs": [],
   "source": [
    "als=ALS(maxIter=5,\n",
    "        regParam=0.09,\n",
    "        rank=20,\n",
    "        userCol=\"user_id_index\",\n",
    "        itemCol=\"business_id_index\",\n",
    "        ratingCol=\"stars\",\n",
    "        coldStartStrategy=\"drop\",\n",
    "        nonnegative=True)\n",
    "\n",
    "model=als.fit(training)"
   ]
  },
  {
   "cell_type": "markdown",
   "metadata": {},
   "source": [
    "## Evaluate RMSE"
   ]
  },
  {
   "cell_type": "code",
   "execution_count": 31,
   "metadata": {},
   "outputs": [
    {
     "name": "stdout",
     "output_type": "stream",
     "text": [
      "RMSE=1.44135245214684\n"
     ]
    }
   ],
   "source": [
    "evaluator=RegressionEvaluator(metricName=\"rmse\",labelCol=\"stars\",predictionCol=\"prediction\")\n",
    "predictions=model.transform(test)\n",
    "rmse=evaluator.evaluate(predictions)\n",
    "print(\"RMSE=\"+str(rmse))"
   ]
  },
  {
   "cell_type": "markdown",
   "metadata": {},
   "source": [
    "## Tuning Hyper Parameters"
   ]
  },
  {
   "cell_type": "code",
   "execution_count": 12,
   "metadata": {},
   "outputs": [],
   "source": [
    "als = ALS(maxIter=20,regParam=0.09,rank=20,userCol=\"user_id_index\",itemCol=\"business_id_index\",ratingCol=\"stars\",coldStartStrategy=\"drop\",nonnegative=True)\n",
    "model = als.fit(training)"
   ]
  },
  {
   "cell_type": "markdown",
   "metadata": {},
   "source": [
    "## Re-evaluating the RMSE"
   ]
  },
  {
   "cell_type": "code",
   "execution_count": 13,
   "metadata": {},
   "outputs": [
    {
     "name": "stdout",
     "output_type": "stream",
     "text": [
      "RMSE=1.3138577287018127\n"
     ]
    }
   ],
   "source": [
    "evaluator=RegressionEvaluator(metricName=\"rmse\",labelCol=\"stars\",predictionCol=\"prediction\")\n",
    "predictions=model.transform(test)\n",
    "rmse=evaluator.evaluate(predictions)\n",
    "print(\"RMSE=\"+str(rmse))"
   ]
  },
  {
   "cell_type": "code",
   "execution_count": 14,
   "metadata": {},
   "outputs": [],
   "source": [
    "als = ALS(maxIter=20,regParam=0.09,rank=25,userCol=\"user_id_index\",itemCol=\"business_id_index\",ratingCol=\"stars\",coldStartStrategy=\"drop\",nonnegative=True)\n",
    "model = als.fit(training)"
   ]
  },
  {
   "cell_type": "code",
   "execution_count": 15,
   "metadata": {},
   "outputs": [
    {
     "name": "stdout",
     "output_type": "stream",
     "text": [
      "RMSE=1.3108924547504515\n"
     ]
    }
   ],
   "source": [
    "evaluator=RegressionEvaluator(metricName=\"rmse\",labelCol=\"stars\",predictionCol=\"prediction\")\n",
    "predictions=model.transform(test)\n",
    "rmse=evaluator.evaluate(predictions)\n",
    "print(\"RMSE=\"+str(rmse))"
   ]
  },
  {
   "cell_type": "code",
   "execution_count": 16,
   "metadata": {},
   "outputs": [
    {
     "name": "stdout",
     "output_type": "stream",
     "text": [
      "RMSE=1.3183231057620133\n",
      "42322\n",
      "4169\n",
      "RMSE=1.3108924547504517\n",
      "42322\n",
      "4169\n",
      "RMSE=1.3035536605930647\n",
      "42322\n",
      "4169\n",
      "RMSE=1.2707102449526586\n",
      "42322\n",
      "4169\n",
      "RMSE=1.247503770638856\n",
      "42322\n",
      "4169\n",
      "RMSE=1.233860236681604\n",
      "42322\n",
      "4169\n",
      "RMSE=1.226375515158736\n",
      "42322\n",
      "4169\n",
      "RMSE=1.2246239501304896\n",
      "42322\n",
      "4169\n",
      "RMSE=1.2290809657047284\n",
      "42322\n",
      "4169\n",
      "RMSE=1.2368554283162059\n",
      "42322\n",
      "4169\n",
      "RMSE=1.2368554283162063\n",
      "42322\n",
      "4169\n",
      "RMSE=1.2626710635715015\n",
      "42322\n",
      "4169\n",
      "RMSE=1.300965824561188\n",
      "42322\n",
      "4169\n",
      "RMSE=1.3487676080836872\n",
      "42322\n",
      "4169\n",
      "RMSE=1.4033817268967461\n",
      "42322\n",
      "4169\n"
     ]
    }
   ],
   "source": [
    "values=[0.08,0.09,0.1,0.15,0.2,0.25,0.3,0.4,0.45,0.5,0.5,0.6,0.7,0.8,0.9]\n",
    "for rm in values:\n",
    "    als = ALS(maxIter=20,regParam=rm,rank=25,userCol=\"user_id_index\",itemCol=\"business_id_index\",ratingCol=\"stars\",coldStartStrategy=\"drop\",nonnegative=True)\n",
    "    model = als.fit(training)\n",
    "    evaluator=RegressionEvaluator(metricName=\"rmse\",labelCol=\"stars\",predictionCol=\"prediction\")\n",
    "    predictions=model.transform(test)\n",
    "    rmse=evaluator.evaluate(predictions)\n",
    "    print(\"RMSE=\"+str(rmse))\n",
    "    print(model.userFactors.count())\n",
    "    print(model.itemFactors.count())\n",
    "    "
   ]
  },
  {
   "cell_type": "code",
   "execution_count": null,
   "metadata": {},
   "outputs": [],
   "source": [
    "#we are uisng 0.4 as the regularizatin parameter as it yields lowest RMSE"
   ]
  },
  {
   "cell_type": "code",
   "execution_count": null,
   "metadata": {},
   "outputs": [],
   "source": [
    "als = ALS(maxIter=30,regParam=0.4,rank=25,userCol=\"user_id_index\",itemCol=\"business_id_index\",ratingCol=\"stars\",coldStartStrategy=\"drop\",nonnegative=True)\n",
    "model = als.fit(training)\n",
    "evaluator=RegressionEvaluator(metricName=\"rmse\",labelCol=\"stars\",predictionCol=\"prediction\")\n",
    "predictions=model.transform(test)\n",
    "rmse=evaluator.evaluate(predictions)\n",
    "print(\"RMSE=\"+str(rmse))"
   ]
  },
  {
   "cell_type": "markdown",
   "metadata": {},
   "source": [
    "# Find Best Recommendations"
   ]
  },
  {
   "cell_type": "code",
   "execution_count": 18,
   "metadata": {},
   "outputs": [
    {
     "name": "stdout",
     "output_type": "stream",
     "text": [
      "+--------------------+--------------------+-----+--------------------+\n",
      "|         business_id|             user_id|stars|          categories|\n",
      "+--------------------+--------------------+-----+--------------------+\n",
      "|ubLn_FrFygzcbhXTD...|0gZ8E5tBWTEtGEZDu...|  5.0|Restaurants, Cafe...|\n",
      "|zrnP9HqoF-RI9jqoW...|0gZ8E5tBWTEtGEZDu...|  5.0|Coffee & Tea, Res...|\n",
      "|yU3p0tEBtGuZLTcsB...|0gZ8E5tBWTEtGEZDu...|  5.0|Restaurants, Brea...|\n",
      "|tmWp4Rtr_cm7nCh2u...|0gZ8E5tBWTEtGEZDu...|  5.0|Breakfast & Brunc...|\n",
      "|vaURDGRo19cMB3Fy9...|0gZ8E5tBWTEtGEZDu...|  5.0|Restaurants, Coff...|\n",
      "|58APdML-PG_OD4El2...|0gZ8E5tBWTEtGEZDu...|  2.0|Delicatessen, Foo...|\n",
      "|ZL9sk7Imc42BNRhcj...|0gZ8E5tBWTEtGEZDu...|  4.0|Chinese, Restaura...|\n",
      "|lpnuObNKbkH8usnUS...|0gZ8E5tBWTEtGEZDu...|  4.0|Cafes, Coffee & T...|\n",
      "|q91nljuSDFl0IYRey...|0gZ8E5tBWTEtGEZDu...|  3.0|Vegan, Vegetarian...|\n",
      "|8cPMjIwTnrVm3F2wL...|0gZ8E5tBWTEtGEZDu...|  4.0|Vegan, Cafes, Veg...|\n",
      "|xlMgaPOpd_99SFTuO...|0gZ8E5tBWTEtGEZDu...|  4.0|Game Meat, Americ...|\n",
      "|vYbpodi9utup_njMK...|0gZ8E5tBWTEtGEZDu...|  4.0|Taiwanese, Restau...|\n",
      "|rCzYYVmZxty56Ej50...|0gZ8E5tBWTEtGEZDu...|  2.0|Flowers & Gifts, ...|\n",
      "|i2dnic7VdQ3NyiQQW...|0gZ8E5tBWTEtGEZDu...|  4.0|Restaurants, Brea...|\n",
      "|MsgfS1iJMpxVIUfO-...|0gZ8E5tBWTEtGEZDu...|  4.0| Korean, Restaurants|\n",
      "|46Ld9Qc9nAx_A0jwc...|0gZ8E5tBWTEtGEZDu...|  5.0|Bakeries, Cafes, ...|\n",
      "|ytD9rJ-jcb8zMUCfi...|0gZ8E5tBWTEtGEZDu...|  2.0|Restaurants, Fren...|\n",
      "|z1RYEzRQzhBKw0Pez...|0gZ8E5tBWTEtGEZDu...|  5.0|Mediterranean, Gr...|\n",
      "|9KeJfn7-6DFfUFoZL...|0gZ8E5tBWTEtGEZDu...|  4.0|Mexican, Bars, Ni...|\n",
      "|xidr6_d3fwKSb_XaB...|0gZ8E5tBWTEtGEZDu...|  4.0|Japanese, Sushi B...|\n",
      "+--------------------+--------------------+-----+--------------------+\n",
      "only showing top 20 rows\n",
      "\n",
      "+--------------------+-----+--------------------+--------------------+\n",
      "|         business_id|stars|          categories|                name|\n",
      "+--------------------+-----+--------------------+--------------------+\n",
      "|G6x0RiA8mw6A1Alvl...|  5.0|Restaurants, Port...|     Bistro Le Porto|\n",
      "|rx4XaG4gRV55AdpKI...|  5.0|  Restaurants, Cafes|    Café Conca d'Oro|\n",
      "|bl2U-rhPusg5BtgOR...|  5.0|Chinese, Restaurants|         Chef Noodle|\n",
      "|JrR8X7AST5ZkWEfXq...|  5.0|Restaurants, Brea...|         Chez Bédine|\n",
      "|RnUdrLL51wMnBsjv6...|  5.0|Restaurants, Sand...|        Coffeebrands|\n",
      "|ar7yWwQ_3kyBXhs8a...|  5.0|Chinese, Restaura...|   Dak Hing Barbecue|\n",
      "|tZOeM38grniz7YIDV...|  5.0|Middle Eastern, K...|                Dima|\n",
      "|LV6rElWw6-raEfhmU...|  5.0|Latin American, R...|          Dona Maria|\n",
      "|X180L6_G0PnuXuVyr...|  5.0|Nightlife, Pizza,...|             Grozépa|\n",
      "|hwoMVoMk4qmuMrbr8...|  5.0|Food, Cafes, Rest...| L'Etagère Gourmande|\n",
      "|ErO-StpNCLnAKSAev...|  5.0|Fast Food, Restau...|Monsieur Hotdog Plus|\n",
      "|6t0tTpeOgLb6-5AcE...|  5.0|Italian, Restaurants|             Orotoro|\n",
      "|bIZbtbOhD404RJGvf...|  5.0|  Pizza, Restaurants|       Pizza Bouquet|\n",
      "|FNpdDxFJkU6MVgvUN...|  5.0|Poke, Hawaiian, R...|            Poké Bol|\n",
      "|8laPibALNSasJtKjE...|  4.0|Weight Loss Cente...|Popeye's Suppléme...|\n",
      "|NwyJHQ6fdx174rQuG...|  5.0|Desserts, Bars, F...|             Ratafia|\n",
      "|RYDwlI8hGyMLVAdKB...|  5.0|Chinese, Ethnic F...|Shun Lee alimenta...|\n",
      "|mBBghIw1ER3ZRQKro...|  5.0|Sushi Bars, Food,...|          Sushi Poké|\n",
      "|ZE1iBA6lTFWmxrrtX...|  5.0|Restaurants, Turkish|Turquoise Maison ...|\n",
      "|E4SvMe-JraLxHlV3a...|  5.0|Restaurants, Fast...|             Wendy's|\n",
      "+--------------------+-----+--------------------+--------------------+\n",
      "\n",
      "+--------------------+--------------------+-----+----------+\n",
      "|             user_id|         business_id|stars|prediction|\n",
      "+--------------------+--------------------+-----+----------+\n",
      "|alUuOskFSl1bODjnc...|-AgfhwHOYrsPKt-_x...|  4.0| 2.6773944|\n",
      "|f36zzHyedEUiXqLGg...|-iQdfdTpXa3Y-WC5O...|  5.0| 2.5565434|\n",
      "|WxSV-4GoqPCczNn4R...|0S46SVEicJjWzqMOI...|  5.0| 1.5309001|\n",
      "|13nFByYswgi7YTLxX...|0W4lkclzZThpx3V65...|  5.0| 3.3625576|\n",
      "|C7o1LcGjQis0ICvsQ...|0W4lkclzZThpx3V65...|  4.0|  3.215236|\n",
      "|2av488ePvb-Z4qgeN...|2LOTz08OPRyA0ibJI...|  4.0| 3.1236787|\n",
      "|XP9aSaVhu_q1OCUtu...|3CUXYDDQtrrg0u7qG...|  4.0| 3.3288836|\n",
      "|1tntwPMN42Dx3q_Rp...|40l1uxGkwHPWj5hL0...|  5.0| 3.4601588|\n",
      "|2av488ePvb-Z4qgeN...|46Ld9Qc9nAx_A0jwc...|  4.0| 3.2727783|\n",
      "|3lUkFxUQKeMUYH7-z...|5T6kFKFycym_GkhgO...|  4.0| 3.3829696|\n",
      "|lGBvmBDeIooqcrMwp...|5T6kFKFycym_GkhgO...|  4.0| 2.8131402|\n",
      "|lwLL8zI-1FL_WDWTJ...|5T6kFKFycym_GkhgO...|  5.0|  3.861838|\n",
      "|qeT7hJoZRtGuUuaL2...|66LvqsvQ3niOFqJIP...|  4.0| 2.6308033|\n",
      "|XP9aSaVhu_q1OCUtu...|6BCZIPrrNuPdZ3pCN...|  4.0| 3.0866265|\n",
      "|1tntwPMN42Dx3q_Rp...|6I6uDGwCDggrWXi2T...|  5.0| 3.3699148|\n",
      "|KcZOGv_2fnDZyRTnf...|6fd9EIo9TAFvJLkfC...|  3.0|  3.709675|\n",
      "|RmxuIIpYDy0AI_Mch...|7wgKazvblPECOzBrd...|  2.0| 2.0533972|\n",
      "|XP9aSaVhu_q1OCUtu...|8PutnU74XwbXxlzv0...|  1.0| 2.6634758|\n",
      "|8kYheB6-El5SiMsxm...|9xSwne4GjwZ6Hlzdx...|  5.0| 2.2658632|\n",
      "|xpvXXjfUDVulJODsu...|AcsU1Dt_AI1MLAhct...|  3.0| 4.0548115|\n",
      "+--------------------+--------------------+-----+----------+\n",
      "only showing top 20 rows\n",
      "\n"
     ]
    }
   ],
   "source": [
    "\n",
    "test = model.recommendForAllUsers(20).filter(col('user_id_index')==30).select(\"recommendations\").collect()\n",
    "topRestaurants = []\n",
    "for item in test[0][0]:        \n",
    "    topRestaurants.append(item.business_id_index)\n",
    "    \n",
    "schema = StructType([StructField(\"business_id_index\",IntegerType(),True)])\n",
    "restaurants = spark.createDataFrame(topRestaurants,IntegerType()).toDF(\"business_id_index\")\n",
    "\n",
    "\n",
    "transformed\\\n",
    ".select(['business_id', 'user_id', 'stars', 'categories'])\\\n",
    ".filter(col('user_id_index')==30)\\\n",
    ".show()\n",
    "\n",
    "restaurants\\\n",
    ".join(transformed, on = 'business_id_index', how = 'inner')\\\n",
    ".select(['business_id', 'stars', 'categories', 'name'])\\\n",
    ".drop_duplicates(subset=['name'])\\\n",
    ".show()\n",
    "\n",
    "predictions.select(['user_id', 'business_id', 'stars', 'prediction']).show()\n"
   ]
  }
 ],
 "metadata": {
  "kernelspec": {
   "display_name": "Python 3 (ipykernel)",
   "language": "python",
   "name": "python3"
  },
  "language_info": {
   "codemirror_mode": {
    "name": "ipython",
    "version": 3
   },
   "file_extension": ".py",
   "mimetype": "text/x-python",
   "name": "python",
   "nbconvert_exporter": "python",
   "pygments_lexer": "ipython3",
   "version": "3.10.0"
  }
 },
 "nbformat": 4,
 "nbformat_minor": 4
}
