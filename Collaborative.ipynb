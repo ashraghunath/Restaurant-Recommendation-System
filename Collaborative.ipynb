{
 "cells": [
  {
   "attachments": {},
   "cell_type": "markdown",
   "metadata": {},
   "source": [
    "# Dependency Imports"
   ]
  },
  {
   "cell_type": "code",
   "execution_count": 1,
   "metadata": {},
   "outputs": [],
   "source": [
    "\n",
    "from pyspark import SparkContext\n",
    "from pyspark.ml.recommendation import ALS\n",
    "from pyspark.sql import SparkSession ,Row\n",
    "from pyspark.sql.functions import col\n",
    "from pyspark.sql import SQLContext\n",
    "from pyspark.ml.feature import StringIndexer\n",
    "from pyspark.ml import Pipeline\n",
    "from pyspark.ml.evaluation import RegressionEvaluator\n",
    "from pyspark.sql.types import StructType,StructField,IntegerType\n"
   ]
  },
  {
   "attachments": {},
   "cell_type": "markdown",
   "metadata": {},
   "source": [
    "# Constants : Modify as and when required!"
   ]
  },
  {
   "cell_type": "code",
   "execution_count": 2,
   "metadata": {},
   "outputs": [],
   "source": [
    "# file paths\n",
    "business_file=\"./Small_Datasets/small_business/part-00000-ee490ef4-cc94-4c10-a519-93e1a97ae759-c000.snappy.parquet\"\n",
    "reviews_file=\"./Small_Datasets/small_reviews/part-00000-68ec6b88-1bc3-48fb-b20e-d37d1431365f-c000.snappy.parquet\"\n",
    "users_file=\"./Small_Datasets/small_users/part-00000-aaf232b2-4eae-4625-a454-215dd40c60f4-c000.snappy.parquet\"\n",
    "app_name=\"Collabrative filtering for restaurant recommendation\""
   ]
  },
  {
   "attachments": {},
   "cell_type": "markdown",
   "metadata": {},
   "source": [
    "# Initialize spark session"
   ]
  },
  {
   "cell_type": "code",
   "execution_count": 3,
   "metadata": {
    "collapsed": true
   },
   "outputs": [],
   "source": [
    "def init_spark():\n",
    "    spark = SparkSession \\\n",
    "        .builder \\\n",
    "        .appName(app_name) \\\n",
    "        .config(\"spark.some.config.option\", \"nothing\") \\\n",
    "        .getOrCreate()\n",
    "    return spark\n"
   ]
  },
  {
   "attachments": {},
   "cell_type": "markdown",
   "metadata": {},
   "source": [
    "# Load Dataset in Apache Spark"
   ]
  },
  {
   "cell_type": "code",
   "execution_count": 4,
   "metadata": {},
   "outputs": [],
   "source": [
    "spark=init_spark()\n",
    "business_df = spark.read.parquet(business_file)\n",
    "reviews_df=spark.read.parquet(reviews_file)\n",
    "users_df=spark.read.parquet(users_file)"
   ]
  },
  {
   "attachments": {},
   "cell_type": "markdown",
   "metadata": {},
   "source": [
    "## Selecting rows and columns\n",
    "\n",
    "In our project, we are only concerned with a subset of columns from the dataset, specifically those that are relevant to our goal of recommending restaurants in Montreal. Therefore, we extract the necessary features from the business_df table, including the id, name, stars, category. \n",
    "Similarly, we filter the reviews_df=spark.read.parquet(reviews_file)\n",
    " table to include only reviews for the selected restaurants by performing an inner join with business_df."
   ]
  },
  {
   "cell_type": "code",
   "execution_count": 5,
   "metadata": {},
   "outputs": [],
   "source": [
    "business_df = business_df.select(\"business_id\",\"name\", \"stars\", \n",
    "                                 \"review_count\", \"address\", \"city\", \"state\", \"postal_code\", \"longitude\", \n",
    "                                 \"categories\", \"latitude\").withColumnRenamed(\"stars\", \"stars_restaurant\")\n",
    "reviews_df = reviews_df.join(business_df, on='business_id', how='inner')"
   ]
  },
  {
   "attachments": {},
   "cell_type": "markdown",
   "metadata": {},
   "source": [
    "## Convert String to index \n",
    "Prior to initiating the modeling process, it is essential to transform all the relevant columns to integer type for compatibility with the ALS model from pyspark. The columns requiring conversion are the business_id and user_id. We accomplish this by leveraging the StringIndexer function, which we imported from pyspark.ml.feature."
   ]
  },
  {
   "cell_type": "code",
   "execution_count": 6,
   "metadata": {},
   "outputs": [
    {
     "data": {
      "text/plain": [
       "DataFrame[business_id: string, user_id: string, business_id_index: double, user_id_index: double, stars: double, categories: string]"
      ]
     },
     "execution_count": 6,
     "metadata": {},
     "output_type": "execute_result"
    }
   ],
   "source": [
    "indexer = [StringIndexer(inputCol=column, outputCol=column+\"_index\") for column in ['business_id', 'user_id']]\n",
    "pipeline = Pipeline(stages=indexer)\n",
    "transformed = pipeline.fit(reviews_df).transform(reviews_df)\n",
    "transformed.select(['business_id', 'user_id','business_id_index', 'user_id_index','stars','categories'])"
   ]
  },
  {
   "attachments": {},
   "cell_type": "markdown",
   "metadata": {},
   "source": [
    "## Spliting the dataset into training and testing subsets "
   ]
  },
  {
   "cell_type": "code",
   "execution_count": 7,
   "metadata": {},
   "outputs": [],
   "source": [
    "(training, test) = transformed.randomSplit([0.7, 0.3])"
   ]
  },
  {
   "attachments": {},
   "cell_type": "markdown",
   "metadata": {},
   "source": [
    "## Create ALS model\n",
    "The Apache Spark library provides various parameters for the ALS (Alternating Least Squares) algorithm, including:\n",
    "\n",
    "- numBlocks*: the number of blocks used to partition users and items, allowing for parallelized computation (default value: 10).\n",
    "- rank: the number of latent factors used in the model (default value: 10).\n",
    "- maxIter: the maximum number of iterations to run (default value: 10).\n",
    "- regParam: the regularization parameter used in ALS (default value: 1.0).\n",
    "- implicitPrefs: a boolean value that indicates whether to use the explicit feedback ALS variant or the one adapted for implicit feedback data (default value: false, which means using explicit feedback).\n",
    "- alpha: a parameter that applies to the implicit feedback variant of ALS, determining the baseline confidence in preference observations (default value: 1.0).\n",
    "- nonnegative: a boolean value that specifies whether to use nonnegative constraints for least squares (default value: false)."
   ]
  },
  {
   "cell_type": "code",
   "execution_count": 8,
   "metadata": {},
   "outputs": [],
   "source": [
    "als=ALS(maxIter=5,\n",
    "        regParam=0.09,\n",
    "        rank=20,\n",
    "        userCol=\"user_id_index\",\n",
    "        itemCol=\"business_id_index\",\n",
    "        ratingCol=\"stars\",\n",
    "        coldStartStrategy=\"drop\",\n",
    "        nonnegative=True)\n",
    "\n",
    "model=als.fit(training)"
   ]
  },
  {
   "attachments": {},
   "cell_type": "markdown",
   "metadata": {},
   "source": [
    "## Evaluate RMSE"
   ]
  },
  {
   "cell_type": "code",
   "execution_count": 9,
   "metadata": {},
   "outputs": [
    {
     "name": "stdout",
     "output_type": "stream",
     "text": [
      "RMSE=1.451705532394602\n"
     ]
    }
   ],
   "source": [
    "evaluator=RegressionEvaluator(metricName=\"rmse\",labelCol=\"stars\",predictionCol=\"prediction\")\n",
    "predictions=model.transform(test)\n",
    "rmse=evaluator.evaluate(predictions)\n",
    "print(\"RMSE=\"+str(rmse))"
   ]
  },
  {
   "attachments": {},
   "cell_type": "markdown",
   "metadata": {},
   "source": [
    "## Fine tuning the model"
   ]
  },
  {
   "cell_type": "code",
   "execution_count": 10,
   "metadata": {},
   "outputs": [],
   "source": [
    "als = ALS(maxIter=20,regParam=0.09,rank=20,userCol=\"user_id_index\",itemCol=\"business_id_index\",ratingCol=\"stars\",coldStartStrategy=\"drop\",nonnegative=True)\n",
    "model = als.fit(training)"
   ]
  },
  {
   "attachments": {},
   "cell_type": "markdown",
   "metadata": {},
   "source": [
    "## Re-evaluating the RMSE"
   ]
  },
  {
   "cell_type": "code",
   "execution_count": 11,
   "metadata": {},
   "outputs": [
    {
     "name": "stdout",
     "output_type": "stream",
     "text": [
      "RMSE=1.338326439415606\n"
     ]
    }
   ],
   "source": [
    "evaluator=RegressionEvaluator(metricName=\"rmse\",labelCol=\"stars\",predictionCol=\"prediction\")\n",
    "predictions=model.transform(test)\n",
    "rmse=evaluator.evaluate(predictions)\n",
    "print(\"RMSE=\"+str(rmse))"
   ]
  },
  {
   "cell_type": "code",
   "execution_count": 12,
   "metadata": {},
   "outputs": [],
   "source": [
    "als = ALS(maxIter=20,regParam=0.09,rank=25,userCol=\"user_id_index\",itemCol=\"business_id_index\",ratingCol=\"stars\",coldStartStrategy=\"drop\",nonnegative=True)\n",
    "model = als.fit(training)"
   ]
  },
  {
   "cell_type": "code",
   "execution_count": 13,
   "metadata": {},
   "outputs": [
    {
     "name": "stdout",
     "output_type": "stream",
     "text": [
      "RMSE=1.3332946011859435\n"
     ]
    }
   ],
   "source": [
    "evaluator=RegressionEvaluator(metricName=\"rmse\",labelCol=\"stars\",predictionCol=\"prediction\")\n",
    "predictions=model.transform(test)\n",
    "rmse=evaluator.evaluate(predictions)\n",
    "print(\"RMSE=\"+str(rmse))"
   ]
  },
  {
   "attachments": {},
   "cell_type": "markdown",
   "metadata": {},
   "source": [
    "# Visual Recommendation"
   ]
  },
  {
   "cell_type": "code",
   "execution_count": 14,
   "metadata": {},
   "outputs": [
    {
     "name": "stdout",
     "output_type": "stream",
     "text": [
      "+--------------------+--------------------+-----+--------------------+\n",
      "|         business_id|             user_id|stars|          categories|\n",
      "+--------------------+--------------------+-----+--------------------+\n",
      "|ubLn_FrFygzcbhXTD...|0gZ8E5tBWTEtGEZDu...|  5.0|Restaurants, Cafe...|\n",
      "|zrnP9HqoF-RI9jqoW...|0gZ8E5tBWTEtGEZDu...|  5.0|Coffee & Tea, Res...|\n",
      "|yU3p0tEBtGuZLTcsB...|0gZ8E5tBWTEtGEZDu...|  5.0|Restaurants, Brea...|\n",
      "|tmWp4Rtr_cm7nCh2u...|0gZ8E5tBWTEtGEZDu...|  5.0|Breakfast & Brunc...|\n",
      "|vaURDGRo19cMB3Fy9...|0gZ8E5tBWTEtGEZDu...|  5.0|Restaurants, Coff...|\n",
      "|58APdML-PG_OD4El2...|0gZ8E5tBWTEtGEZDu...|  2.0|Delicatessen, Foo...|\n",
      "|ZL9sk7Imc42BNRhcj...|0gZ8E5tBWTEtGEZDu...|  4.0|Chinese, Restaura...|\n",
      "|lpnuObNKbkH8usnUS...|0gZ8E5tBWTEtGEZDu...|  4.0|Cafes, Coffee & T...|\n",
      "|q91nljuSDFl0IYRey...|0gZ8E5tBWTEtGEZDu...|  3.0|Vegan, Vegetarian...|\n",
      "|8cPMjIwTnrVm3F2wL...|0gZ8E5tBWTEtGEZDu...|  4.0|Vegan, Cafes, Veg...|\n",
      "|xlMgaPOpd_99SFTuO...|0gZ8E5tBWTEtGEZDu...|  4.0|Game Meat, Americ...|\n",
      "|vYbpodi9utup_njMK...|0gZ8E5tBWTEtGEZDu...|  4.0|Taiwanese, Restau...|\n",
      "|rCzYYVmZxty56Ej50...|0gZ8E5tBWTEtGEZDu...|  2.0|Flowers & Gifts, ...|\n",
      "|i2dnic7VdQ3NyiQQW...|0gZ8E5tBWTEtGEZDu...|  4.0|Restaurants, Brea...|\n",
      "|MsgfS1iJMpxVIUfO-...|0gZ8E5tBWTEtGEZDu...|  4.0| Korean, Restaurants|\n",
      "|46Ld9Qc9nAx_A0jwc...|0gZ8E5tBWTEtGEZDu...|  5.0|Bakeries, Cafes, ...|\n",
      "|ytD9rJ-jcb8zMUCfi...|0gZ8E5tBWTEtGEZDu...|  2.0|Restaurants, Fren...|\n",
      "|z1RYEzRQzhBKw0Pez...|0gZ8E5tBWTEtGEZDu...|  5.0|Mediterranean, Gr...|\n",
      "|9KeJfn7-6DFfUFoZL...|0gZ8E5tBWTEtGEZDu...|  4.0|Mexican, Bars, Ni...|\n",
      "|xidr6_d3fwKSb_XaB...|0gZ8E5tBWTEtGEZDu...|  4.0|Japanese, Sushi B...|\n",
      "+--------------------+--------------------+-----+--------------------+\n",
      "only showing top 20 rows\n",
      "\n",
      "+--------------------+-----+--------------------+--------------------+\n",
      "|         business_id|stars|          categories|                name|\n",
      "+--------------------+-----+--------------------+--------------------+\n",
      "|-JP761N6ad3aLsZXE...|  5.0|Cafes, Breakfast ...|             Au Ciel|\n",
      "|Wb9VqNZCq-ZgIlhb4...|  5.0| French, Restaurants|  Au Cinquième Péché|\n",
      "|m08WjSdWsFtZdhQqr...|  5.0|Brazilian, Restau...|Belém Café & Yoga...|\n",
      "|FCWzOHKnDzVFpRPbi...|  5.0|Restaurants, Port...|      Boca Boa Grill|\n",
      "|vaURDGRo19cMB3Fy9...|  5.0|Restaurants, Coff...|             Café 45|\n",
      "|tyKW94szLfysxvgjz...|  5.0|Food, Cafes, Coff...|           Café Lali|\n",
      "|Ta5kpjrbXBiYCEGrW...|  5.0|Coffee & Tea, Foo...|    Café l'Étincelle|\n",
      "|A_05gZ2QwayLb0YeQ...|  5.0| Restaurants, Indian|     Chennai Express|\n",
      "|wPF-aYk0RRA3oOOxV...|  5.0|Modern European, ...|         Chez Sophie|\n",
      "|Wqs41Jvy72capk3QN...|  5.0|Patisserie/Cake S...|              Hélico|\n",
      "|IUojbpjKoOb1_Rvyq...|  5.0|Canadian (New), R...|         Hélicoptère|\n",
      "|u-SvRRAfYgpbXZRfQ...|  4.0|Tapas/Small Plate...|             Imadake|\n",
      "|sxcIt1KsAyeZklKOL...|  2.0|Restaurants, Italian|             La Dora|\n",
      "|XfC14yDEix3_8NS5W...|  4.0|Restaurants, Cafe...|          Le Elsdale|\n",
      "|ghwcjmCP3SEGzVPpZ...|  5.0|Restaurants, Wine...|            Monopole|\n",
      "|LdD0yYLcHuamULrvZ...|  5.0| French, Restaurants|              Pégase|\n",
      "|FxAFcPLRwRpU6CBBo...|  4.0|  Pizza, Restaurants|   Ville Emard Pizza|\n",
      "|7K1i-fIbGgNjJwzom...|  4.0|Vegan, Organic St...|Vivalia Bistro Ex...|\n",
      "|LTZBaGJrBtJZ8C0yV...|  5.0|Sushi Bars, Resta...|             YeSushi|\n",
      "|X8lYvkI2Yv7f96cz4...|  5.0|French, Modern Eu...|       Île Flottante|\n",
      "+--------------------+-----+--------------------+--------------------+\n",
      "\n",
      "+--------------------+--------------------+-----+----------+\n",
      "|             user_id|         business_id|stars|prediction|\n",
      "+--------------------+--------------------+-----+----------+\n",
      "|KcZOGv_2fnDZyRTnf...|-1xuC540Nycht_iWF...|  4.0|  3.809492|\n",
      "|XZeFJAOFwmkw9rCeu...|0HJvV5cLxSN5uDgZU...|  5.0| 2.9700255|\n",
      "|oOfu-75wAzAoAPKzm...|0W4lkclzZThpx3V65...|  3.0| 3.9471703|\n",
      "|2av488ePvb-Z4qgeN...|25m6rM6hFw2CGADUj...|  4.0| 3.8988845|\n",
      "|_sEaXXa7gopr8xEK6...|2LOTz08OPRyA0ibJI...|  3.0| 4.6181407|\n",
      "|S6WAo9h7PHqUDbog6...|2vQGEfAj_8JXIjNO_...|  1.0| 1.2063221|\n",
      "|XP9aSaVhu_q1OCUtu...|3CUXYDDQtrrg0u7qG...|  4.0|  3.917436|\n",
      "|EPsWdQzalccFouFC4...|3f0-EXRF0oy6NDsFh...|  4.0| 4.2389526|\n",
      "|mJ6yNAm5x5-lyW7mk...|3jKUbhGSjFTv5jZ0w...|  4.0|  3.346433|\n",
      "|qeT7hJoZRtGuUuaL2...|3p0yosq4IE5E2B91P...|  5.0| 3.9378817|\n",
      "|2av488ePvb-Z4qgeN...|46Ld9Qc9nAx_A0jwc...|  4.0|  4.023604|\n",
      "|NbhqefRgs8bGq25NF...|46Ld9Qc9nAx_A0jwc...|  5.0| 3.5536525|\n",
      "|mJ6yNAm5x5-lyW7mk...|46Ld9Qc9nAx_A0jwc...|  4.0| 2.9664512|\n",
      "|2t40YYeCFM6FEa-gX...|58APdML-PG_OD4El2...|  5.0| 1.5943321|\n",
      "|XNiWeH_-FTKY9ceJK...|5GxZUyQRuysMMchkS...|  3.0| 3.3613358|\n",
      "|Wj_d_8NMCZjv13Z0k...|5PM5THfRcUcljcKRW...|  4.0|  2.099283|\n",
      "|W3o61WWDdvFXc0LUR...|5T6kFKFycym_GkhgO...|  4.0| 3.1557245|\n",
      "|ayzuc0rCgXXpyd0nA...|5T6kFKFycym_GkhgO...|  5.0| 2.9393737|\n",
      "|5A0v9_EPFhysm5Yj2...|5XX1w4WbwSlrACQ5v...|  5.0| 3.5118756|\n",
      "|qeT7hJoZRtGuUuaL2...|66LvqsvQ3niOFqJIP...|  4.0|  2.833055|\n",
      "+--------------------+--------------------+-----+----------+\n",
      "only showing top 20 rows\n",
      "\n"
     ]
    }
   ],
   "source": [
    "test = model.recommendForAllUsers(20).filter(col('user_id_index')==30).select(\"recommendations\").collect()\n",
    "topRestaurants = []\n",
    "for item in test[0][0]:        \n",
    "    topRestaurants.append(item.business_id_index)\n",
    "    \n",
    "schema = StructType([StructField(\"business_id_index\",IntegerType(),True)])\n",
    "restaurants = spark.createDataFrame(topRestaurants,IntegerType()).toDF(\"business_id_index\")\n",
    "\n",
    "\n",
    "transformed\\\n",
    ".select(['business_id', 'user_id', 'stars', 'categories'])\\\n",
    ".filter(col('user_id_index')==30)\\\n",
    ".show()\n",
    "\n",
    "restaurants\\\n",
    ".join(transformed, on = 'business_id_index', how = 'inner')\\\n",
    ".select(['business_id', 'stars', 'categories', 'name'])\\\n",
    ".drop_duplicates(subset=['name'])\\\n",
    ".show()\n",
    "\n",
    "predictions.select(['user_id', 'business_id', 'stars', 'prediction']).show()\n"
   ]
  }
 ],
 "metadata": {
  "kernelspec": {
   "display_name": "Python 3",
   "language": "python",
   "name": "python3"
  },
  "language_info": {
   "codemirror_mode": {
    "name": "ipython",
    "version": 3
   },
   "file_extension": ".py",
   "mimetype": "text/x-python",
   "name": "python",
   "nbconvert_exporter": "python",
   "pygments_lexer": "ipython3",
   "version": "3.10.10"
  }
 },
 "nbformat": 4,
 "nbformat_minor": 0
}
