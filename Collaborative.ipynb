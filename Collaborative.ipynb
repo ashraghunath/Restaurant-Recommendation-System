{
 "cells": [
  {
   "cell_type": "markdown",
   "metadata": {},
   "source": [
    "# Import Libraries"
   ]
  },
  {
   "cell_type": "code",
   "execution_count": 16,
   "metadata": {},
   "outputs": [],
   "source": [
    "\n",
    "from pyspark.ml.recommendation import ALS\n",
    "from pyspark.sql import SparkSession\n",
    "from pyspark.sql.functions import col\n",
    "from pyspark.ml.feature import StringIndexer\n",
    "from pyspark.ml import Pipeline\n",
    "from pyspark.ml.evaluation import RegressionEvaluator\n",
    "from pyspark.sql.types import StructType,StructField,IntegerType\n"
   ]
  },
  {
   "cell_type": "markdown",
   "metadata": {},
   "source": [
    "# Constants : Modify as and when required!"
   ]
  },
  {
   "cell_type": "code",
   "execution_count": 2,
   "metadata": {},
   "outputs": [],
   "source": [
    "# file paths\n",
    "business_file=\"Sample_Datasets/montreal_business/part-00000-b5f251d0-79e6-47a8-a405-042eb7b7894e-c000.snappy.parquet\"\n",
    "reviews_file=\"Sample_Datasets/montreal_reviews/part-00000-f0e4463e-0ac9-402e-b995-734cbefc958e-c000.snappy.parquet\"\n",
    "users_file=\"Sample_Datasets/montreal_users/part-00000-a7d49d78-89a7-478f-a577-0efe02dca047-c000.snappy.parquet\"\n"
   ]
  },
  {
   "cell_type": "markdown",
   "metadata": {},
   "source": [
    "# Initialize spark session"
   ]
  },
  {
   "cell_type": "code",
   "execution_count": 3,
   "metadata": {
    "jupyter": {
     "outputs_hidden": true
    }
   },
   "outputs": [],
   "source": [
    "app_name=\"Collaborative filtering for restaurant recommendation\"\n",
    "\n",
    "def init_spark():\n",
    "    spark = SparkSession \\\n",
    "        .builder \\\n",
    "        .appName(app_name) \\\n",
    "        .getOrCreate()\n",
    "    return spark\n"
   ]
  },
  {
   "cell_type": "markdown",
   "metadata": {},
   "source": [
    "# Load Dataset in Apache Spark"
   ]
  },
  {
   "cell_type": "code",
   "execution_count": 4,
   "metadata": {},
   "outputs": [],
   "source": [
    "spark=init_spark()\n",
    "business_df = spark.read.parquet(business_file)\n",
    "reviews_df=spark.read.parquet(reviews_file)\n",
    "users_df=spark.read.parquet(users_file)"
   ]
  },
  {
   "cell_type": "markdown",
   "metadata": {},
   "source": [
    "## Selecting required features\n",
    "\n",
    "In our project, we are only concerned with a subset of columns from the dataset, specifically those that are relevant to our goal of recommending restaurants in Montreal. Therefore, we extract the necessary features from the business_df table, including the id, name, stars, category. \n",
    "Similarly, we filter the reviews_df=spark.read.parquet(reviews_file)\n",
    " table to include only reviews for the selected restaurants by performing an inner join with business_df."
   ]
  },
  {
   "cell_type": "code",
   "execution_count": 5,
   "metadata": {},
   "outputs": [],
   "source": [
    "business_df = business_df.select(\"business_id\",\"name\", \"stars\", \n",
    "                                 \"review_count\", \"address\", \"city\", \"state\", \"postal_code\", \"longitude\", \n",
    "                                 \"categories\", \"latitude\").withColumnRenamed(\"stars\", \"stars_restaurant\")\n",
    "reviews_df = reviews_df.join(business_df, on='business_id', how='inner')"
   ]
  },
  {
   "cell_type": "markdown",
   "metadata": {},
   "source": [
    "## Preparing Data for ALS: Convert String to index\n",
    "Prior to initiating the modeling process, it is essential to transform all the relevant columns to integer type for compatibility with the ALS model from pyspark. The columns requiring conversion are the business_id and user_id. We accomplish this by leveraging the StringIndexer function, which we imported from pyspark.ml.feature."
   ]
  },
  {
   "cell_type": "code",
   "execution_count": 6,
   "metadata": {},
   "outputs": [
    {
     "data": {
      "text/plain": [
       "DataFrame[business_id: string, user_id: string, business_id_index: double, user_id_index: double, stars: double, categories: string]"
      ]
     },
     "execution_count": 6,
     "metadata": {},
     "output_type": "execute_result"
    }
   ],
   "source": [
    "indexer = [StringIndexer(inputCol=column, outputCol=column+\"_index\") for column in ['business_id', 'user_id']]\n",
    "pipeline = Pipeline(stages=indexer)\n",
    "transformed = pipeline.fit(reviews_df).transform(reviews_df)\n",
    "transformed.select(['business_id', 'user_id','business_id_index', 'user_id_index','stars','categories'])"
   ]
  },
  {
   "cell_type": "markdown",
   "metadata": {},
   "source": [
    "## Spliting the dataset into training and testing subsets "
   ]
  },
  {
   "cell_type": "code",
   "execution_count": 7,
   "metadata": {},
   "outputs": [],
   "source": [
    "(training, test) = transformed.randomSplit([0.8, 0.2])"
   ]
  },
  {
   "cell_type": "markdown",
   "metadata": {},
   "source": [
    "## Create ALS model\n",
    "The Apache Spark library provides various parameters for the ALS (Alternating Least Squares) algorithm, including:\n",
    "\n",
    "- numBlocks*: the number of blocks used to partition users and items, allowing for parallelized computation (default value: 10).\n",
    "- rank: the number of latent factors used in the model (default value: 10).\n",
    "- maxIter: the maximum number of iterations to run (default value: 10).\n",
    "- regParam: the regularization parameter used in ALS (default value: 1.0).\n",
    "- implicitPrefs: a boolean value that indicates whether to use the explicit feedback ALS variant or the one adapted for implicit feedback data (default value: false, which means using explicit feedback).\n",
    "- alpha: a parameter that applies to the implicit feedback variant of ALS, determining the baseline confidence in preference observations (default value: 1.0).\n",
    "- nonnegative: a boolean value that specifies whether to use nonnegative constraints for least squares (default value: false)."
   ]
  },
  {
   "cell_type": "code",
   "execution_count": 8,
   "metadata": {},
   "outputs": [],
   "source": [
    "als=ALS(maxIter=5,\n",
    "        regParam=0.09,\n",
    "        rank=20,\n",
    "        userCol=\"user_id_index\",\n",
    "        itemCol=\"business_id_index\",\n",
    "        ratingCol=\"stars\",\n",
    "        coldStartStrategy=\"drop\",\n",
    "        nonnegative=True)\n",
    "\n",
    "model=als.fit(training)"
   ]
  },
  {
   "cell_type": "markdown",
   "metadata": {},
   "source": [
    "## Evaluate RMSE"
   ]
  },
  {
   "cell_type": "code",
   "execution_count": 9,
   "metadata": {},
   "outputs": [
    {
     "name": "stdout",
     "output_type": "stream",
     "text": [
      "RMSE=1.434926418249676\n"
     ]
    }
   ],
   "source": [
    "evaluator=RegressionEvaluator(metricName=\"rmse\",labelCol=\"stars\",predictionCol=\"prediction\")\n",
    "predictions=model.transform(test)\n",
    "rmse=evaluator.evaluate(predictions)\n",
    "print(\"RMSE=\"+str(rmse))"
   ]
  },
  {
   "cell_type": "markdown",
   "metadata": {},
   "source": [
    "## Tuning Hyper Parameters"
   ]
  },
  {
   "cell_type": "code",
   "execution_count": 10,
   "metadata": {},
   "outputs": [],
   "source": [
    "als = ALS(maxIter=20,regParam=0.09,rank=20,userCol=\"user_id_index\",itemCol=\"business_id_index\",ratingCol=\"stars\",coldStartStrategy=\"drop\",nonnegative=True)\n",
    "model = als.fit(training)"
   ]
  },
  {
   "cell_type": "markdown",
   "metadata": {},
   "source": [
    "## Re-evaluating the RMSE"
   ]
  },
  {
   "cell_type": "code",
   "execution_count": 11,
   "metadata": {},
   "outputs": [
    {
     "name": "stdout",
     "output_type": "stream",
     "text": [
      "RMSE=1.3274531607798559\n"
     ]
    }
   ],
   "source": [
    "evaluator=RegressionEvaluator(metricName=\"rmse\",labelCol=\"stars\",predictionCol=\"prediction\")\n",
    "predictions=model.transform(test)\n",
    "rmse=evaluator.evaluate(predictions)\n",
    "print(\"RMSE=\"+str(rmse))"
   ]
  },
  {
   "cell_type": "code",
   "execution_count": 12,
   "metadata": {},
   "outputs": [],
   "source": [
    "als = ALS(maxIter=20,regParam=0.09,rank=25,userCol=\"user_id_index\",itemCol=\"business_id_index\",ratingCol=\"stars\",coldStartStrategy=\"drop\",nonnegative=True)\n",
    "model = als.fit(training)"
   ]
  },
  {
   "cell_type": "code",
   "execution_count": 13,
   "metadata": {},
   "outputs": [
    {
     "name": "stdout",
     "output_type": "stream",
     "text": [
      "RMSE=1.3203002591166286\n"
     ]
    }
   ],
   "source": [
    "evaluator=RegressionEvaluator(metricName=\"rmse\",labelCol=\"stars\",predictionCol=\"prediction\")\n",
    "predictions=model.transform(test)\n",
    "rmse=evaluator.evaluate(predictions)\n",
    "print(\"RMSE=\"+str(rmse))"
   ]
  },
  {
   "cell_type": "code",
   "execution_count": 18,
   "metadata": {},
   "outputs": [
    {
     "name": "stdout",
     "output_type": "stream",
     "text": [
      "RMSE=1.3135701618608278\n",
      "+---+--------------------+\n",
      "| id|            features|\n",
      "+---+--------------------+\n",
      "|  0|[0.08475044, 0.32...|\n",
      "| 10|[0.039891027, 0.2...|\n",
      "| 20|[0.0, 0.7926421, ...|\n",
      "| 30|[0.14940283, 0.0,...|\n",
      "| 40|[0.8311785, 0.609...|\n",
      "+---+--------------------+\n",
      "only showing top 5 rows\n",
      "\n",
      "+---+--------------------+\n",
      "| id|            features|\n",
      "+---+--------------------+\n",
      "|  0|[0.35971346, 0.0,...|\n",
      "| 10|[0.2973045, 0.450...|\n",
      "| 20|[0.22406562, 0.0,...|\n",
      "| 30|[0.021552948, 0.6...|\n",
      "| 40|[0.24506533, 0.10...|\n",
      "+---+--------------------+\n",
      "only showing top 5 rows\n",
      "\n",
      "RMSE=1.2827213344121091\n",
      "+---+--------------------+\n",
      "| id|            features|\n",
      "+---+--------------------+\n",
      "|  0|[0.10004348, 0.42...|\n",
      "| 10|[0.06013503, 0.18...|\n",
      "| 20|[0.0, 0.85305494,...|\n",
      "| 30|[0.3770215, 0.139...|\n",
      "| 40|[0.8451951, 0.625...|\n",
      "+---+--------------------+\n",
      "only showing top 5 rows\n",
      "\n",
      "+---+--------------------+\n",
      "| id|            features|\n",
      "+---+--------------------+\n",
      "|  0|[0.3731065, 0.112...|\n",
      "| 10|[0.2706792, 0.565...|\n",
      "| 20|[0.28512594, 0.0,...|\n",
      "| 30|[0.16639726, 0.63...|\n",
      "| 40|[0.2370207, 0.254...|\n",
      "+---+--------------------+\n",
      "only showing top 5 rows\n",
      "\n",
      "RMSE=1.2600229581710998\n",
      "+---+--------------------+\n",
      "| id|            features|\n",
      "+---+--------------------+\n",
      "|  0|[0.16426031, 0.39...|\n",
      "| 10|[0.08243527, 0.17...|\n",
      "| 20|[0.0, 0.6672918, ...|\n",
      "| 30|[0.35227317, 0.31...|\n",
      "| 40|[0.6688325, 0.529...|\n",
      "+---+--------------------+\n",
      "only showing top 5 rows\n",
      "\n",
      "+---+--------------------+\n",
      "| id|            features|\n",
      "+---+--------------------+\n",
      "|  0|[0.2823276, 0.171...|\n",
      "| 10|[0.3195114, 0.702...|\n",
      "| 20|[0.3259955, 0.004...|\n",
      "| 30|[0.20288536, 0.59...|\n",
      "| 40|[0.2624526, 0.301...|\n",
      "+---+--------------------+\n",
      "only showing top 5 rows\n",
      "\n",
      "RMSE=1.245740777433531\n",
      "+---+--------------------+\n",
      "| id|            features|\n",
      "+---+--------------------+\n",
      "|  0|[0.2084874, 0.395...|\n",
      "| 10|[0.142232, 0.2319...|\n",
      "| 20|[0.0, 0.54949814,...|\n",
      "| 30|[0.265792, 0.4073...|\n",
      "| 40|[0.5486916, 0.494...|\n",
      "+---+--------------------+\n",
      "only showing top 5 rows\n",
      "\n",
      "+---+--------------------+\n",
      "| id|            features|\n",
      "+---+--------------------+\n",
      "|  0|[0.25516543, 0.25...|\n",
      "| 10|[0.3394852, 0.760...|\n",
      "| 20|[0.2836721, 0.059...|\n",
      "| 30|[0.21291411, 0.52...|\n",
      "| 40|[0.28595856, 0.30...|\n",
      "+---+--------------------+\n",
      "only showing top 5 rows\n",
      "\n",
      "RMSE=1.2379991492630005\n",
      "+---+--------------------+\n",
      "| id|            features|\n",
      "+---+--------------------+\n",
      "|  0|[0.2316444, 0.398...|\n",
      "| 10|[0.19788356, 0.29...|\n",
      "| 20|[0.05624219, 0.48...|\n",
      "| 30|[0.2395175, 0.420...|\n",
      "| 40|[0.5169416, 0.495...|\n",
      "+---+--------------------+\n",
      "only showing top 5 rows\n",
      "\n",
      "+---+--------------------+\n",
      "| id|            features|\n",
      "+---+--------------------+\n",
      "|  0|[0.26953068, 0.31...|\n",
      "| 10|[0.31356022, 0.76...|\n",
      "| 20|[0.2593661, 0.155...|\n",
      "| 30|[0.21893062, 0.51...|\n",
      "| 40|[0.3223668, 0.336...|\n",
      "+---+--------------------+\n",
      "only showing top 5 rows\n",
      "\n",
      "RMSE=1.2354988771341426\n",
      "+---+--------------------+\n",
      "| id|            features|\n",
      "+---+--------------------+\n",
      "|  0|[0.2418015, 0.393...|\n",
      "| 10|[0.2379132, 0.356...|\n",
      "| 20|[0.16902, 0.44355...|\n",
      "| 30|[0.25485504, 0.42...|\n",
      "| 40|[0.42760584, 0.46...|\n",
      "+---+--------------------+\n",
      "only showing top 5 rows\n",
      "\n",
      "+---+--------------------+\n",
      "| id|            features|\n",
      "+---+--------------------+\n",
      "|  0|[0.28284037, 0.38...|\n",
      "| 10|[0.2778562, 0.703...|\n",
      "| 20|[0.2432187, 0.352...|\n",
      "| 30|[0.2401216, 0.515...|\n",
      "| 40|[0.33150136, 0.44...|\n",
      "+---+--------------------+\n",
      "only showing top 5 rows\n",
      "\n",
      "RMSE=1.2394776034262847\n",
      "+---+--------------------+\n",
      "| id|            features|\n",
      "+---+--------------------+\n",
      "|  0|[0.23977353, 0.38...|\n",
      "| 10|[0.24018335, 0.36...|\n",
      "| 20|[0.20407991, 0.44...|\n",
      "| 30|[0.2618946, 0.420...|\n",
      "| 40|[0.37973374, 0.44...|\n",
      "+---+--------------------+\n",
      "only showing top 5 rows\n",
      "\n",
      "+---+--------------------+\n",
      "| id|            features|\n",
      "+---+--------------------+\n",
      "|  0|[0.2821596, 0.413...|\n",
      "| 10|[0.27300972, 0.65...|\n",
      "| 20|[0.24848819, 0.39...|\n",
      "| 30|[0.2555476, 0.492...|\n",
      "| 40|[0.3238188, 0.477...|\n",
      "+---+--------------------+\n",
      "only showing top 5 rows\n",
      "\n",
      "RMSE=1.2469181249854129\n",
      "+---+--------------------+\n",
      "| id|            features|\n",
      "+---+--------------------+\n",
      "|  0|[0.23772201, 0.38...|\n",
      "| 10|[0.24250689, 0.37...|\n",
      "| 20|[0.22960454, 0.43...|\n",
      "| 30|[0.26712307, 0.41...|\n",
      "| 40|[0.3407807, 0.431...|\n",
      "+---+--------------------+\n",
      "only showing top 5 rows\n",
      "\n",
      "+---+--------------------+\n",
      "| id|            features|\n",
      "+---+--------------------+\n",
      "|  0|[0.2812703, 0.434...|\n",
      "| 10|[0.2766184, 0.591...|\n",
      "| 20|[0.2548428, 0.414...|\n",
      "| 30|[0.26100075, 0.46...|\n",
      "| 40|[0.31757975, 0.48...|\n",
      "+---+--------------------+\n",
      "only showing top 5 rows\n",
      "\n",
      "RMSE=1.2469181249854129\n",
      "+---+--------------------+\n",
      "| id|            features|\n",
      "+---+--------------------+\n",
      "|  0|[0.23772201, 0.38...|\n",
      "| 10|[0.24250689, 0.37...|\n",
      "| 20|[0.22960454, 0.43...|\n",
      "| 30|[0.26712307, 0.41...|\n",
      "| 40|[0.3407807, 0.431...|\n",
      "+---+--------------------+\n",
      "only showing top 5 rows\n",
      "\n",
      "+---+--------------------+\n",
      "| id|            features|\n",
      "+---+--------------------+\n",
      "|  0|[0.2812703, 0.434...|\n",
      "| 10|[0.2766184, 0.591...|\n",
      "| 20|[0.2548428, 0.414...|\n",
      "| 30|[0.26100075, 0.46...|\n",
      "| 40|[0.31757975, 0.48...|\n",
      "+---+--------------------+\n",
      "only showing top 5 rows\n",
      "\n",
      "RMSE=1.2725972268106254\n",
      "+---+--------------------+\n",
      "| id|            features|\n",
      "+---+--------------------+\n",
      "|  0|[0.23565029, 0.37...|\n",
      "| 10|[0.24964172, 0.39...|\n",
      "| 20|[0.24566439, 0.40...|\n",
      "| 30|[0.26656505, 0.41...|\n",
      "| 40|[0.28711438, 0.41...|\n",
      "+---+--------------------+\n",
      "only showing top 5 rows\n",
      "\n",
      "+---+--------------------+\n",
      "| id|            features|\n",
      "+---+--------------------+\n",
      "|  0|[0.27858114, 0.44...|\n",
      "| 10|[0.28320307, 0.50...|\n",
      "| 20|[0.2656855, 0.410...|\n",
      "| 30|[0.26412404, 0.44...|\n",
      "| 40|[0.30255747, 0.46...|\n",
      "+---+--------------------+\n",
      "only showing top 5 rows\n",
      "\n",
      "RMSE=1.3109211378438457\n",
      "+---+--------------------+\n",
      "| id|            features|\n",
      "+---+--------------------+\n",
      "|  0|[0.23458321, 0.37...|\n",
      "| 10|[0.25504744, 0.40...|\n",
      "| 20|[0.24063721, 0.38...|\n",
      "| 30|[0.2605652, 0.406...|\n",
      "| 40|[0.26211122, 0.40...|\n",
      "+---+--------------------+\n",
      "only showing top 5 rows\n",
      "\n",
      "+---+--------------------+\n",
      "| id|            features|\n",
      "+---+--------------------+\n",
      "|  0|[0.27582136, 0.43...|\n",
      "| 10|[0.28181738, 0.46...|\n",
      "| 20|[0.26228237, 0.40...|\n",
      "| 30|[0.26713786, 0.43...|\n",
      "| 40|[0.28741616, 0.44...|\n",
      "+---+--------------------+\n",
      "only showing top 5 rows\n",
      "\n",
      "RMSE=1.3582777354662456\n",
      "+---+--------------------+\n",
      "| id|            features|\n",
      "+---+--------------------+\n",
      "|  0|[0.2327867, 0.366...|\n",
      "| 10|[0.25570643, 0.40...|\n",
      "| 20|[0.23749559, 0.37...|\n",
      "| 30|[0.255697, 0.3992...|\n",
      "| 40|[0.25309762, 0.39...|\n",
      "+---+--------------------+\n",
      "only showing top 5 rows\n",
      "\n",
      "+---+--------------------+\n",
      "| id|            features|\n",
      "+---+--------------------+\n",
      "|  0|[0.27237114, 0.42...|\n",
      "| 10|[0.2782828, 0.447...|\n",
      "| 20|[0.25760865, 0.40...|\n",
      "| 30|[0.26690623, 0.42...|\n",
      "| 40|[0.2785701, 0.432...|\n",
      "+---+--------------------+\n",
      "only showing top 5 rows\n",
      "\n",
      "RMSE=1.4121575107737563\n",
      "+---+--------------------+\n",
      "| id|            features|\n",
      "+---+--------------------+\n",
      "|  0|[0.23018353, 0.36...|\n",
      "| 10|[0.25309765, 0.39...|\n",
      "| 20|[0.2350154, 0.367...|\n",
      "| 30|[0.251836, 0.3925...|\n",
      "| 40|[0.24925205, 0.39...|\n",
      "+---+--------------------+\n",
      "only showing top 5 rows\n",
      "\n",
      "+---+--------------------+\n",
      "| id|            features|\n",
      "+---+--------------------+\n",
      "|  0|[0.26889983, 0.42...|\n",
      "| 10|[0.27546957, 0.43...|\n",
      "| 20|[0.25506538, 0.40...|\n",
      "| 30|[0.26468545, 0.41...|\n",
      "| 40|[0.2732712, 0.423...|\n",
      "+---+--------------------+\n",
      "only showing top 5 rows\n",
      "\n"
     ]
    }
   ],
   "source": [
    "values=[0.1,0.15,0.2,0.25,0.3,0.4,0.45,0.5,0.5,0.6,0.7,0.8,0.9]\n",
    "for rm in values:\n",
    "    als = ALS(maxIter=20,regParam=rm,rank=25,userCol=\"user_id_index\",itemCol=\"business_id_index\",ratingCol=\"stars\",coldStartStrategy=\"drop\",nonnegative=True)\n",
    "    model = als.fit(training)\n",
    "    evaluator=RegressionEvaluator(metricName=\"rmse\",labelCol=\"stars\",predictionCol=\"prediction\")\n",
    "    predictions=model.transform(test)\n",
    "    rmse=evaluator.evaluate(predictions)\n",
    "    print(\"RMSE=\"+str(rmse))\n",
    "    model.userFactors.show(5)\n",
    "    model.itemFactors.show(5)"
   ]
  },
  {
   "cell_type": "markdown",
   "metadata": {},
   "source": [
    "# Find Best Recommendations"
   ]
  },
  {
   "cell_type": "code",
   "execution_count": 33,
   "metadata": {},
   "outputs": [
    {
     "name": "stdout",
     "output_type": "stream",
     "text": [
      "+--------------------+--------------------+-----+--------------------+\n",
      "|         business_id|             user_id|stars|          categories|\n",
      "+--------------------+--------------------+-----+--------------------+\n",
      "|ubLn_FrFygzcbhXTD...|0gZ8E5tBWTEtGEZDu...|  5.0|Restaurants, Cafe...|\n",
      "|zrnP9HqoF-RI9jqoW...|0gZ8E5tBWTEtGEZDu...|  5.0|Coffee & Tea, Res...|\n",
      "|yU3p0tEBtGuZLTcsB...|0gZ8E5tBWTEtGEZDu...|  5.0|Restaurants, Brea...|\n",
      "|tmWp4Rtr_cm7nCh2u...|0gZ8E5tBWTEtGEZDu...|  5.0|Breakfast & Brunc...|\n",
      "|vaURDGRo19cMB3Fy9...|0gZ8E5tBWTEtGEZDu...|  5.0|Restaurants, Coff...|\n",
      "|58APdML-PG_OD4El2...|0gZ8E5tBWTEtGEZDu...|  2.0|Delicatessen, Foo...|\n",
      "|ZL9sk7Imc42BNRhcj...|0gZ8E5tBWTEtGEZDu...|  4.0|Chinese, Restaura...|\n",
      "|lpnuObNKbkH8usnUS...|0gZ8E5tBWTEtGEZDu...|  4.0|Cafes, Coffee & T...|\n",
      "|q91nljuSDFl0IYRey...|0gZ8E5tBWTEtGEZDu...|  3.0|Vegan, Vegetarian...|\n",
      "|8cPMjIwTnrVm3F2wL...|0gZ8E5tBWTEtGEZDu...|  4.0|Vegan, Cafes, Veg...|\n",
      "|xlMgaPOpd_99SFTuO...|0gZ8E5tBWTEtGEZDu...|  4.0|Game Meat, Americ...|\n",
      "|vYbpodi9utup_njMK...|0gZ8E5tBWTEtGEZDu...|  4.0|Taiwanese, Restau...|\n",
      "|rCzYYVmZxty56Ej50...|0gZ8E5tBWTEtGEZDu...|  2.0|Flowers & Gifts, ...|\n",
      "|i2dnic7VdQ3NyiQQW...|0gZ8E5tBWTEtGEZDu...|  4.0|Restaurants, Brea...|\n",
      "|MsgfS1iJMpxVIUfO-...|0gZ8E5tBWTEtGEZDu...|  4.0| Korean, Restaurants|\n",
      "|46Ld9Qc9nAx_A0jwc...|0gZ8E5tBWTEtGEZDu...|  5.0|Bakeries, Cafes, ...|\n",
      "|ytD9rJ-jcb8zMUCfi...|0gZ8E5tBWTEtGEZDu...|  2.0|Restaurants, Fren...|\n",
      "|z1RYEzRQzhBKw0Pez...|0gZ8E5tBWTEtGEZDu...|  5.0|Mediterranean, Gr...|\n",
      "|9KeJfn7-6DFfUFoZL...|0gZ8E5tBWTEtGEZDu...|  4.0|Mexican, Bars, Ni...|\n",
      "|xidr6_d3fwKSb_XaB...|0gZ8E5tBWTEtGEZDu...|  4.0|Japanese, Sushi B...|\n",
      "+--------------------+--------------------+-----+--------------------+\n",
      "only showing top 20 rows\n",
      "\n",
      "+--------------------+-----+--------------------+--------------------+\n",
      "|         business_id|stars|          categories|                name|\n",
      "+--------------------+-----+--------------------+--------------------+\n",
      "|G6x0RiA8mw6A1Alvl...|  5.0|Restaurants, Port...|     Bistro Le Porto|\n",
      "|ATssvRvJZ-KznqG83...|  5.0|Restaurants, Hung...|       Budapest Roma|\n",
      "|yR3kQdX-IbtaxxJf4...|  5.0|Restaurants, Food...|Cafe Aroma Panino...|\n",
      "|vaURDGRo19cMB3Fy9...|  5.0|Restaurants, Coff...|             Café 45|\n",
      "|nClBYSB2vFekGrFYx...|  5.0|Restaurants, Pizz...|        Café Solaris|\n",
      "|PaMk-YfbkRSlUw8df...|  3.0|Food, Restaurants...|          Chez Hwang|\n",
      "|Jbj4VGceJVKXOoN0z...|  4.0|Coffee & Tea, Res...|   Dessert Cafe Momo|\n",
      "|7ScWdpnwZyP6hJXxG...|  5.0|Breakfast & Brunc...|           Délicieux|\n",
      "|Ji2DEyYisIOKTjm57...|  5.0|Food, Tea Rooms, ...|              Hestia|\n",
      "|Wqs41Jvy72capk3QN...|  5.0|Patisserie/Cake S...|              Hélico|\n",
      "|IUojbpjKoOb1_Rvyq...|  5.0|Canadian (New), R...|         Hélicoptère|\n",
      "|L_ikuudEVAgQNKMcr...|  5.0|Italian, Restaura...|   Il Miglio Express|\n",
      "|vb91ALDyUVuaQRPio...|  5.0|Specialty Food, C...|              Kiffin|\n",
      "|ghwcjmCP3SEGzVPpZ...|  5.0|Restaurants, Wine...|            Monopole|\n",
      "|IShLrIQtlbW6WuWnh...|  5.0|Cafes, Shopping, ...|         Pastel Rita|\n",
      "|C3PK_1n4xHuC3eCo_...|  5.0|Sandwiches, Food,...|Patisserie & Boul...|\n",
      "|lLYN1L0JdnseIYa6U...|  5.0|Cafes, Sandwiches...|           Pinocchio|\n",
      "|FNpdDxFJkU6MVgvUN...|  5.0|Poke, Hawaiian, R...|            Poké Bol|\n",
      "|mRKTDhmeAt3oLYSsW...|  5.0|Restaurants, Cafe...|Pourquoi Pas Espr...|\n",
      "|63in7ND_-TPVVI_J1...|  4.0|Restaurants, Fren...|      Robin des Bois|\n",
      "+--------------------+-----+--------------------+--------------------+\n",
      "\n",
      "+--------------------+--------------------+-----+----------+\n",
      "|             user_id|         business_id|stars|prediction|\n",
      "+--------------------+--------------------+-----+----------+\n",
      "|alUuOskFSl1bODjnc...|-AgfhwHOYrsPKt-_x...|  4.0| 2.3541036|\n",
      "|f36zzHyedEUiXqLGg...|-iQdfdTpXa3Y-WC5O...|  5.0|  3.199243|\n",
      "|75Xtdm65_xnFXbL3v...|0W4lkclzZThpx3V65...|  5.0| 3.2438898|\n",
      "|C7o1LcGjQis0ICvsQ...|0W4lkclzZThpx3V65...|  4.0| 2.5896423|\n",
      "|oOfu-75wAzAoAPKzm...|1uPQTz5XZSWr0ti7k...|  4.0| 3.6163657|\n",
      "|oOfu-75wAzAoAPKzm...|2O8Hq2eQ0hGFywNFJ...|  3.0| 3.4895163|\n",
      "|vdFGNWOHa7v9cI9Xe...|2g11fsiujICqRft-G...|  5.0|  4.912422|\n",
      "|JjN7J10qDcalb_f61...|2vYRUAonMg9HBUDs3...|  4.0| 3.2389028|\n",
      "|8u44p29UMEnHsyDeD...|46Ld9Qc9nAx_A0jwc...|  5.0| 5.0756707|\n",
      "|NbhqefRgs8bGq25NF...|46Ld9Qc9nAx_A0jwc...|  5.0| 3.6394799|\n",
      "|lGBvmBDeIooqcrMwp...|5T6kFKFycym_GkhgO...|  4.0| 2.0738113|\n",
      "|HHNxYGvWyHBP-8kPQ...|677d4SLQEryJNM-FF...|  5.0| 3.0344408|\n",
      "|oOfu-75wAzAoAPKzm...|6WDaq9fe39J1THiWI...|  4.0| 2.8276346|\n",
      "|2av488ePvb-Z4qgeN...|6j7kmNdr0aods0C45...|  4.0| 3.7834084|\n",
      "|APqCAC4UX_stiTue-...|7mV10OWvWZlvQahmo...|  4.0| 3.1360629|\n",
      "|_jpt07tQlw3KOkTM0...|8xCiibfgqy-8xpCWE...|  5.0|  3.881149|\n",
      "|2t40YYeCFM6FEa-gX...|8zMjJcvixG6yqsaQF...|  2.0|  3.723166|\n",
      "|8kYheB6-El5SiMsxm...|9xSwne4GjwZ6Hlzdx...|  5.0| 1.9309381|\n",
      "|xpvXXjfUDVulJODsu...|AcsU1Dt_AI1MLAhct...|  3.0| 5.0292788|\n",
      "|S6WAo9h7PHqUDbog6...|Aiiq_DJlSsbJEAf_V...|  5.0| 3.8044832|\n",
      "+--------------------+--------------------+-----+----------+\n",
      "only showing top 20 rows\n",
      "\n"
     ]
    }
   ],
   "source": [
    "\n",
    "test = model.recommendForAllUsers(20).filter(col('user_id_index')==30).select(\"recommendations\").collect()\n",
    "topRestaurants = []\n",
    "for item in test[0][0]:        \n",
    "    topRestaurants.append(item.business_id_index)\n",
    "    \n",
    "schema = StructType([StructField(\"business_id_index\",IntegerType(),True)])\n",
    "restaurants = spark.createDataFrame(topRestaurants,IntegerType()).toDF(\"business_id_index\")\n",
    "\n",
    "\n",
    "transformed\\\n",
    ".select(['business_id', 'user_id', 'stars', 'categories'])\\\n",
    ".filter(col('user_id_index')==30)\\\n",
    ".show()\n",
    "\n",
    "restaurants\\\n",
    ".join(transformed, on = 'business_id_index', how = 'inner')\\\n",
    ".select(['business_id', 'stars', 'categories', 'name'])\\\n",
    ".drop_duplicates(subset=['name'])\\\n",
    ".show()\n",
    "\n",
    "predictions.select(['user_id', 'business_id', 'stars', 'prediction']).show()\n"
   ]
  }
 ],
 "metadata": {
  "kernelspec": {
   "display_name": "Python 3 (ipykernel)",
   "language": "python",
   "name": "python3"
  },
  "language_info": {
   "codemirror_mode": {
    "name": "ipython",
    "version": 3
   },
   "file_extension": ".py",
   "mimetype": "text/x-python",
   "name": "python",
   "nbconvert_exporter": "python",
   "pygments_lexer": "ipython3",
   "version": "3.10.0"
  }
 },
 "nbformat": 4,
 "nbformat_minor": 4
}
