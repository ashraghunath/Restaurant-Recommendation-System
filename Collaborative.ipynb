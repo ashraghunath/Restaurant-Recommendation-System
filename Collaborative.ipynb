{
 "cells": [
  {
   "cell_type": "markdown",
   "metadata": {},
   "source": [
    "# Import Libraries"
   ]
  },
  {
   "cell_type": "code",
   "execution_count": 1,
   "metadata": {},
   "outputs": [],
   "source": [
    "\n",
    "from pyspark.ml.recommendation import ALS\n",
    "from pyspark.sql import SparkSession\n",
    "from pyspark.sql.functions import col\n",
    "from pyspark.ml.feature import StringIndexer\n",
    "from pyspark.ml import Pipeline\n",
    "from pyspark.ml.evaluation import RegressionEvaluator\n",
    "from pyspark.sql.types import StructType,StructField,IntegerType\n",
    "from pyspark.sql.functions import stddev,mean,avg,lit"
   ]
  },
  {
   "cell_type": "markdown",
   "metadata": {},
   "source": [
    "# Constants : Modify as and when required!"
   ]
  },
  {
   "cell_type": "code",
   "execution_count": 2,
   "metadata": {},
   "outputs": [],
   "source": [
    "# file paths\n",
    "business_file=\"Sample_Datasets/montreal_business/part-00000-b5f251d0-79e6-47a8-a405-042eb7b7894e-c000.snappy.parquet\"\n",
    "reviews_file=\"Sample_Datasets/montreal_reviews/part-00000-f0e4463e-0ac9-402e-b995-734cbefc958e-c000.snappy.parquet\"\n",
    "users_file=\"Sample_Datasets/montreal_users/part-00000-a7d49d78-89a7-478f-a577-0efe02dca047-c000.snappy.parquet\"\n"
   ]
  },
  {
   "cell_type": "markdown",
   "metadata": {},
   "source": [
    "# Initialize spark session"
   ]
  },
  {
   "cell_type": "code",
   "execution_count": 3,
   "metadata": {
    "jupyter": {
     "outputs_hidden": true
    }
   },
   "outputs": [],
   "source": [
    "app_name=\"Collaborative filtering for restaurant recommendation\"\n",
    "\n",
    "def init_spark():\n",
    "    spark = SparkSession \\\n",
    "        .builder \\\n",
    "        .appName(app_name) \\\n",
    "        .getOrCreate()\n",
    "    return spark\n"
   ]
  },
  {
   "cell_type": "markdown",
   "metadata": {},
   "source": [
    "# Load Dataset in Apache Spark"
   ]
  },
  {
   "cell_type": "code",
   "execution_count": 4,
   "metadata": {},
   "outputs": [],
   "source": [
    "spark=init_spark()\n",
    "business_df = spark.read.parquet(business_file)\n",
    "reviews_df=spark.read.parquet(reviews_file)\n",
    "users_df=spark.read.parquet(users_file)"
   ]
  },
  {
   "cell_type": "markdown",
   "metadata": {},
   "source": [
    "## Selecting required features\n",
    "\n",
    "In our project, we are only concerned with a subset of columns from the dataset, specifically those that are relevant to our goal of recommending restaurants in Montreal. Therefore, we extract the necessary features from the business_df table, including the id, name, stars, category. \n",
    "Similarly, we filter the reviews_df table to include only reviews for the selected restaurants by performing an inner join with business_df."
   ]
  },
  {
   "cell_type": "code",
   "execution_count": 5,
   "metadata": {},
   "outputs": [],
   "source": [
    "business_df = business_df.select(\"business_id\",\"name\", \"stars\", \n",
    "                                 \"review_count\", \"address\", \"city\", \"state\", \"postal_code\", \"longitude\", \n",
    "                                 \"categories\", \"latitude\").withColumnRenamed(\"stars\", \"stars_restaurant\")\n",
    "reviews_df = reviews_df.join(business_df, on='business_id', how='inner')"
   ]
  },
  {
   "cell_type": "markdown",
   "metadata": {},
   "source": [
    "## Preparing Data for ALS: Convert String to index\n",
    "Prior to initiating the modeling process, it is essential to transform all the relevant columns to integer type for compatibility with the ALS model from pyspark. The columns requiring conversion are the business_id and user_id. We accomplish this by leveraging the StringIndexer function, which we imported from pyspark.ml.feature."
   ]
  },
  {
   "cell_type": "code",
   "execution_count": 6,
   "metadata": {},
   "outputs": [
    {
     "data": {
      "text/plain": [
       "DataFrame[business_id: string, user_id: string, business_id_index: double, user_id_index: double, stars: double, categories: string]"
      ]
     },
     "execution_count": 6,
     "metadata": {},
     "output_type": "execute_result"
    }
   ],
   "source": [
    "indexer = [StringIndexer(inputCol=column, outputCol=column+\"_index\") for column in ['business_id', 'user_id']]\n",
    "pipeline = Pipeline(stages=indexer)\n",
    "transformed = pipeline.fit(reviews_df).transform(reviews_df)\n",
    "transformed.select(['business_id', 'user_id','business_id_index', 'user_id_index','stars','categories'])"
   ]
  },
  {
   "cell_type": "markdown",
   "metadata": {},
   "source": [
    "## Spliting the dataset into training and testing subsets "
   ]
  },
  {
   "cell_type": "markdown",
   "metadata": {},
   "source": [
    "Setting a seed value as 3 to make randomsplit output deterministic"
   ]
  },
  {
   "cell_type": "code",
   "execution_count": 7,
   "metadata": {},
   "outputs": [],
   "source": [
    "(training, test) = transformed.randomSplit([0.8, 0.2],3)"
   ]
  },
  {
   "cell_type": "code",
   "execution_count": 8,
   "metadata": {},
   "outputs": [
    {
     "name": "stdout",
     "output_type": "stream",
     "text": [
      "Global Average: 3.8922836512555232\n"
     ]
    }
   ],
   "source": [
    "# Compute the global mean\n",
    "global_mean = training.agg(avg('stars')).collect()[0][0]\n",
    "print(\"Global Average:\",str(global_mean))\n"
   ]
  },
  {
   "cell_type": "markdown",
   "metadata": {},
   "source": [
    "# Prediction using global average for comparison"
   ]
  },
  {
   "cell_type": "code",
   "execution_count": 9,
   "metadata": {},
   "outputs": [
    {
     "name": "stdout",
     "output_type": "stream",
     "text": [
      "Root-mean-square error = 1.2260849010325352\n"
     ]
    }
   ],
   "source": [
    "#Evaluate the root mean squared error if we use the global average as a prediction for all rating, Our model should perform better than this\n",
    "\n",
    "test_avg = test.withColumn('prediction',lit(global_mean))\n",
    "    \n",
    "evaluator = RegressionEvaluator(metricName=\"rmse\", labelCol=\"stars\",predictionCol=\"prediction\")\n",
    "rmse = evaluator.evaluate(test_avg)\n",
    "\n",
    "print(\"Root-mean-square error = \" + str(rmse))\n"
   ]
  },
  {
   "cell_type": "markdown",
   "metadata": {},
   "source": [
    "## Basic ALS model\n",
    "The Apache Spark library provides various parameters for the ALS (Alternating Least Squares) algorithm, including:\n",
    "\n",
    "- rank: the number of latent factors used in the model (default value: 10).\n",
    "- maxIter: the maximum number of iterations to run (default value: 10).\n",
    "- regParam: the regularization parameter used in ALS (default value: 1.0).\n",
    "- implicitPrefs: a boolean value that indicates whether to use the explicit feedback ALS variant or the one adapted for implicit feedback data (default value: false, which means using explicit feedback).\n",
    "- alpha: a parameter that applies to the implicit feedback variant of ALS, determining the baseline confidence in preference observations (default value: 1.0).\n",
    "- nonnegative: a boolean value that specifies whether to use nonnegative constraints for least squares (default value: false)."
   ]
  },
  {
   "cell_type": "code",
   "execution_count": 10,
   "metadata": {},
   "outputs": [
    {
     "data": {
      "text/plain": [
       "ALS_9718f70bc14f"
      ]
     },
     "execution_count": 10,
     "metadata": {},
     "output_type": "execute_result"
    }
   ],
   "source": [
    "\n",
    "#ALS model with default values\n",
    "als=ALS(userCol=\"user_id_index\",itemCol=\"business_id_index\",ratingCol=\"stars\",coldStartStrategy=\"drop\",nonnegative=True)\n",
    "als.setSeed(2)"
   ]
  },
  {
   "cell_type": "code",
   "execution_count": 11,
   "metadata": {},
   "outputs": [],
   "source": [
    "#train the default model\n",
    "model=als.fit(training)"
   ]
  },
  {
   "cell_type": "code",
   "execution_count": 12,
   "metadata": {},
   "outputs": [],
   "source": [
    "# predict the stars for test set \n",
    "predictions=model.transform(test)"
   ]
  },
  {
   "cell_type": "code",
   "execution_count": 13,
   "metadata": {},
   "outputs": [
    {
     "name": "stdout",
     "output_type": "stream",
     "text": [
      "RMSE=1.3534108396501865\n"
     ]
    }
   ],
   "source": [
    "#evaludate default model\n",
    "evaluator=RegressionEvaluator(metricName=\"rmse\",labelCol=\"stars\",predictionCol=\"prediction\")\n",
    "rmse=evaluator.evaluate(predictions)\n",
    "print(\"RMSE=\"+str(rmse))"
   ]
  },
  {
   "cell_type": "markdown",
   "metadata": {},
   "source": [
    "## Tuning Hyper Parameters"
   ]
  },
  {
   "cell_type": "code",
   "execution_count": 14,
   "metadata": {},
   "outputs": [
    {
     "name": "stdout",
     "output_type": "stream",
     "text": [
      "RMSE with latent factor 5 is=1.3524617852548462\n",
      "RMSE with latent factor 30 is=1.3238220621391399\n",
      "RMSE with latent factor 50 is=1.3182668564134457\n",
      "RMSE with latent factor 100 is=1.3092697928682182\n"
     ]
    }
   ],
   "source": [
    "ranks=[5,30,50,100]\n",
    "for rank in ranks:\n",
    "    als = ALS(rank=rank,userCol=\"user_id_index\",itemCol=\"business_id_index\",ratingCol=\"stars\",coldStartStrategy=\"drop\",nonnegative=True)\n",
    "    als.setSeed(2)\n",
    "    model = als.fit(training)\n",
    "    evaluator=RegressionEvaluator(metricName=\"rmse\",labelCol=\"stars\",predictionCol=\"prediction\")\n",
    "    predictions=model.transform(test)\n",
    "    rmse=evaluator.evaluate(predictions)\n",
    "    print(\"RMSE with latent factor \"+str(rank) +\" is=\"+str(rmse))\n",
    "    "
   ]
  },
  {
   "cell_type": "markdown",
   "metadata": {},
   "source": [
    "Final model "
   ]
  },
  {
   "cell_type": "code",
   "execution_count": 15,
   "metadata": {},
   "outputs": [
    {
     "name": "stdout",
     "output_type": "stream",
     "text": [
      "RMSE=1.2362356753952617\n",
      "Given ratings vs Predicted ratings\n",
      "+--------------------+--------------------+-----+----------+\n",
      "|             user_id|         business_id|stars|prediction|\n",
      "+--------------------+--------------------+-----+----------+\n",
      "|FdMNvBDX--D_MWuu5...|-1xuC540Nycht_iWF...|  5.0| 4.1148996|\n",
      "|FdMNvBDX--D_MWuu5...|1uPQTz5XZSWr0ti7k...|  4.0|  3.945095|\n",
      "|FdMNvBDX--D_MWuu5...|8dNuvBvySG2FxFdEw...|  3.0| 2.8763595|\n",
      "|FdMNvBDX--D_MWuu5...|Dfbjw4uixn84JIF3G...|  4.0| 4.2694216|\n",
      "|FdMNvBDX--D_MWuu5...|EjS8cFHBK_rvgXqfE...|  4.0|  4.601696|\n",
      "|FdMNvBDX--D_MWuu5...|O1P4x0RgJWb6Waetk...|  4.0|  4.119071|\n",
      "|FdMNvBDX--D_MWuu5...|Ok9vikKusbG_Ue9pJ...|  4.0| 3.8579445|\n",
      "|FdMNvBDX--D_MWuu5...|QUxiY29dWzLhKgaOe...|  3.0| 4.1098213|\n",
      "|FdMNvBDX--D_MWuu5...|Tv70ZOXji7yCfsoe-...|  5.0| 4.4358563|\n",
      "|FdMNvBDX--D_MWuu5...|U5XCBcTtiNyasdT3A...|  5.0|  4.101814|\n",
      "|FdMNvBDX--D_MWuu5...|YbnqifugnZUrye6Nz...|  4.0|  4.672397|\n",
      "|FdMNvBDX--D_MWuu5...|dKRuSDoP7r_Qn48uS...|  5.0| 4.1576047|\n",
      "|FdMNvBDX--D_MWuu5...|ey9c-TjWXgTJ5OlD0...|  4.0| 3.8840442|\n",
      "|FdMNvBDX--D_MWuu5...|gYAM9MZ_s-YKIUZSZ...|  4.0| 3.1836863|\n",
      "|FdMNvBDX--D_MWuu5...|gxMa7j1LXIUxxBoP0...|  4.0|  4.369994|\n",
      "|FdMNvBDX--D_MWuu5...|i2dnic7VdQ3NyiQQW...|  5.0|  4.046452|\n",
      "|FdMNvBDX--D_MWuu5...|i8x1ZPvmdYGu6yH_w...|  5.0| 3.9426787|\n",
      "|FdMNvBDX--D_MWuu5...|nyq5XmvPAZYbbXZsD...|  3.0|  3.911894|\n",
      "|FdMNvBDX--D_MWuu5...|o-iA5uNnngAYHX6Zs...|  5.0| 4.3389506|\n",
      "|FdMNvBDX--D_MWuu5...|o99TYf1ZOVM1j9gWw...|  5.0|  3.803107|\n",
      "+--------------------+--------------------+-----+----------+\n",
      "only showing top 20 rows\n",
      "\n"
     ]
    }
   ],
   "source": [
    "als = ALS(maxIter=20,regParam=0.4,rank=100,userCol=\"user_id_index\",itemCol=\"business_id_index\",ratingCol=\"stars\",coldStartStrategy=\"drop\",nonnegative=True)\n",
    "als.setSeed(2)\n",
    "model = als.fit(training)\n",
    "evaluator=RegressionEvaluator(metricName=\"rmse\",labelCol=\"stars\",predictionCol=\"prediction\")\n",
    "predictions=model.transform(test)\n",
    "rmse=evaluator.evaluate(predictions)\n",
    "print(\"RMSE=\"+str(rmse))\n",
    "print(\"Given ratings vs Predicted ratings\")\n",
    "predictions.select(['user_id', 'business_id', 'stars', 'prediction']).show()\n"
   ]
  },
  {
   "cell_type": "code",
   "execution_count": 16,
   "metadata": {},
   "outputs": [
    {
     "name": "stdout",
     "output_type": "stream",
     "text": [
      "Standard deviation of predictions: 0.7501112244849435\n",
      "Standard deviation of stars: 1.1406615072644828\n",
      "Mean of predictions: 3.3752867230158388\n",
      "Mean of stars: 3.8865761405816848\n",
      "Standard Deviation ratio  0.6576107107215785\n"
     ]
    }
   ],
   "source": [
    "std_dev = predictions.select(stddev('prediction')).collect()[0][0]\n",
    "print('Standard deviation of predictions:', std_dev)\n",
    "\n",
    "std_dev_stars = predictions.select(stddev('stars')).collect()[0][0]\n",
    "print('Standard deviation of stars:', std_dev_stars)\n",
    "\n",
    "mean_prediction = predictions.select(mean('prediction')).collect()[0][0]\n",
    "print('Mean of predictions:', mean_prediction)\n",
    "\n",
    "mean_stars = predictions.select(mean('stars')).collect()[0][0]\n",
    "print('Mean of stars:', mean_stars)\n",
    "\n",
    "print('Standard Deviation ratio ', std_dev/std_dev_stars)"
   ]
  },
  {
   "cell_type": "markdown",
   "metadata": {},
   "source": [
    "ALS Model With Bias"
   ]
  },
  {
   "cell_type": "code",
   "execution_count": 21,
   "metadata": {},
   "outputs": [
    {
     "name": "stdout",
     "output_type": "stream",
     "text": [
      "+-----+------------------+-----------------+---------------------+\n",
      "|stars|         user_mean|        item_mean|user_item_interaction|\n",
      "+-----+------------------+-----------------+---------------------+\n",
      "|  5.0|3.9722222222222223| 3.58974358974359|    1.330317839289711|\n",
      "|  4.0|               4.0|2.769230769230769|    1.123052882024754|\n",
      "|  1.0|               3.0|3.513888888888889|   -1.621605237633366|\n",
      "|  1.0|3.7777777777777777|           2.1875|  -1.0729941265222545|\n",
      "|  5.0| 4.095238095238095| 4.08641975308642|   0.7106258029310082|\n",
      "|  1.0|               1.0|           2.1875|   1.7047836512555232|\n",
      "|  3.0|  4.12962962962963|4.083333333333333|  -1.3206793117074396|\n",
      "|  5.0|  4.12962962962963|4.659574468085107|  0.10307955354078668|\n",
      "|  5.0| 4.166666666666667| 4.51063829787234|    0.214978686716516|\n",
      "|  5.0|               3.0| 3.58974358974359|   2.3025400615119334|\n",
      "+-----+------------------+-----------------+---------------------+\n",
      "only showing top 10 rows\n",
      "\n"
     ]
    }
   ],
   "source": [
    "# Compute user mean and item mean on the training set\n",
    "user_mean = training.groupBy('user_id_index').agg(avg('stars').alias('user_mean'))\n",
    "item_mean = training.groupBy('business_id_index').agg(avg('stars').alias('item_mean'))\n",
    "#remove bias from training set\n",
    "interactions = training.join(user_mean, 'user_id_index').join(item_mean, 'business_id_index')\n",
    "interactions = interactions.withColumn('user_item_interaction', col('stars') - col('user_mean') - col('item_mean') + global_mean)\n",
    "interactions.select('stars','user_mean','item_mean','user_item_interaction').show(10)"
   ]
  },
  {
   "cell_type": "code",
   "execution_count": 23,
   "metadata": {},
   "outputs": [
    {
     "name": "stdout",
     "output_type": "stream",
     "text": [
      "RMSE with latent factor 5 is=1.1861574341304963\n",
      "RMSE with latent factor 10 is=1.18501689628477\n",
      "RMSE with latent factor 30 is=1.1821426821686394\n",
      "RMSE with latent factor 50 is=1.1818901204888033\n",
      "RMSE with latent factor 100 is=1.180330526154049\n"
     ]
    }
   ],
   "source": [
    "evaluator = RegressionEvaluator(metricName='rmse', labelCol='stars', predictionCol='user_item_interaction_recomputed')\n",
    "\n",
    "ranks=[5,10,30,50,100]\n",
    "for rank in ranks:\n",
    "    als = ALS(rank=rank,userCol=\"user_id_index\",itemCol=\"business_id_index\",ratingCol=\"user_item_interaction\",coldStartStrategy=\"drop\",nonnegative=True)\n",
    "    als.setSeed(2)\n",
    "    model = als.fit(interactions)\n",
    "    predictions=model.transform(test).withColumnRenamed('prediction','predicted_rating')\n",
    "    predictions=  predictions.join(user_mean, 'user_id_index').join(item_mean, 'business_id_index')\n",
    "    predictions = predictions.withColumn('user_item_interaction_recomputed', col('predicted_rating') + col('user_mean') + col('item_mean') - global_mean)\n",
    "    rmse=evaluator.evaluate(predictions)\n",
    "    print(\"RMSE with latent factor \"+str(rank) +\" is=\"+str(rmse))"
   ]
  },
  {
   "cell_type": "markdown",
   "metadata": {},
   "source": [
    "# Find Best Recommendations"
   ]
  },
  {
   "cell_type": "code",
   "execution_count": 24,
   "metadata": {},
   "outputs": [],
   "source": [
    "def get_recommendations():\n",
    "    \"\"\"\n",
    "    Returns top recommendations for a user.\n",
    "\n",
    "    Returns\n",
    "    -------\n",
    "    :py:class:`pyspark.sql.DataFrame`\n",
    "    a DataFrame of (itemCol, recommendations), where recommendations are\n",
    "    stored as an array of ('name','business_id', 'stars', 'categories') Rows.\n",
    "    \"\"\"\n",
    "    test = model.recommendForAllUsers(10).filter(col('user_id_index')==30).select(\"recommendations\").take(10)\n",
    "    topRestaurants = []\n",
    "    for item in test[0][0]:        \n",
    "        topRestaurants.append(item.business_id_index)\n",
    "    \n",
    "    schema = StructType([StructField(\"business_id_index\",IntegerType(),True)])\n",
    "    restaurants = spark.createDataFrame(topRestaurants,IntegerType()).toDF(\"business_id_index\")\n",
    "    return restaurants"
   ]
  },
  {
   "cell_type": "code",
   "execution_count": 25,
   "metadata": {},
   "outputs": [],
   "source": [
    "def display_transformed_list():\n",
    "    transformed\\\n",
    "    .select(['name', 'user_id', 'stars', 'categories'])\\\n",
    "    .filter(col('user_id_index')==30)\\\n",
    "    .show()"
   ]
  },
  {
   "cell_type": "code",
   "execution_count": 26,
   "metadata": {},
   "outputs": [],
   "source": [
    "def display_top10_recommendations(restaurants):\n",
    "    \"\"\"\n",
    "    Displays the top 10 restaurant recommendations.\n",
    "    \"\"\"\n",
    "    restaurants\\\n",
    "    .join(transformed, on = 'business_id_index', how = 'inner')\\\n",
    "    .select([ 'name','business_id', 'stars', 'categories'])\\\n",
    "    .drop_duplicates(subset=['name'])\\\n",
    "    .show(10)"
   ]
  },
  {
   "cell_type": "markdown",
   "metadata": {},
   "source": [
    "## Display the Top Recommendations"
   ]
  },
  {
   "cell_type": "code",
   "execution_count": 27,
   "metadata": {},
   "outputs": [
    {
     "name": "stdout",
     "output_type": "stream",
     "text": [
      "+--------------------+--------------------+-----+--------------------+\n",
      "|                name|         business_id|stars|          categories|\n",
      "+--------------------+--------------------+-----+--------------------+\n",
      "|         Burger King|ECUSa_fHQVLvG5Dg2...|  2.0|Fast Food, Restau...|\n",
      "|Centre des Mets C...|OsqehU809Bxa_clNa...|  1.0|Chinese, Restaurants|\n",
      "|           Délicieux|7ScWdpnwZyP6hJXxG...|  5.0|Breakfast & Brunc...|\n",
      "|          L'Oeufrier|-2R--HQiUyvN4qld5...|  3.0|Breakfast & Brunc...|\n",
      "|             Mandy's|LtyoPfxpvcF_9e9wM...|  5.0|Restaurants, Vega...|\n",
      "|Pains Farcis Tianjin|len7Tn8eoi1KhUXbv...|  1.0|Specialty Food, R...|\n",
      "|Restaurant Xi'An ...|HVd718KlG6VdY5oh5...|  1.0|Restaurants, Chinese|\n",
      "|       Resto Chillax|ubLn_FrFygzcbhXTD...|  5.0|Restaurants, Cafe...|\n",
      "|             Reva Zy|nspY01_h-1uiGFjF1...|  1.0|Sandwiches, Break...|\n",
      "|Tiki Ming Restaurant|RpLfGOE7Hjru2Tc3z...|  1.0|Fast Food, Chines...|\n",
      "+--------------------+--------------------+-----+--------------------+\n",
      "\n"
     ]
    }
   ],
   "source": [
    "\n",
    "\n",
    "top10_recommendations = get_recommendations()\n",
    "display_top10_recommendations(top10_recommendations)\n"
   ]
  },
  {
   "cell_type": "code",
   "execution_count": null,
   "metadata": {},
   "outputs": [],
   "source": []
  }
 ],
 "metadata": {
  "kernelspec": {
   "display_name": "Python 3 (ipykernel)",
   "language": "python",
   "name": "python3"
  },
  "language_info": {
   "codemirror_mode": {
    "name": "ipython",
    "version": 3
   },
   "file_extension": ".py",
   "mimetype": "text/x-python",
   "name": "python",
   "nbconvert_exporter": "python",
   "pygments_lexer": "ipython3",
   "version": "3.10.0"
  }
 },
 "nbformat": 4,
 "nbformat_minor": 4
}
