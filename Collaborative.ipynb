{
 "cells": [
  {
   "attachments": {},
   "cell_type": "markdown",
   "metadata": {},
   "source": [
    "# Import Libraries"
   ]
  },
  {
   "cell_type": "code",
   "execution_count": 20,
   "metadata": {},
   "outputs": [],
   "source": [
    "\n",
    "from pyspark.ml.recommendation import ALS\n",
    "from pyspark.sql import SparkSession\n",
    "from pyspark.sql.functions import col\n",
    "from pyspark.ml.feature import StringIndexer\n",
    "from pyspark.ml import Pipeline\n",
    "from pyspark.ml.evaluation import RegressionEvaluator\n",
    "from pyspark.sql.types import StructType,StructField,IntegerType\n"
   ]
  },
  {
   "attachments": {},
   "cell_type": "markdown",
   "metadata": {},
   "source": [
    "# Constants : Modify as and when required!"
   ]
  },
  {
   "cell_type": "code",
   "execution_count": 21,
   "metadata": {},
   "outputs": [],
   "source": [
    "# file paths\n",
    "business_file=\"Sample_Datasets/montreal_business\"\n",
    "reviews_file=\"Sample_Datasets/montreal_reviews\"\n",
    "users_file=\"Sample_Datasets/montreal_users\"\n"
   ]
  },
  {
   "attachments": {},
   "cell_type": "markdown",
   "metadata": {},
   "source": [
    "# Initialize spark session"
   ]
  },
  {
   "cell_type": "code",
   "execution_count": 22,
   "metadata": {
    "collapsed": true
   },
   "outputs": [],
   "source": [
    "app_name=\"Collaborative filtering for restaurant recommendation\"\n",
    "\n",
    "def init_spark():\n",
    "    spark = SparkSession \\\n",
    "        .builder \\\n",
    "        .appName(app_name) \\\n",
    "        .getOrCreate()\n",
    "    return spark\n"
   ]
  },
  {
   "attachments": {},
   "cell_type": "markdown",
   "metadata": {},
   "source": [
    "# Load Dataset in Apache Spark"
   ]
  },
  {
   "cell_type": "code",
   "execution_count": 23,
   "metadata": {},
   "outputs": [],
   "source": [
    "spark=init_spark()\n",
    "business_df = spark.read.parquet(business_file)\n",
    "reviews_df=spark.read.parquet(reviews_file)\n",
    "users_df=spark.read.parquet(users_file)"
   ]
  },
  {
   "attachments": {},
   "cell_type": "markdown",
   "metadata": {},
   "source": [
    "## Selecting required features\n",
    "\n",
    "In our project, we are only concerned with a subset of columns from the dataset, specifically those that are relevant to our goal of recommending restaurants in Montreal. Therefore, we extract the necessary features from the business_df table, including the id, name, stars, category. \n",
    "Similarly, we filter the reviews_df=spark.read.parquet(reviews_file)\n",
    " table to include only reviews for the selected restaurants by performing an inner join with business_df."
   ]
  },
  {
   "cell_type": "code",
   "execution_count": 24,
   "metadata": {},
   "outputs": [],
   "source": [
    "business_df = business_df.select(\"business_id\",\"name\", \"stars\", \n",
    "                                 \"review_count\", \"address\", \"city\", \"state\", \"postal_code\", \"longitude\", \n",
    "                                 \"categories\", \"latitude\").withColumnRenamed(\"stars\", \"stars_restaurant\")\n",
    "reviews_df = reviews_df.join(business_df, on='business_id', how='inner')"
   ]
  },
  {
   "attachments": {},
   "cell_type": "markdown",
   "metadata": {},
   "source": [
    "## Preparing Data for ALS: Convert String to index\n",
    "Prior to initiating the modeling process, it is essential to transform all the relevant columns to integer type for compatibility with the ALS model from pyspark. The columns requiring conversion are the business_id and user_id. We accomplish this by leveraging the StringIndexer function, which we imported from pyspark.ml.feature."
   ]
  },
  {
   "cell_type": "code",
   "execution_count": 25,
   "metadata": {},
   "outputs": [
    {
     "data": {
      "text/plain": "DataFrame[business_id: string, user_id: string, business_id_index: double, user_id_index: double, stars: double, categories: string]"
     },
     "execution_count": 25,
     "metadata": {},
     "output_type": "execute_result"
    }
   ],
   "source": [
    "indexer = [StringIndexer(inputCol=column, outputCol=column+\"_index\") for column in ['business_id', 'user_id']]\n",
    "pipeline = Pipeline(stages=indexer)\n",
    "transformed = pipeline.fit(reviews_df).transform(reviews_df)\n",
    "transformed.select(['business_id', 'user_id','business_id_index', 'user_id_index','stars','categories'])"
   ]
  },
  {
   "attachments": {},
   "cell_type": "markdown",
   "metadata": {},
   "source": [
    "## Spliting the dataset into training and testing subsets "
   ]
  },
  {
   "cell_type": "code",
   "execution_count": 26,
   "metadata": {},
   "outputs": [],
   "source": [
    "(training, test) = transformed.randomSplit([0.7, 0.3])"
   ]
  },
  {
   "attachments": {},
   "cell_type": "markdown",
   "metadata": {},
   "source": [
    "## Create ALS model\n",
    "The Apache Spark library provides various parameters for the ALS (Alternating Least Squares) algorithm, including:\n",
    "\n",
    "- numBlocks*: the number of blocks used to partition users and items, allowing for parallelized computation (default value: 10).\n",
    "- rank: the number of latent factors used in the model (default value: 10).\n",
    "- maxIter: the maximum number of iterations to run (default value: 10).\n",
    "- regParam: the regularization parameter used in ALS (default value: 1.0).\n",
    "- implicitPrefs: a boolean value that indicates whether to use the explicit feedback ALS variant or the one adapted for implicit feedback data (default value: false, which means using explicit feedback).\n",
    "- alpha: a parameter that applies to the implicit feedback variant of ALS, determining the baseline confidence in preference observations (default value: 1.0).\n",
    "- nonnegative: a boolean value that specifies whether to use nonnegative constraints for least squares (default value: false)."
   ]
  },
  {
   "cell_type": "code",
   "execution_count": 27,
   "metadata": {},
   "outputs": [
    {
     "name": "stderr",
     "output_type": "stream",
     "text": [
      "                                                                                \r"
     ]
    }
   ],
   "source": [
    "als=ALS(maxIter=5,\n",
    "        regParam=0.09,\n",
    "        rank=20,\n",
    "        userCol=\"user_id_index\",\n",
    "        itemCol=\"business_id_index\",\n",
    "        ratingCol=\"stars\",\n",
    "        coldStartStrategy=\"drop\",\n",
    "        nonnegative=True)\n",
    "\n",
    "model=als.fit(training)"
   ]
  },
  {
   "attachments": {},
   "cell_type": "markdown",
   "metadata": {},
   "source": [
    "## Evaluate RMSE"
   ]
  },
  {
   "cell_type": "code",
   "execution_count": 28,
   "metadata": {},
   "outputs": [
    {
     "name": "stderr",
     "output_type": "stream",
     "text": [
      "[Stage 747:=================================================>       (7 + 1) / 8]\r"
     ]
    },
    {
     "name": "stdout",
     "output_type": "stream",
     "text": [
      "RMSE=1.4596028107391759\n"
     ]
    },
    {
     "name": "stderr",
     "output_type": "stream",
     "text": [
      "                                                                                \r"
     ]
    }
   ],
   "source": [
    "evaluator=RegressionEvaluator(metricName=\"rmse\",labelCol=\"stars\",predictionCol=\"prediction\")\n",
    "predictions=model.transform(test)\n",
    "rmse=evaluator.evaluate(predictions)\n",
    "print(\"RMSE=\"+str(rmse))"
   ]
  },
  {
   "attachments": {},
   "cell_type": "markdown",
   "metadata": {},
   "source": [
    "## Tuning Hyper Parameters"
   ]
  },
  {
   "cell_type": "code",
   "execution_count": 29,
   "metadata": {},
   "outputs": [
    {
     "name": "stderr",
     "output_type": "stream",
     "text": [
      "                                                                                \r"
     ]
    }
   ],
   "source": [
    "als = ALS(maxIter=20,regParam=0.09,rank=20,userCol=\"user_id_index\",itemCol=\"business_id_index\",ratingCol=\"stars\",coldStartStrategy=\"drop\",nonnegative=True)\n",
    "model = als.fit(training)"
   ]
  },
  {
   "attachments": {},
   "cell_type": "markdown",
   "metadata": {},
   "source": [
    "## Re-evaluating the RMSE"
   ]
  },
  {
   "cell_type": "code",
   "execution_count": 30,
   "metadata": {},
   "outputs": [
    {
     "name": "stderr",
     "output_type": "stream",
     "text": [
      "[Stage 938:=================================================>       (7 + 1) / 8]\r"
     ]
    },
    {
     "name": "stdout",
     "output_type": "stream",
     "text": [
      "RMSE=1.337863079161002\n"
     ]
    },
    {
     "name": "stderr",
     "output_type": "stream",
     "text": [
      "                                                                                \r"
     ]
    }
   ],
   "source": [
    "evaluator=RegressionEvaluator(metricName=\"rmse\",labelCol=\"stars\",predictionCol=\"prediction\")\n",
    "predictions=model.transform(test)\n",
    "rmse=evaluator.evaluate(predictions)\n",
    "print(\"RMSE=\"+str(rmse))"
   ]
  },
  {
   "cell_type": "code",
   "execution_count": 31,
   "metadata": {},
   "outputs": [
    {
     "name": "stderr",
     "output_type": "stream",
     "text": [
      "                                                                                \r"
     ]
    }
   ],
   "source": [
    "als = ALS(maxIter=20,regParam=0.09,rank=25,userCol=\"user_id_index\",itemCol=\"business_id_index\",ratingCol=\"stars\",coldStartStrategy=\"drop\",nonnegative=True)\n",
    "model = als.fit(training)"
   ]
  },
  {
   "cell_type": "code",
   "execution_count": 32,
   "metadata": {},
   "outputs": [
    {
     "name": "stderr",
     "output_type": "stream",
     "text": [
      "[Stage 1129:=================================================>      (7 + 1) / 8]\r"
     ]
    },
    {
     "name": "stdout",
     "output_type": "stream",
     "text": [
      "RMSE=1.3359573704842158\n"
     ]
    },
    {
     "name": "stderr",
     "output_type": "stream",
     "text": [
      "                                                                                \r"
     ]
    }
   ],
   "source": [
    "evaluator=RegressionEvaluator(metricName=\"rmse\",labelCol=\"stars\",predictionCol=\"prediction\")\n",
    "predictions=model.transform(test)\n",
    "rmse=evaluator.evaluate(predictions)\n",
    "print(\"RMSE=\"+str(rmse))"
   ]
  },
  {
   "attachments": {},
   "cell_type": "markdown",
   "metadata": {},
   "source": [
    "# Find Best Recommendations"
   ]
  },
  {
   "cell_type": "code",
   "execution_count": 33,
   "metadata": {},
   "outputs": [
    {
     "name": "stderr",
     "output_type": "stream",
     "text": [
      "                                                                                \r"
     ]
    },
    {
     "name": "stdout",
     "output_type": "stream",
     "text": [
      "+--------------------+--------------------+-----+--------------------+\n",
      "|         business_id|             user_id|stars|          categories|\n",
      "+--------------------+--------------------+-----+--------------------+\n",
      "|ubLn_FrFygzcbhXTD...|0gZ8E5tBWTEtGEZDu...|  5.0|Restaurants, Cafe...|\n",
      "|zrnP9HqoF-RI9jqoW...|0gZ8E5tBWTEtGEZDu...|  5.0|Coffee & Tea, Res...|\n",
      "|yU3p0tEBtGuZLTcsB...|0gZ8E5tBWTEtGEZDu...|  5.0|Restaurants, Brea...|\n",
      "|tmWp4Rtr_cm7nCh2u...|0gZ8E5tBWTEtGEZDu...|  5.0|Breakfast & Brunc...|\n",
      "|vaURDGRo19cMB3Fy9...|0gZ8E5tBWTEtGEZDu...|  5.0|Restaurants, Coff...|\n",
      "|58APdML-PG_OD4El2...|0gZ8E5tBWTEtGEZDu...|  2.0|Delicatessen, Foo...|\n",
      "|ZL9sk7Imc42BNRhcj...|0gZ8E5tBWTEtGEZDu...|  4.0|Chinese, Restaura...|\n",
      "|lpnuObNKbkH8usnUS...|0gZ8E5tBWTEtGEZDu...|  4.0|Cafes, Coffee & T...|\n",
      "|q91nljuSDFl0IYRey...|0gZ8E5tBWTEtGEZDu...|  3.0|Vegan, Vegetarian...|\n",
      "|8cPMjIwTnrVm3F2wL...|0gZ8E5tBWTEtGEZDu...|  4.0|Vegan, Cafes, Veg...|\n",
      "|xlMgaPOpd_99SFTuO...|0gZ8E5tBWTEtGEZDu...|  4.0|Game Meat, Americ...|\n",
      "|vYbpodi9utup_njMK...|0gZ8E5tBWTEtGEZDu...|  4.0|Taiwanese, Restau...|\n",
      "|rCzYYVmZxty56Ej50...|0gZ8E5tBWTEtGEZDu...|  2.0|Flowers & Gifts, ...|\n",
      "|i2dnic7VdQ3NyiQQW...|0gZ8E5tBWTEtGEZDu...|  4.0|Restaurants, Brea...|\n",
      "|MsgfS1iJMpxVIUfO-...|0gZ8E5tBWTEtGEZDu...|  4.0| Korean, Restaurants|\n",
      "|46Ld9Qc9nAx_A0jwc...|0gZ8E5tBWTEtGEZDu...|  5.0|Bakeries, Cafes, ...|\n",
      "|ytD9rJ-jcb8zMUCfi...|0gZ8E5tBWTEtGEZDu...|  2.0|Restaurants, Fren...|\n",
      "|z1RYEzRQzhBKw0Pez...|0gZ8E5tBWTEtGEZDu...|  5.0|Mediterranean, Gr...|\n",
      "|9KeJfn7-6DFfUFoZL...|0gZ8E5tBWTEtGEZDu...|  4.0|Mexican, Bars, Ni...|\n",
      "|xidr6_d3fwKSb_XaB...|0gZ8E5tBWTEtGEZDu...|  4.0|Japanese, Sushi B...|\n",
      "+--------------------+--------------------+-----+--------------------+\n",
      "only showing top 20 rows\n",
      "\n",
      "+--------------------+-----+--------------------+--------------------+\n",
      "|         business_id|stars|          categories|                name|\n",
      "+--------------------+-----+--------------------+--------------------+\n",
      "|ZWSxWX5o-O0V6fhgf...|  5.0|Bikes, Cafes, Bik...|           Allo Vélo|\n",
      "|vaURDGRo19cMB3Fy9...|  5.0|Restaurants, Coff...|             Café 45|\n",
      "|Eh4xDNioChV54KPLs...|  4.0|Restaurants, Sand...|       Café District|\n",
      "|uqW-6m9ncc9AWdJ4v...|  5.0|Desserts, Food, I...|       Chez Vincenzo|\n",
      "|VTb9w9PowA76vhBVg...|  5.0| Restaurants, French|French Connection...|\n",
      "|tFyEe1WIfLszJb-l3...|  5.0|Restaurants, Port...|  Grillades Da Silva|\n",
      "|9HWCSPtMP2tU_cTDs...|  5.0|Filipino, Restaur...|                 HÀO|\n",
      "|o-njcgwTLlcSR2d4K...|  1.0|Cajun/Creole, Res...|La Bonne Bouffe C...|\n",
      "|80LCPTNO0LM_7Vg9n...|  5.0|French, Food, Res...| La Cloche à Fromage|\n",
      "|i5j3FrxdR224KIjfv...|  5.0|Restaurants, Brea...|          Le Pick-Up|\n",
      "|ghwcjmCP3SEGzVPpZ...|  5.0|Restaurants, Wine...|            Monopole|\n",
      "|EjS8cFHBK_rvgXqfE...|  5.0|  Restaurants, Greek| Phyllo Bar Melina's|\n",
      "|LdD0yYLcHuamULrvZ...|  5.0| French, Restaurants|              Pégase|\n",
      "|VP6Hj20WAIYOxNprK...|  5.0|Vegan, Italian, R...|               Radis|\n",
      "|sS_ZjpOQ2bMkPoKa5...|  5.0|Middle Eastern, R...|     Restaurant Alep|\n",
      "|ubLn_FrFygzcbhXTD...|  5.0|Restaurants, Cafe...|       Resto Chillax|\n",
      "|shkLzr_s4XWqYWm8N...|  4.0|Korean, Restauran...|                SSAM|\n",
      "|hs1H89ao-I9mPpjRM...|  4.0|Restaurants, Sand...|       Serrano B-B-Q|\n",
      "|iQuQLjbX4VlfYtUf1...|  4.0|Food, Coffee & Te...|    Shaughnessy Café|\n",
      "|ZE1iBA6lTFWmxrrtX...|  5.0|Restaurants, Turkish|Turquoise Maison ...|\n",
      "+--------------------+-----+--------------------+--------------------+\n",
      "\n"
     ]
    },
    {
     "name": "stderr",
     "output_type": "stream",
     "text": [
      "[Stage 1327:==========================================>             (3 + 1) / 4]\r"
     ]
    },
    {
     "name": "stdout",
     "output_type": "stream",
     "text": [
      "+--------------------+--------------------+-----+----------+\n",
      "|             user_id|         business_id|stars|prediction|\n",
      "+--------------------+--------------------+-----+----------+\n",
      "|7Yv44diO5hwQb0SYa...|-0uEqc2vw1xXtuI_r...|  3.0| 2.8935647|\n",
      "|cqagyVkvbBB32agnJ...|-0uEqc2vw1xXtuI_r...|  3.0| 1.7073734|\n",
      "|-J4H5NX4-6eiBNM7v...|-1xuC540Nycht_iWF...|  4.0|  1.876181|\n",
      "|-KduD3wwydWDq2GrO...|-1xuC540Nycht_iWF...|  4.0| 3.7291346|\n",
      "|-QREOvaX6oXHBnkrw...|-1xuC540Nycht_iWF...|  5.0|  4.594663|\n",
      "|0TJ01iwzVLXtr_EYc...|-1xuC540Nycht_iWF...|  4.0| 4.1194596|\n",
      "|1Y5sVYKQACmepTltx...|-1xuC540Nycht_iWF...|  5.0|  4.928712|\n",
      "|1j3PBhaemKwcBV_-O...|-1xuC540Nycht_iWF...|  4.0| 3.1962988|\n",
      "|2FI2e3ChY0QCzKEHs...|-1xuC540Nycht_iWF...|  4.0|   3.49681|\n",
      "|3uWCWMWcrn8YSH_qB...|-1xuC540Nycht_iWF...|  5.0| 3.5146961|\n",
      "|41kMyI1BfOTyIIAen...|-1xuC540Nycht_iWF...|  5.0| 4.0969176|\n",
      "|4nQ7MOkbc5u-DYUOg...|-1xuC540Nycht_iWF...|  4.0|  3.367394|\n",
      "|52p2iAxobpwrBAYBt...|-1xuC540Nycht_iWF...|  5.0| 3.8112338|\n",
      "|740RaPk_7fyuEQnUW...|-1xuC540Nycht_iWF...|  1.0| 2.7210312|\n",
      "|7FyHKCJqEL8803PnB...|-1xuC540Nycht_iWF...|  4.0| 3.8563967|\n",
      "|8NmE-WNUMtqzBlbPV...|-1xuC540Nycht_iWF...|  4.0| 4.9390664|\n",
      "|933NaWG9W6Z-1pXMF...|-1xuC540Nycht_iWF...|  4.0|  3.943497|\n",
      "|93jl4pbbNCJFXFL6p...|-1xuC540Nycht_iWF...|  2.0|  3.399806|\n",
      "|980MSuSR9dcF-Lass...|-1xuC540Nycht_iWF...|  5.0|  3.382292|\n",
      "|9P8-9EUP-aEnuisqU...|-1xuC540Nycht_iWF...|  2.0|     3.784|\n",
      "+--------------------+--------------------+-----+----------+\n",
      "only showing top 20 rows\n",
      "\n"
     ]
    },
    {
     "name": "stderr",
     "output_type": "stream",
     "text": [
      "                                                                                \r"
     ]
    }
   ],
   "source": [
    "\n",
    "test = model.recommendForAllUsers(20).filter(col('user_id_index')==30).select(\"recommendations\").collect()\n",
    "topRestaurants = []\n",
    "for item in test[0][0]:        \n",
    "    topRestaurants.append(item.business_id_index)\n",
    "    \n",
    "schema = StructType([StructField(\"business_id_index\",IntegerType(),True)])\n",
    "restaurants = spark.createDataFrame(topRestaurants,IntegerType()).toDF(\"business_id_index\")\n",
    "\n",
    "\n",
    "transformed\\\n",
    ".select(['business_id', 'user_id', 'stars', 'categories'])\\\n",
    ".filter(col('user_id_index')==30)\\\n",
    ".show()\n",
    "\n",
    "restaurants\\\n",
    ".join(transformed, on = 'business_id_index', how = 'inner')\\\n",
    ".select(['business_id', 'stars', 'categories', 'name'])\\\n",
    ".drop_duplicates(subset=['name'])\\\n",
    ".show()\n",
    "\n",
    "predictions.select(['user_id', 'business_id', 'stars', 'prediction']).show()\n"
   ]
  }
 ],
 "metadata": {
  "kernelspec": {
   "display_name": "Python 3",
   "language": "python",
   "name": "python3"
  },
  "language_info": {
   "codemirror_mode": {
    "name": "ipython",
    "version": 3
   },
   "file_extension": ".py",
   "mimetype": "text/x-python",
   "name": "python",
   "nbconvert_exporter": "python",
   "pygments_lexer": "ipython3",
   "version": "3.10.10"
  }
 },
 "nbformat": 4,
 "nbformat_minor": 0
}
