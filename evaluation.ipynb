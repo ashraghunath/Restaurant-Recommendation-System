{
 "cells": [
  {
   "cell_type": "markdown",
   "source": [
    "# Import Libraries"
   ],
   "metadata": {
    "collapsed": false
   }
  },
  {
   "cell_type": "code",
   "execution_count": 136,
   "outputs": [],
   "source": [
    "from pyspark.sql import SparkSession\n",
    "from pyspark.ml.feature import RegexTokenizer, CountVectorizer\n",
    "from pyspark.ml.feature import StopWordsRemover\n",
    "from pyspark.ml.feature import IDF\n",
    "from pyspark.ml import Pipeline, PipelineModel\n",
    "import numpy as np\n",
    "from pyspark.sql.functions import desc\n",
    "from pyspark.sql.types import *\n",
    "from pyspark.ml.feature import Word2Vec\n",
    "from pyspark.sql.functions import col"
   ],
   "metadata": {
    "collapsed": false
   }
  },
  {
   "cell_type": "code",
   "execution_count": 137,
   "outputs": [],
   "source": [
    "spark = SparkSession \\\n",
    "        .builder \\\n",
    "        .appName(\"Content Based restaurant recommendation\") \\\n",
    "        .getOrCreate()\n",
    "sc = spark.sparkContext"
   ],
   "metadata": {
    "collapsed": false
   }
  },
  {
   "cell_type": "markdown",
   "source": [
    "# Load the sampled data"
   ],
   "metadata": {
    "collapsed": false
   }
  },
  {
   "cell_type": "code",
   "execution_count": 138,
   "outputs": [],
   "source": [
    "business_df = spark.read.parquet('Sample_Datasets/montreal_business')\n",
    "reviews_df = spark.read.parquet('Sample_Datasets/montreal_reviews')\n",
    "users_df = spark.read.parquet('Sample_Datasets/montreal_users')"
   ],
   "metadata": {
    "collapsed": false
   }
  },
  {
   "cell_type": "markdown",
   "source": [
    "# Process Reviews\n",
    "1. Group reviews of restaurants\n",
    "2. Generate a Word2Vec vector from the reviews."
   ],
   "metadata": {
    "collapsed": false
   }
  },
  {
   "cell_type": "markdown",
   "source": [
    "### Step 1 : Group reviews of restaurants"
   ],
   "metadata": {
    "collapsed": false
   }
  },
  {
   "cell_type": "code",
   "execution_count": 168,
   "outputs": [
    {
     "name": "stdout",
     "output_type": "stream",
     "text": [
      "root\n",
      " |-- business_id: string (nullable = true)\n",
      " |-- user_id: string (nullable = true)\n",
      " |-- review_id: string (nullable = true)\n",
      " |-- stars: double (nullable = true)\n",
      " |-- text: string (nullable = true)\n",
      "\n"
     ]
    },
    {
     "name": "stderr",
     "output_type": "stream",
     "text": [
      "                                                                                \r"
     ]
    },
    {
     "name": "stdout",
     "output_type": "stream",
     "text": [
      "+--------------------+--------------------+\n",
      "|         business_id|                text|\n",
      "+--------------------+--------------------+\n",
      "|-1xuC540Nycht_iWF...|I was so hungry f...|\n",
      "|-4TVAE4KcLWVSXO2r...|These guys won't ...|\n",
      "|-ldO91cdwbzIHN5hD...|Not a fan of this...|\n",
      "+--------------------+--------------------+\n",
      "only showing top 3 rows\n",
      "\n"
     ]
    }
   ],
   "source": [
    "#TODO new change\n",
    "reviews_df.printSchema()\n",
    "reviews_df_train, reviews_df_test = reviews_df.randomSplit([0.8, 0.2], seed=3)\n",
    "\n",
    "reviews_text = reviews_df_train.select('business_id', 'text')\n",
    "# Group reviews by restaurant ID\n",
    "reviews_by_business = reviews_text.rdd.map(lambda x: (x[0], x[1])).reduceByKey(lambda x, y: x + \" \" + y)\n",
    "reviews_by_business_df = reviews_by_business.toDF(['business_id', 'text'])\n",
    "reviews_by_business_df.show(3)"
   ],
   "metadata": {
    "collapsed": false
   }
  },
  {
   "cell_type": "code",
   "execution_count": 169,
   "outputs": [
    {
     "name": "stderr",
     "output_type": "stream",
     "text": [
      "[Stage 3056:=================================================>      (7 + 1) / 8]\r"
     ]
    },
    {
     "name": "stdout",
     "output_type": "stream",
     "text": [
      "Global Average: 3.891145599712927\n"
     ]
    },
    {
     "name": "stderr",
     "output_type": "stream",
     "text": [
      "                                                                                \r"
     ]
    }
   ],
   "source": [
    "from pyspark.sql.functions import avg\n",
    "\n",
    "global_mean = reviews_df_train.agg(avg('stars')).collect()[0][0]\n",
    "print(\"Global Average:\",str(global_mean))"
   ],
   "metadata": {
    "collapsed": false
   }
  },
  {
   "cell_type": "markdown",
   "source": [
    "### Step 2: Convert reviews to Word2Vec feature vector"
   ],
   "metadata": {
    "collapsed": false
   }
  },
  {
   "cell_type": "code",
   "execution_count": 170,
   "outputs": [
    {
     "name": "stderr",
     "output_type": "stream",
     "text": [
      "                                                                                \r"
     ]
    }
   ],
   "source": [
    "# Remove the stop words from text, and create the tf idf matrix\n",
    "tokenize_sentence        = RegexTokenizer(pattern = '\\w+', inputCol = 'text', outputCol = 'tokens', toLowercase=True, gaps = False)\n",
    "remove_stopwords = StopWordsRemover(inputCol = 'tokens', outputCol = 'nostopwords')\n",
    "# 1000 words to limit number of features and reduce overfitting\n",
    "countVectorizer  = CountVectorizer(inputCol='nostopwords', outputCol='tf', vocabSize=1000)\n",
    "tfiDF            = IDF(inputCol='tf', outputCol='tfidf_vec')\n",
    "word2Vec = Word2Vec(vectorSize = 100, minCount = 5, inputCol = 'nostopwords', outputCol = 'word_2_vec', seed=123)\n",
    "pipeline         = Pipeline(stages=[tokenize_sentence, remove_stopwords, countVectorizer, tfiDF, word2Vec])\n",
    "\n",
    "reviews_pipeline = pipeline.fit(reviews_by_business_df)\n",
    "reviews_pipeline.write().overwrite().save('reviews_pipeline')"
   ],
   "metadata": {
    "collapsed": false
   }
  },
  {
   "cell_type": "code",
   "execution_count": 171,
   "outputs": [
    {
     "name": "stdout",
     "output_type": "stream",
     "text": [
      "root\n",
      " |-- business_id: string (nullable = true)\n",
      " |-- text: string (nullable = true)\n",
      " |-- tokens: array (nullable = true)\n",
      " |    |-- element: string (containsNull = true)\n",
      " |-- nostopwords: array (nullable = true)\n",
      " |    |-- element: string (containsNull = true)\n",
      " |-- tf: vector (nullable = true)\n",
      " |-- tfidf_vec: vector (nullable = true)\n",
      " |-- word_2_vec: vector (nullable = true)\n",
      "\n"
     ]
    }
   ],
   "source": [
    "reviews_pipeline = PipelineModel.load('reviews_pipeline')\n",
    "transformed_reviews_by_business = reviews_pipeline.transform(reviews_by_business_df)\n",
    "transformed_reviews_by_business.printSchema()"
   ],
   "metadata": {
    "collapsed": false
   }
  },
  {
   "cell_type": "markdown",
   "source": [
    "# Calculate cosine similarity between reviews of restaurants"
   ],
   "metadata": {
    "collapsed": false
   }
  },
  {
   "cell_type": "code",
   "execution_count": 172,
   "outputs": [],
   "source": [
    "def cosineSimilarity(vector1, vector2):\n",
    "    '''\n",
    "    This function calculates the cosine similarity between the restaurant feature vector and target restaurant feature vector\n",
    "    using formula (A.B) / (sqrt((A**2)  * sqrt((B**2)))\n",
    "    '''\n",
    "\n",
    "    dot_product = np.dot(vector1, vector2)\n",
    "    product_of_norms = np.sqrt(np.dot(vector1, vector1)) * np.sqrt(np.dot(vector2, vector2))\n",
    "\n",
    "    return float(dot_product/product_of_norms)"
   ],
   "metadata": {
    "collapsed": false
   }
  },
  {
   "cell_type": "code",
   "execution_count": 173,
   "outputs": [],
   "source": [
    "def getUserRecommendationsTop10(user_restaurants, all_restaurants_word2vec) :\n",
    "    '''\n",
    "    This function uses cosine similarity to recommend restaurants based for the user\n",
    "    '''\n",
    "\n",
    "    # schema for output DF\n",
    "    schema = StructType([\n",
    "                            StructField(\"business_id\", StringType(), True)\n",
    "                            ,StructField(\"cosine_similarity\", IntegerType(), True)\n",
    "                            ,StructField(\"prediction\", DoubleType(), True)\n",
    "                        ])\n",
    "\n",
    "    result_restaurants = spark.createDataFrame([], schema)\n",
    "\n",
    "    for rest_id in user_restaurants:\n",
    "\n",
    "        # Get the feature values i.e. review texts for the restaurants rated by the user\n",
    "        user_rated_restaurant_features = all_restaurants_word2vec.filter(lambda x: x[0] == rest_id).map(lambda x: x[1]).first()\n",
    "\n",
    "        # Calculate cosine similarity\n",
    "        similar_restaurants_rdd = all_restaurants_word2vec.filter(lambda x: x[0] != rest_id).map(lambda x: (x[0], cosineSimilarity(x[1], user_rated_restaurant_features)))\n",
    "\n",
    "        similar_restaurants_df = similar_restaurants_rdd.toDF(schema = ['business_id', 'cosine_similarity']).orderBy(desc('cosine_similarity'))\n",
    "\n",
    "        # Scale cosine similarity to ratings 1-5\n",
    "        similar_restaurants_df = similar_restaurants_df.withColumn(\"prediction\", round((similar_restaurants_df['cosine_similarity'] - 0) / (1 - 0) * (5 - 1) + 1, 2))\n",
    "\n",
    "        result_restaurants = result_restaurants.union(similar_restaurants_df)\n",
    "\n",
    "    result_restaurants_top10 = result_restaurants.dropDuplicates(['business_id']).orderBy(desc('cosine_similarity'))\n",
    "\n",
    "    return result_restaurants_top10"
   ],
   "metadata": {
    "collapsed": false
   }
  },
  {
   "cell_type": "code",
   "execution_count": 174,
   "outputs": [],
   "source": [
    "def getRestaurantDetails(sim_rest):\n",
    "    '''\n",
    "    Function to get the recommended restaurant details based on ids.\n",
    "    '''\n",
    "\n",
    "    restaurant_details = sim_rest.join(business_df, on='business_id', how = 'inner') \\\n",
    "                                 .select(sim_rest.business_id, \\\n",
    "                                       sim_rest.cosine_similarity, business_df.name, \\\n",
    "                                       business_df.categories, business_df.stars, business_df.review_count,\n",
    "                                       business_df.latitude, business_df.longitude, sim_rest.prediction)\n",
    "\n",
    "    return restaurant_details"
   ],
   "metadata": {
    "collapsed": false
   }
  },
  {
   "cell_type": "markdown",
   "source": [
    "# Find Best Recommendations"
   ],
   "metadata": {
    "collapsed": false
   }
  },
  {
   "cell_type": "markdown",
   "source": [
    "### 1. Best Restaurants based on past reviews of the user"
   ],
   "metadata": {
    "collapsed": false
   }
  },
  {
   "cell_type": "code",
   "execution_count": 147,
   "outputs": [
    {
     "name": "stderr",
     "output_type": "stream",
     "text": [
      "                                                                                \r"
     ]
    },
    {
     "name": "stdout",
     "output_type": "stream",
     "text": [
      "+----------------------+\n",
      "|user_id               |\n",
      "+----------------------+\n",
      "|EaBKe-8LB-NHuH7Us-QhGw|\n",
      "|U9mfsF7Knvi4qkulS6k-Pg|\n",
      "|VvBypfrIzspqwrbox_sUHA|\n",
      "|M7vDDzoPNQDN2FdTcwCq4A|\n",
      "|ucssLdHJmpo3lEyUtLi1Vg|\n",
      "|6S4uxbPpb9pMk9bKMUVZng|\n",
      "|eCy43X201JNHYKbPDN8xpA|\n",
      "|s6qQj3otWtvBTv3wugeD5A|\n",
      "|5cZEgqHwiN4XA2eOWWqnug|\n",
      "|j78OeM6cLZ3OsFlJwwOgpA|\n",
      "|4RjoIBBL450Z6EQenmWkSg|\n",
      "|gurcmVDESVQ8X20xpw4btw|\n",
      "|-7JSlmBJKUQwREG_yGuduQ|\n",
      "|tCRK65LrfCEC1LzFS8LwvQ|\n",
      "|IAP_k_esHa84vGKr8QerqQ|\n",
      "|BxNBl3VrzLBAkwpJ3EUgXg|\n",
      "|gGjQnTix1FeRPsOilTselA|\n",
      "|xahq_WAFi6SYHFdwYVfVkg|\n",
      "|B41w9LUYQHbkTjFRfpHEjA|\n",
      "|N2HkEZn_EEtsy-KBg2NEmQ|\n",
      "+----------------------+\n",
      "only showing top 20 rows\n",
      "\n"
     ]
    }
   ],
   "source": [
    "train_users = reviews_df_train.select('user_id').distinct()\n",
    "test_users = reviews_df_test.select('user_id').distinct()\n",
    "\n",
    "common_users = train_users.join(test_users, ['user_id'], 'inner')\n",
    "common_users.show(truncate=False)\n",
    "\n",
    "\n"
   ],
   "metadata": {
    "collapsed": false
   }
  },
  {
   "cell_type": "code",
   "execution_count": 182,
   "outputs": [
    {
     "name": "stderr",
     "output_type": "stream",
     "text": [
      "                                                                                \r"
     ]
    },
    {
     "name": "stdout",
     "output_type": "stream",
     "text": [
      "+--------------------+--------------------+--------------------+-----+--------------------+\n",
      "|         business_id|             user_id|           review_id|stars|                text|\n",
      "+--------------------+--------------------+--------------------+-----+--------------------+\n",
      "|-Levln3VcfeXS4iHt...|bds7VxgVm0e6Pu5Ru...|F0icbVOVtOhkdm8m1...|  4.0|We've been wantin...|\n",
      "|3cSe8U3u-rscNruJ6...|bds7VxgVm0e6Pu5Ru...|mHxjvrB7h8bIvpUkV...|  3.0|Possibly one of t...|\n",
      "|410NJLoLryd-vYNwR...|bds7VxgVm0e6Pu5Ru...|yqq3M_Pe-nBs15D33...|  4.0|I am giving this ...|\n",
      "|9HWCSPtMP2tU_cTDs...|bds7VxgVm0e6Pu5Ru...|FnEwXtriuAmkqIcfd...|  4.0|I was so excited ...|\n",
      "|BHTWG6p3FsnnlCGMo...|bds7VxgVm0e6Pu5Ru...|loqF3R55bMYJH8w0c...|  3.0|I wanted to come ...|\n",
      "|EQZPTDAy-lWijb0i8...|bds7VxgVm0e6Pu5Ru...|qMML3TZEubADaxjPv...|  4.0|Fave dumpling pla...|\n",
      "|EgRpbUZKPiotTXdrO...|bds7VxgVm0e6Pu5Ru...|q0dmEs3ibRHXEmjMl...|  5.0|I love their pad ...|\n",
      "|FTJqVHCcnjkvM3Bva...|bds7VxgVm0e6Pu5Ru...|2Nqa4KyuwwFXNfpA4...|  4.0|Tried this place ...|\n",
      "|Jbj4VGceJVKXOoN0z...|bds7VxgVm0e6Pu5Ru...|fJlaRYxZc0rRgTuJD...|  5.0|Cute little cafe ...|\n",
      "|KMA1sN-RlOiSEi_nm...|bds7VxgVm0e6Pu5Ru...|fjlT9a9Qc1gEfP3PH...|  1.0|Worst service and...|\n",
      "|LsRNsR5Y2VAlXJqP6...|bds7VxgVm0e6Pu5Ru...|U4_fKr09yJegszEjI...|  5.0|I was craving rib...|\n",
      "|NyaCUU3KwnXhvKqBL...|bds7VxgVm0e6Pu5Ru...|zCKOyb8mmmh_wsgMX...|  4.0|The only place I ...|\n",
      "|QrFuG9RN3UfUeE843...|bds7VxgVm0e6Pu5Ru...|z100-bJgJapeFCIVM...|  3.0|Visited this plac...|\n",
      "|cKdox2gt3L1Dbb7Mp...|bds7VxgVm0e6Pu5Ru...|KK6uxr5zYscYPzu1k...|  3.0|So I tried bookin...|\n",
      "|f0-qmnE8BtN2IFgE1...|bds7VxgVm0e6Pu5Ru...|mOeVsEXjgk0Nzv0Y4...|  4.0|This Korean resta...|\n",
      "|hhjV-oCZtOS8DvYYl...|bds7VxgVm0e6Pu5Ru...|2anJTHmqQyiKUBWmj...|  5.0|Went back for the...|\n",
      "|hhjV-oCZtOS8DvYYl...|bds7VxgVm0e6Pu5Ru...|SRQZ9uE6UuHmNZ3LD...|  4.0|I am so glad we f...|\n",
      "|j3QIwGvwZHj459YHJ...|bds7VxgVm0e6Pu5Ru...|B-qig3qFK4ehpdEvX...|  4.0|It's about time J...|\n",
      "|nyeIcJRPs8n199nW4...|bds7VxgVm0e6Pu5Ru...|Wr0i1Hk9gXUftMqBT...|  5.0|I was craving tac...|\n",
      "|q0GL761jc3ia_nEDt...|bds7VxgVm0e6Pu5Ru...|7w5DCxGxHzsg7EzXv...|  4.0|Got a salmon poke...|\n",
      "+--------------------+--------------------+--------------------+-----+--------------------+\n",
      "only showing top 20 rows\n",
      "\n"
     ]
    },
    {
     "name": "stderr",
     "output_type": "stream",
     "text": [
      "                                                                                \r"
     ]
    },
    {
     "name": "stdout",
     "output_type": "stream",
     "text": [
      "+--------------------+--------------------+--------------------+------------+--------------------+\n",
      "|         business_id|             user_id|           review_id|actual_stars|                text|\n",
      "+--------------------+--------------------+--------------------+------------+--------------------+\n",
      "|O1P4x0RgJWb6Waetk...|bds7VxgVm0e6Pu5Ru...|j54bKcdUFvIr0CuQX...|         4.0|Great pizza!! The...|\n",
      "|aeXwUDNI4e7NRQpRp...|bds7VxgVm0e6Pu5Ru...|F8yNPMqdCBOgPA5Xt...|         2.0|We came here on a...|\n",
      "|oguosnOCL3M-LLx0p...|bds7VxgVm0e6Pu5Ru...|3x3pUTIGYlAm6XDqY...|         5.0|I came across thi...|\n",
      "|xF4xbsAdhr44s9psc...|bds7VxgVm0e6Pu5Ru...|LfFoOS9k7wM9qWiFt...|         5.0|My favourite brea...|\n",
      "+--------------------+--------------------+--------------------+------------+--------------------+\n",
      "\n"
     ]
    },
    {
     "name": "stderr",
     "output_type": "stream",
     "text": [
      "                                                                                \r"
     ]
    },
    {
     "name": "stdout",
     "output_type": "stream",
     "text": [
      "\n",
      "Restaurants reviewed by target user: bds7VxgVm0e6Pu5RuVV-wg\n",
      "+--------------------+--------------------+--------------------+-----+\n",
      "|         business_id|                name|          categories|stars|\n",
      "+--------------------+--------------------+--------------------+-----+\n",
      "|-Levln3VcfeXS4iHt...|                Nozy|Japanese, Restaur...|  4.5|\n",
      "|QrFuG9RN3UfUeE843...|            Ramen-Ya|Noodles, Restaura...|  3.5|\n",
      "|Jbj4VGceJVKXOoN0z...|   Dessert Cafe Momo|Coffee & Tea, Res...|  5.0|\n",
      "|s0GeAnaUENWb2xAn_...|          Café Frida|Cafes, Mexican, B...|  4.5|\n",
      "|q0GL761jc3ia_nEDt...|         Le Poké Bar|Seafood, Food, Ha...|  3.5|\n",
      "|3cSe8U3u-rscNruJ6...|           Uniburger|Restaurants, Burg...|  4.0|\n",
      "|qje0dtfyYDRrdgpmT...|   Pho Bang New York|Vietnamese, Resta...|  3.5|\n",
      "|j3QIwGvwZHj459YHJ...|         Hotto Doggu|Hot Dogs, Restaur...|  3.5|\n",
      "|s2I_Ni76bjJNK9yG6...|Maison Christian ...|Food, Sandwiches,...|  4.5|\n",
      "|FTJqVHCcnjkvM3Bva...|           Seoul BBQ|Restaurants, Kore...|  4.0|\n",
      "|nyeIcJRPs8n199nW4...|          Super Taco|Mexican, Restaurants|  4.0|\n",
      "|f0-qmnE8BtN2IFgE1...|Mon Ami - Sainte-...| Restaurants, Korean|  4.0|\n",
      "|EgRpbUZKPiotTXdrO...|     Cuisine Bangkok|   Thai, Restaurants|  4.0|\n",
      "|NyaCUU3KwnXhvKqBL...|             Chatime|Coffee & Tea, Bub...|  4.0|\n",
      "|410NJLoLryd-vYNwR...|Restaurant Ruby R...|Shopping, Restaur...|  3.0|\n",
      "|y0qIyD4Y1TzFjVo0L...|Pizzeria Gema Crè...|Food, Pizza, Rest...|  4.0|\n",
      "|hhjV-oCZtOS8DvYYl...|Otto Yakitori Iza...|Japanese, Restaur...|  4.0|\n",
      "|9HWCSPtMP2tU_cTDs...|                 HÀO|Filipino, Restaur...|  5.0|\n",
      "|cKdox2gt3L1Dbb7Mp...|   Au Pied de Cochon|French, Canadian ...|  4.0|\n",
      "|BHTWG6p3FsnnlCGMo...|    Pasta Casareccia|Italian, Caterers...|  4.0|\n",
      "+--------------------+--------------------+--------------------+-----+\n",
      "only showing top 20 rows\n",
      "\n"
     ]
    },
    {
     "name": "stderr",
     "output_type": "stream",
     "text": [
      "                                                                                \r"
     ]
    },
    {
     "name": "stdout",
     "output_type": "stream",
     "text": [
      "\n",
      "Recommendations for User: bds7VxgVm0e6Pu5RuVV-wg\n"
     ]
    },
    {
     "name": "stderr",
     "output_type": "stream",
     "text": [
      "[Stage 3548:================================>                     (18 + 8) / 30]\r"
     ]
    },
    {
     "name": "stdout",
     "output_type": "stream",
     "text": [
      "+--------------------+--------------------+--------------------+-----+------------+----------+\n",
      "|         business_id|                name|          categories|stars|review_count|prediction|\n",
      "+--------------------+--------------------+--------------------+-----+------------+----------+\n",
      "|gZvwCOaMhxFXXNvy1...|             Marusan|Japanese, Restaur...|  4.5|         181|      4.93|\n",
      "|xidr6_d3fwKSb_XaB...|            Le Ninja|Japanese, Sushi B...|  4.0|          32|      4.92|\n",
      "|Wh_-S_tJvma15bxjS...|Saiko Bistrot Iza...|Sushi Bars, Japan...|  4.0|          78|      4.88|\n",
      "|G1ynW1gclKMClO4It...|               Chops|Food, Asian Fusio...|  4.0|          15|      4.88|\n",
      "|J2GTY3N_nH7d4L7ng...|     Espadon Plateau|Fish & Chips, Med...|  4.0|          13|      4.87|\n",
      "|ZsA8J49XHGd6nrNhb...|              Toroli|Restaurants, Japa...|  4.5|          34|      4.86|\n",
      "|EEHMMiJUklGGiikqd...|               Milos|  Restaurants, Greek|  4.0|         146|      4.86|\n",
      "|AE-IzUqIkYfJrUqx3...|        La Republika|Filipino, Restaur...|  4.5|          14|      4.85|\n",
      "|GT4Tn-tNZbKaoQhfK...|                 Ryu|Restaurants, Tapa...|  3.5|          10|      4.85|\n",
      "|vFrcHrUGSVs_ibT_4...|        Migoto Sushi|Sushi Bars, Japan...|  4.0|           7|      4.85|\n",
      "+--------------------+--------------------+--------------------+-----+------------+----------+\n",
      "only showing top 10 rows\n",
      "\n"
     ]
    },
    {
     "name": "stderr",
     "output_type": "stream",
     "text": [
      "                                                                                \r"
     ]
    }
   ],
   "source": [
    "from pyspark.sql.functions import rand\n",
    "\n",
    "# Selecting a random user\n",
    "\n",
    "# usr_id = reviews_df.select('user_id').orderBy(rand()).limit(1).collect()\n",
    "# target_user = [val.user_id for val in usr_id][0]\n",
    "#\n",
    "# print(target_user)\n",
    "# reviews_df.filter(reviews_df_train.user_id == target_user).show()\n",
    "\n",
    "#has lot of reviews\n",
    "# target_user = '5cZEgqHwiN4XA2eOWWqnug' 1.4 0.2\n",
    "# target_user = '6S4uxbPpb9pMk9bKMUVZng' 0.91\n",
    "# target_user = 'M7vDDzoPNQDN2FdTcwCq4A' 0.7\n",
    "target_user = 'bds7VxgVm0e6Pu5RuVV-wg'\n",
    "# target_user= 'VvBypfrIzspqwrbox_sUHA'\n",
    "reviews_df_train.filter(reviews_df_train.user_id == target_user).show()\n",
    "reviews_df_test.filter(reviews_df_test.user_id == target_user).show()\n",
    "# target_user = 'KVehpTNCERwMGAx-h9MR-A'\n",
    "#\n",
    "#Create user profile from the reviews the user has given\n",
    "user_reviews = reviews_df_train.filter( (reviews_df_train.user_id == target_user) & (reviews_df_train.stars >= float(3.0)) )\\\n",
    "                        .select(reviews_df_train.business_id).distinct()\n",
    "\n",
    "#Here we use collect only to retrieve user reviewed restaurants, so it is safe\n",
    "user_restaurants = [val.business_id for val in user_reviews.collect()]\n",
    "user_past_restaurants = user_reviews.join(business_df, on='business_id', how = 'inner')\n",
    "\n",
    "print(f'\\nRestaurants reviewed by target user: {target_user}')\n",
    "user_past_restaurants.select('business_id', 'name', 'categories', 'stars').show()\n",
    "\n",
    "# (business_id => [reviews word vectors] )\n",
    "all_restaurant_word2vec = transformed_reviews_by_business.select('business_id', 'word_2_vec') \\\n",
    "                                                    .rdd.map(lambda x: (x[0], x[1]))\n",
    "\n",
    "#Fetch recommendations for target user\n",
    "recommended_restaurants = getUserRecommendationsTop10(user_restaurants, all_restaurant_word2vec)\n",
    "\n",
    "\n",
    "#Get details about the recommended restaurants\n",
    "recommended_restaurants_details = getRestaurantDetails(recommended_restaurants)\n",
    "\n",
    "print(f'\\nRecommendations for User: {target_user}')\n",
    "recommended_restaurants_details.drop('cosine_similarity','latitude', 'longitude') \\\n",
    "                           .orderBy(desc('cosine_similarity')).show(10)\n"
   ],
   "metadata": {
    "collapsed": false
   }
  },
  {
   "cell_type": "markdown",
   "source": [
    "# Evaluation"
   ],
   "metadata": {
    "collapsed": false
   }
  },
  {
   "cell_type": "code",
   "execution_count": 183,
   "outputs": [
    {
     "name": "stderr",
     "output_type": "stream",
     "text": [
      "                                                                                \r"
     ]
    },
    {
     "name": "stdout",
     "output_type": "stream",
     "text": [
      "+--------------------+------------------+-----------------+--------------------+-----+------------+----------+-----------+----------+--------------------+--------------------+------------+--------------------+\n",
      "|         business_id| cosine_similarity|             name|          categories|stars|review_count|  latitude|  longitude|prediction|             user_id|           review_id|actual_stars|                text|\n",
      "+--------------------+------------------+-----------------+--------------------+-----+------------+----------+-----------+----------+--------------------+--------------------+------------+--------------------+\n",
      "|O1P4x0RgJWb6Waetk...|0.7782438667796558|            Adamo|  Restaurants, Pizza|  4.0|          55| 45.473375|  -73.58829|      4.11|bds7VxgVm0e6Pu5Ru...|j54bKcdUFvIr0CuQX...|         4.0|Great pizza!! The...|\n",
      "|aeXwUDNI4e7NRQpRp...|0.7878070633128489|       C'ChoColat|Specialty Food, S...|  4.0|         203|45.4963458|-73.5755678|      4.15|bds7VxgVm0e6Pu5Ru...|F8yNPMqdCBOgPA5Xt...|         2.0|We came here on a...|\n",
      "|oguosnOCL3M-LLx0p...|0.8828099619439675|Chicha Restaurant|Desserts, Food, B...|  4.0|          21|  45.49063|-73.5828065|      4.53|bds7VxgVm0e6Pu5Ru...|3x3pUTIGYlAm6XDqY...|         5.0|I came across thi...|\n",
      "|xF4xbsAdhr44s9psc...|0.8002257423242486|     Snowdon Deli|Specialty Food, K...|  4.5|         120| 45.484809|-73.6319483|       4.2|bds7VxgVm0e6Pu5Ru...|LfFoOS9k7wM9qWiFt...|         5.0|My favourite brea...|\n",
      "+--------------------+------------------+-----------------+--------------------+-----+------------+----------+-----------+----------+--------------------+--------------------+------------+--------------------+\n",
      "\n"
     ]
    }
   ],
   "source": [
    "# target_user = 'bds7VxgVm0e6Pu5RuVV'\n",
    "\n",
    "reviews_df_test = reviews_df_test.withColumnRenamed(\"stars\", \"actual_stars\")\n",
    "evaluation = recommended_restaurants_details.join(reviews_df_test.where((col('user_id') == target_user)),['business_id'],'inner')\n",
    "evaluation.show()\n",
    "\n",
    "\n",
    "\n"
   ],
   "metadata": {
    "collapsed": false
   }
  },
  {
   "cell_type": "code",
   "execution_count": 150,
   "outputs": [
    {
     "name": "stdout",
     "output_type": "stream",
     "text": [
      "root\n",
      " |-- business_id: string (nullable = true)\n",
      " |-- cosine_similarity: double (nullable = true)\n",
      " |-- name: string (nullable = true)\n",
      " |-- categories: string (nullable = true)\n",
      " |-- stars: double (nullable = true)\n",
      " |-- review_count: long (nullable = true)\n",
      " |-- latitude: double (nullable = true)\n",
      " |-- longitude: double (nullable = true)\n",
      " |-- prediction: double (nullable = true)\n",
      " |-- user_id: string (nullable = true)\n",
      " |-- review_id: string (nullable = true)\n",
      " |-- actual_stars: double (nullable = true)\n",
      " |-- text: string (nullable = true)\n",
      "\n"
     ]
    }
   ],
   "source": [
    "evaluation.printSchema()"
   ],
   "metadata": {
    "collapsed": false
   }
  },
  {
   "cell_type": "code",
   "execution_count": 184,
   "outputs": [
    {
     "name": "stderr",
     "output_type": "stream",
     "text": [
      "[Stage 3811:=====================================>                (21 + 9) / 30]\r"
     ]
    },
    {
     "name": "stdout",
     "output_type": "stream",
     "text": [
      "rmse: 1.1721241401831122\n"
     ]
    },
    {
     "name": "stderr",
     "output_type": "stream",
     "text": [
      "                                                                                \r"
     ]
    }
   ],
   "source": [
    "from pyspark.ml.evaluation import RegressionEvaluator\n",
    "\n",
    "evaluator = RegressionEvaluator(metricName=\"rmse\", labelCol=\"actual_stars\",predictionCol=\"prediction\")\n",
    "rmse = evaluator.evaluate(evaluation)\n",
    "print(\"rmse:\",rmse)"
   ],
   "metadata": {
    "collapsed": false
   }
  },
  {
   "cell_type": "code",
   "execution_count": 151,
   "outputs": [],
   "source": [],
   "metadata": {
    "collapsed": false
   }
  }
 ],
 "metadata": {
  "kernelspec": {
   "display_name": "Python 3",
   "language": "python",
   "name": "python3"
  },
  "language_info": {
   "codemirror_mode": {
    "name": "ipython",
    "version": 2
   },
   "file_extension": ".py",
   "mimetype": "text/x-python",
   "name": "python",
   "nbconvert_exporter": "python",
   "pygments_lexer": "ipython2",
   "version": "2.7.6"
  }
 },
 "nbformat": 4,
 "nbformat_minor": 0
}
