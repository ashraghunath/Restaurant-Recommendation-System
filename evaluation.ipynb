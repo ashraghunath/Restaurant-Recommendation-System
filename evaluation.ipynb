{
 "cells": [
  {
   "cell_type": "markdown",
   "source": [
    "# Import Libraries"
   ],
   "metadata": {
    "collapsed": false
   }
  },
  {
   "cell_type": "code",
   "execution_count": 136,
   "outputs": [],
   "source": [
    "from pyspark.sql import SparkSession\n",
    "from pyspark.ml.feature import RegexTokenizer, CountVectorizer\n",
    "from pyspark.ml.feature import StopWordsRemover\n",
    "from pyspark.ml.feature import IDF\n",
    "from pyspark.ml import Pipeline, PipelineModel\n",
    "import numpy as np\n",
    "from pyspark.sql.functions import desc\n",
    "from pyspark.sql.types import *\n",
    "from pyspark.ml.feature import Word2Vec\n",
    "from pyspark.sql.functions import col"
   ],
   "metadata": {
    "collapsed": false
   }
  },
  {
   "cell_type": "code",
   "execution_count": 137,
   "outputs": [],
   "source": [
    "spark = SparkSession \\\n",
    "        .builder \\\n",
    "        .appName(\"Content Based restaurant recommendation\") \\\n",
    "        .getOrCreate()\n",
    "sc = spark.sparkContext"
   ],
   "metadata": {
    "collapsed": false
   }
  },
  {
   "cell_type": "markdown",
   "source": [
    "# Load the sampled data"
   ],
   "metadata": {
    "collapsed": false
   }
  },
  {
   "cell_type": "code",
   "execution_count": 138,
   "outputs": [],
   "source": [
    "business_df = spark.read.parquet('Sample_Datasets/montreal_business')\n",
    "reviews_df = spark.read.parquet('Sample_Datasets/montreal_reviews')\n",
    "users_df = spark.read.parquet('Sample_Datasets/montreal_users')"
   ],
   "metadata": {
    "collapsed": false
   }
  },
  {
   "cell_type": "markdown",
   "source": [
    "# Process Reviews\n",
    "1. Group reviews of restaurants\n",
    "2. Generate a Word2Vec vector from the reviews."
   ],
   "metadata": {
    "collapsed": false
   }
  },
  {
   "cell_type": "markdown",
   "source": [
    "### Step 1 : Group reviews of restaurants"
   ],
   "metadata": {
    "collapsed": false
   }
  },
  {
   "cell_type": "code",
   "execution_count": 139,
   "outputs": [
    {
     "name": "stdout",
     "output_type": "stream",
     "text": [
      "root\n",
      " |-- business_id: string (nullable = true)\n",
      " |-- user_id: string (nullable = true)\n",
      " |-- review_id: string (nullable = true)\n",
      " |-- stars: double (nullable = true)\n",
      " |-- text: string (nullable = true)\n",
      "\n"
     ]
    },
    {
     "name": "stderr",
     "output_type": "stream",
     "text": [
      "                                                                                \r"
     ]
    },
    {
     "name": "stdout",
     "output_type": "stream",
     "text": [
      "+--------------------+--------------------+\n",
      "|         business_id|                text|\n",
      "+--------------------+--------------------+\n",
      "|-1xuC540Nycht_iWF...|During my week-lo...|\n",
      "|-4TVAE4KcLWVSXO2r...|While almost ever...|\n",
      "|-ldO91cdwbzIHN5hD...|Went here a while...|\n",
      "+--------------------+--------------------+\n",
      "only showing top 3 rows\n",
      "\n"
     ]
    }
   ],
   "source": [
    "#TODO new change\n",
    "reviews_df.printSchema()\n",
    "reviews_df_train, reviews_df_test = reviews_df.randomSplit([0.6, 0.4], seed=42)\n",
    "\n",
    "reviews_text = reviews_df_train.select('business_id', 'text')\n",
    "# Group reviews by restaurant ID\n",
    "reviews_by_business = reviews_text.rdd.map(lambda x: (x[0], x[1])).reduceByKey(lambda x, y: x + \" \" + y)\n",
    "reviews_by_business_df = reviews_by_business.toDF(['business_id', 'text'])\n",
    "reviews_by_business_df.show(3)"
   ],
   "metadata": {
    "collapsed": false
   }
  },
  {
   "cell_type": "code",
   "execution_count": 140,
   "outputs": [
    {
     "name": "stderr",
     "output_type": "stream",
     "text": [
      "                                                                                \r"
     ]
    },
    {
     "data": {
      "text/plain": "4131"
     },
     "execution_count": 140,
     "metadata": {},
     "output_type": "execute_result"
    }
   ],
   "source": [
    "reviews_df_train.select('business_id').distinct().count()"
   ],
   "metadata": {
    "collapsed": false
   }
  },
  {
   "cell_type": "code",
   "execution_count": 141,
   "outputs": [
    {
     "name": "stderr",
     "output_type": "stream",
     "text": [
      "                                                                                \r"
     ]
    },
    {
     "data": {
      "text/plain": "3996"
     },
     "execution_count": 141,
     "metadata": {},
     "output_type": "execute_result"
    }
   ],
   "source": [
    "reviews_df_test.select('business_id').distinct().count()"
   ],
   "metadata": {
    "collapsed": false
   }
  },
  {
   "cell_type": "markdown",
   "source": [
    "### Step 2: Convert reviews to Word2Vec feature vector"
   ],
   "metadata": {
    "collapsed": false
   }
  },
  {
   "cell_type": "code",
   "execution_count": 142,
   "outputs": [
    {
     "name": "stderr",
     "output_type": "stream",
     "text": [
      "                                                                                \r"
     ]
    }
   ],
   "source": [
    "# Remove the stop words from text, and create the tf idf matrix\n",
    "tokenize_sentence        = RegexTokenizer(pattern = '\\w+', inputCol = 'text', outputCol = 'tokens', toLowercase=True, gaps = False)\n",
    "remove_stopwords = StopWordsRemover(inputCol = 'tokens', outputCol = 'nostopwords')\n",
    "# 1000 words to limit number of features and reduce overfitting\n",
    "countVectorizer  = CountVectorizer(inputCol='nostopwords', outputCol='tf', vocabSize=1000)\n",
    "tfiDF            = IDF(inputCol='tf', outputCol='tfidf_vec')\n",
    "word2Vec = Word2Vec(vectorSize = 100, minCount = 5, inputCol = 'nostopwords', outputCol = 'word_2_vec', seed=123)\n",
    "pipeline         = Pipeline(stages=[tokenize_sentence, remove_stopwords, countVectorizer, tfiDF, word2Vec])\n",
    "\n",
    "reviews_pipeline = pipeline.fit(reviews_by_business_df)\n",
    "reviews_pipeline.write().overwrite().save('reviews_pipeline')"
   ],
   "metadata": {
    "collapsed": false
   }
  },
  {
   "cell_type": "code",
   "execution_count": 143,
   "outputs": [
    {
     "name": "stdout",
     "output_type": "stream",
     "text": [
      "root\n",
      " |-- business_id: string (nullable = true)\n",
      " |-- text: string (nullable = true)\n",
      " |-- tokens: array (nullable = true)\n",
      " |    |-- element: string (containsNull = true)\n",
      " |-- nostopwords: array (nullable = true)\n",
      " |    |-- element: string (containsNull = true)\n",
      " |-- tf: vector (nullable = true)\n",
      " |-- tfidf_vec: vector (nullable = true)\n",
      " |-- word_2_vec: vector (nullable = true)\n",
      "\n"
     ]
    }
   ],
   "source": [
    "reviews_pipeline = PipelineModel.load('reviews_pipeline')\n",
    "transformed_reviews_by_business = reviews_pipeline.transform(reviews_by_business_df)\n",
    "transformed_reviews_by_business.printSchema()"
   ],
   "metadata": {
    "collapsed": false
   }
  },
  {
   "cell_type": "markdown",
   "source": [
    "# Calculate cosine similarity between reviews of restaurants"
   ],
   "metadata": {
    "collapsed": false
   }
  },
  {
   "cell_type": "code",
   "execution_count": 144,
   "outputs": [],
   "source": [
    "def cosineSimilarity(vector1, vector2):\n",
    "    '''\n",
    "    This function calculates the cosine similarity between the restaurant feature vector and target restaurant feature vector\n",
    "    using formula (A.B) / (sqrt((A**2)  * sqrt((B**2)))\n",
    "    '''\n",
    "\n",
    "    dot_product = np.dot(vector1, vector2)\n",
    "    product_of_norms = np.sqrt(np.dot(vector1, vector1)) * np.sqrt(np.dot(vector2, vector2))\n",
    "\n",
    "    return float(dot_product/product_of_norms)"
   ],
   "metadata": {
    "collapsed": false
   }
  },
  {
   "cell_type": "code",
   "execution_count": 145,
   "outputs": [],
   "source": [
    "def getUserRecommendationsTop10(user_restaurants, all_restaurants_word2vec) :\n",
    "    '''\n",
    "    This function uses cosine similarity to recommend restaurants based for the user\n",
    "    '''\n",
    "\n",
    "    # schema for output DF\n",
    "    schema = StructType([\n",
    "                            StructField(\"business_id\", StringType(), True)\n",
    "                            ,StructField(\"cosine_similarity\", IntegerType(), True)\n",
    "                            ,StructField(\"prediction\", DoubleType(), True)\n",
    "                        ])\n",
    "\n",
    "    result_restaurants = spark.createDataFrame([], schema)\n",
    "\n",
    "    for rest_id in user_restaurants:\n",
    "\n",
    "        # Get the feature values i.e. review texts for the restaurants rated by the user\n",
    "        user_rated_restaurant_features = all_restaurants_word2vec.filter(lambda x: x[0] == rest_id).map(lambda x: x[1]).first()\n",
    "\n",
    "        # Calculate cosine similarity\n",
    "        similar_restaurants_rdd = all_restaurants_word2vec.filter(lambda x: x[0] != rest_id).map(lambda x: (x[0], cosineSimilarity(x[1], user_rated_restaurant_features)))\n",
    "\n",
    "        similar_restaurants_df = similar_restaurants_rdd.toDF(schema = ['business_id', 'cosine_similarity']).orderBy(desc('cosine_similarity'))\n",
    "\n",
    "        # Scale cosine similarity to ratings 1-5\n",
    "        similar_restaurants_df = similar_restaurants_df.withColumn(\"prediction\", round((similar_restaurants_df['cosine_similarity'] - 0) / (1 - 0) * (5 - 1) + 1, 2))\n",
    "\n",
    "        result_restaurants = result_restaurants.union(similar_restaurants_df)\n",
    "\n",
    "    result_restaurants_top10 = result_restaurants.dropDuplicates(['business_id']).orderBy(desc('cosine_similarity'))\n",
    "\n",
    "    return result_restaurants_top10"
   ],
   "metadata": {
    "collapsed": false
   }
  },
  {
   "cell_type": "code",
   "execution_count": 146,
   "outputs": [],
   "source": [
    "def getRestaurantDetails(sim_rest):\n",
    "    '''\n",
    "    Function to get the recommended restaurant details based on ids.\n",
    "    '''\n",
    "\n",
    "    restaurant_details = sim_rest.join(business_df, on='business_id', how = 'inner') \\\n",
    "                                 .select(sim_rest.business_id, \\\n",
    "                                       sim_rest.cosine_similarity, business_df.name, \\\n",
    "                                       business_df.categories, business_df.stars, business_df.review_count,\n",
    "                                       business_df.latitude, business_df.longitude, sim_rest.prediction)\n",
    "\n",
    "    return restaurant_details"
   ],
   "metadata": {
    "collapsed": false
   }
  },
  {
   "cell_type": "markdown",
   "source": [
    "# Find Best Recommendations"
   ],
   "metadata": {
    "collapsed": false
   }
  },
  {
   "cell_type": "markdown",
   "source": [
    "### 1. Best Restaurants based on past reviews of the user"
   ],
   "metadata": {
    "collapsed": false
   }
  },
  {
   "cell_type": "code",
   "execution_count": 147,
   "outputs": [
    {
     "name": "stderr",
     "output_type": "stream",
     "text": [
      "                                                                                \r"
     ]
    },
    {
     "name": "stdout",
     "output_type": "stream",
     "text": [
      "+----------------------+\n",
      "|user_id               |\n",
      "+----------------------+\n",
      "|EaBKe-8LB-NHuH7Us-QhGw|\n",
      "|U9mfsF7Knvi4qkulS6k-Pg|\n",
      "|VvBypfrIzspqwrbox_sUHA|\n",
      "|M7vDDzoPNQDN2FdTcwCq4A|\n",
      "|ucssLdHJmpo3lEyUtLi1Vg|\n",
      "|6S4uxbPpb9pMk9bKMUVZng|\n",
      "|eCy43X201JNHYKbPDN8xpA|\n",
      "|s6qQj3otWtvBTv3wugeD5A|\n",
      "|5cZEgqHwiN4XA2eOWWqnug|\n",
      "|j78OeM6cLZ3OsFlJwwOgpA|\n",
      "|4RjoIBBL450Z6EQenmWkSg|\n",
      "|gurcmVDESVQ8X20xpw4btw|\n",
      "|-7JSlmBJKUQwREG_yGuduQ|\n",
      "|tCRK65LrfCEC1LzFS8LwvQ|\n",
      "|IAP_k_esHa84vGKr8QerqQ|\n",
      "|BxNBl3VrzLBAkwpJ3EUgXg|\n",
      "|gGjQnTix1FeRPsOilTselA|\n",
      "|xahq_WAFi6SYHFdwYVfVkg|\n",
      "|B41w9LUYQHbkTjFRfpHEjA|\n",
      "|N2HkEZn_EEtsy-KBg2NEmQ|\n",
      "+----------------------+\n",
      "only showing top 20 rows\n",
      "\n"
     ]
    }
   ],
   "source": [
    "train_users = reviews_df_train.select('user_id').distinct()\n",
    "test_users = reviews_df_test.select('user_id').distinct()\n",
    "\n",
    "common_users = train_users.join(test_users, ['user_id'], 'inner')\n",
    "common_users.show(truncate=False)\n",
    "\n",
    "\n"
   ],
   "metadata": {
    "collapsed": false
   }
  },
  {
   "cell_type": "code",
   "execution_count": 155,
   "outputs": [
    {
     "name": "stderr",
     "output_type": "stream",
     "text": [
      "                                                                                \r"
     ]
    },
    {
     "name": "stdout",
     "output_type": "stream",
     "text": [
      "+--------------------+--------------------+--------------------+-----+--------------------+\n",
      "|         business_id|             user_id|           review_id|stars|                text|\n",
      "+--------------------+--------------------+--------------------+-----+--------------------+\n",
      "|mmt2tfx6HkMPVJs2E...|6S4uxbPpb9pMk9bKM...|oy2lszrw8jywT_z1-...|  4.0|Great food here. ...|\n",
      "+--------------------+--------------------+--------------------+-----+--------------------+\n",
      "\n"
     ]
    },
    {
     "name": "stderr",
     "output_type": "stream",
     "text": [
      "                                                                                \r"
     ]
    },
    {
     "name": "stdout",
     "output_type": "stream",
     "text": [
      "+--------------------+--------------------+--------------------+------------+--------------------+\n",
      "|         business_id|             user_id|           review_id|actual_stars|                text|\n",
      "+--------------------+--------------------+--------------------+------------+--------------------+\n",
      "|0W4lkclzZThpx3V65...|6S4uxbPpb9pMk9bKM...|KNqN9LOd8TNMx3A0Y...|         4.0|A solid sandwich!...|\n",
      "|1uPQTz5XZSWr0ti7k...|6S4uxbPpb9pMk9bKM...|IqukAFt9bocPd3Gm8...|         4.0|We were staying n...|\n",
      "|_YzwG_p4MXtZnb3ZE...|6S4uxbPpb9pMk9bKM...|EOW5y_tqd2qQnhvzA...|         4.0|We were staying n...|\n",
      "|x88xL8tJEhOS1Qxlv...|6S4uxbPpb9pMk9bKM...|7ZgD_0diS4b72Y2n4...|         3.0|We were walking b...|\n",
      "+--------------------+--------------------+--------------------+------------+--------------------+\n",
      "\n",
      "\n",
      "Restaurants reviewed by target user: 6S4uxbPpb9pMk9bKMUVZng\n"
     ]
    },
    {
     "name": "stderr",
     "output_type": "stream",
     "text": [
      "                                                                                \r"
     ]
    },
    {
     "name": "stdout",
     "output_type": "stream",
     "text": [
      "+--------------------+---------+--------------------+-----+\n",
      "|         business_id|     name|          categories|stars|\n",
      "+--------------------+---------+--------------------+-----+\n",
      "|mmt2tfx6HkMPVJs2E...|Keung Kee|Restaurants, Cant...|  3.5|\n",
      "+--------------------+---------+--------------------+-----+\n",
      "\n"
     ]
    },
    {
     "name": "stderr",
     "output_type": "stream",
     "text": [
      "                                                                                \r"
     ]
    },
    {
     "name": "stdout",
     "output_type": "stream",
     "text": [
      "\n",
      "Recommendations for User: 6S4uxbPpb9pMk9bKMUVZng\n"
     ]
    },
    {
     "name": "stderr",
     "output_type": "stream",
     "text": [
      "[Stage 2801:=================================================>      (7 + 1) / 8]\r"
     ]
    },
    {
     "name": "stdout",
     "output_type": "stream",
     "text": [
      "+--------------------+--------------------+--------------------+-----+------------+----------+\n",
      "|         business_id|                name|          categories|stars|review_count|prediction|\n",
      "+--------------------+--------------------+--------------------+-----+------------+----------+\n",
      "|aJRoS2yy8HWQAMWvk...|Les Saisons de Corée| Restaurants, Korean|  3.5|          24|      4.93|\n",
      "|Izd-To33XTMnjM19X...|               Amigo|Restaurants, Chinese|  4.0|          45|      4.92|\n",
      "|2ZEnhnWEascgZDMdf...|           Chez Chen|Chinese, Restaurants|  4.5|          31|      4.92|\n",
      "|bte91zhh1rTqMvlI-...|     Bangkok Express|   Restaurants, Thai|  3.0|          31|      4.91|\n",
      "|ajkx7NWnjraj_uz20...|Restaurant Cuisin...|Restaurants, Chinese|  3.0|          31|      4.91|\n",
      "|IIVGlLVf1oggMOOtb...|   Soups et Nouilles|Chinese, Restaurants|  3.0|          13|      4.91|\n",
      "|q64TlS17kNMIxb8B6...|           Ave Seoul|Korean, Barbeque,...|  4.0|          40|      4.91|\n",
      "|t749-3jKKDyO8QH3V...|         Chao Phraya|   Thai, Restaurants|  3.5|          48|      4.91|\n",
      "|O6y47a9UtySaWg3QM...|Kam Shing Chinese...|Restaurants, Chinese|  3.0|          18|       4.9|\n",
      "|B9sv4GOxJrz19r8tc...|          Talay Thaï|   Thai, Restaurants|  3.5|          29|       4.9|\n",
      "+--------------------+--------------------+--------------------+-----+------------+----------+\n",
      "only showing top 10 rows\n",
      "\n"
     ]
    },
    {
     "name": "stderr",
     "output_type": "stream",
     "text": [
      "                                                                                \r"
     ]
    }
   ],
   "source": [
    "from pyspark.sql.functions import rand\n",
    "\n",
    "# Selecting a random user\n",
    "\n",
    "# usr_id = reviews_df.select('user_id').orderBy(rand()).limit(1).collect()\n",
    "# target_user = [val.user_id for val in usr_id][0]\n",
    "#\n",
    "# print(target_user)\n",
    "# reviews_df.filter(reviews_df_train.user_id == target_user).show()\n",
    "\n",
    "#has lot of reviews\n",
    "target_user = '6S4uxbPpb9pMk9bKMUVZng'\n",
    "# target_user = 'M7vDDzoPNQDN2FdTcwCq4A' 0.7\n",
    "# target_user = 'bds7VxgVm0e6Pu5RuVV-wg' 1.6\n",
    "# target_user= 'VvBypfrIzspqwrbox_sUHA'\n",
    "reviews_df_train.filter(reviews_df_train.user_id == target_user).show()\n",
    "reviews_df_test.filter(reviews_df_test.user_id == target_user).show()\n",
    "# target_user = 'KVehpTNCERwMGAx-h9MR-A'\n",
    "#\n",
    "#Create user profile from the reviews the user has given\n",
    "user_reviews = reviews_df_train.filter( (reviews_df_train.user_id == target_user) & (reviews_df_train.stars >= float(3.0)) )\\\n",
    "                        .select(reviews_df_train.business_id).distinct()\n",
    "\n",
    "#Here we use collect only to retrieve user reviewed restaurants, so it is safe\n",
    "user_restaurants = [val.business_id for val in user_reviews.collect()]\n",
    "user_past_restaurants = user_reviews.join(business_df, on='business_id', how = 'inner')\n",
    "\n",
    "print(f'\\nRestaurants reviewed by target user: {target_user}')\n",
    "user_past_restaurants.select('business_id', 'name', 'categories', 'stars').show()\n",
    "\n",
    "# (business_id => [reviews word vectors] )\n",
    "all_restaurant_word2vec = transformed_reviews_by_business.select('business_id', 'word_2_vec') \\\n",
    "                                                    .rdd.map(lambda x: (x[0], x[1]))\n",
    "\n",
    "#Fetch recommendations for target user\n",
    "recommended_restaurants = getUserRecommendationsTop10(user_restaurants, all_restaurant_word2vec)\n",
    "\n",
    "\n",
    "#Get details about the recommended restaurants\n",
    "recommended_restaurants_details = getRestaurantDetails(recommended_restaurants)\n",
    "\n",
    "print(f'\\nRecommendations for User: {target_user}')\n",
    "recommended_restaurants_details.drop('cosine_similarity','latitude', 'longitude') \\\n",
    "                           .orderBy(desc('cosine_similarity')).show(10)\n"
   ],
   "metadata": {
    "collapsed": false
   }
  },
  {
   "cell_type": "markdown",
   "source": [
    "# Evaluation"
   ],
   "metadata": {
    "collapsed": false
   }
  },
  {
   "cell_type": "code",
   "execution_count": 156,
   "outputs": [
    {
     "name": "stderr",
     "output_type": "stream",
     "text": [
      "[Stage 2813:=================================================>      (7 + 1) / 8]\r"
     ]
    },
    {
     "name": "stdout",
     "output_type": "stream",
     "text": [
      "+--------------------+------------------+--------------+--------------------+-----+------------+----------+-----------+----------+--------------------+--------------------+------------+--------------------+\n",
      "|         business_id| cosine_similarity|          name|          categories|stars|review_count|  latitude|  longitude|prediction|             user_id|           review_id|actual_stars|                text|\n",
      "+--------------------+------------------+--------------+--------------------+-----+------------+----------+-----------+----------+--------------------+--------------------+------------+--------------------+\n",
      "|0W4lkclzZThpx3V65...|0.8424378031905233|    Schwartz's|Sandwiches, Speci...|  4.0|        2667| 45.516353| -73.577642|      4.37|6S4uxbPpb9pMk9bKM...|KNqN9LOd8TNMx3A0Y...|         4.0|A solid sandwich!...|\n",
      "|1uPQTz5XZSWr0ti7k...|0.9580701551010609|Mai Xiang Yuan|Chinese, Dumpling...|  4.0|         443|  45.50831| -73.560778|      4.83|6S4uxbPpb9pMk9bKM...|IqukAFt9bocPd3Gm8...|         4.0|We were staying n...|\n",
      "|_YzwG_p4MXtZnb3ZE...| 0.862487538748986|  Brit & Chips|Fish & Chips, Res...|  4.0|         267|45.5006975|-73.5580968|      4.45|6S4uxbPpb9pMk9bKM...|EOW5y_tqd2qQnhvzA...|         4.0|We were staying n...|\n",
      "|x88xL8tJEhOS1Qxlv...| 0.882848947564179|   Al Pizzetta|Italian, Restaura...|  3.0|          16|45.5060073|-73.5530493|      4.53|6S4uxbPpb9pMk9bKM...|7ZgD_0diS4b72Y2n4...|         3.0|We were walking b...|\n",
      "+--------------------+------------------+--------------+--------------------+-----+------------+----------+-----------+----------+--------------------+--------------------+------------+--------------------+\n",
      "\n"
     ]
    },
    {
     "name": "stderr",
     "output_type": "stream",
     "text": [
      "                                                                                \r"
     ]
    }
   ],
   "source": [
    "# target_user = 'bds7VxgVm0e6Pu5RuVV'\n",
    "\n",
    "reviews_df_test = reviews_df_test.withColumnRenamed(\"stars\", \"actual_stars\")\n",
    "evaluation = recommended_restaurants_details.join(reviews_df_test.where((col('user_id') == target_user)),['business_id'],'inner')\n",
    "evaluation.show()\n",
    "\n",
    "\n",
    "\n"
   ],
   "metadata": {
    "collapsed": false
   }
  },
  {
   "cell_type": "code",
   "execution_count": 150,
   "outputs": [
    {
     "name": "stdout",
     "output_type": "stream",
     "text": [
      "root\n",
      " |-- business_id: string (nullable = true)\n",
      " |-- cosine_similarity: double (nullable = true)\n",
      " |-- name: string (nullable = true)\n",
      " |-- categories: string (nullable = true)\n",
      " |-- stars: double (nullable = true)\n",
      " |-- review_count: long (nullable = true)\n",
      " |-- latitude: double (nullable = true)\n",
      " |-- longitude: double (nullable = true)\n",
      " |-- prediction: double (nullable = true)\n",
      " |-- user_id: string (nullable = true)\n",
      " |-- review_id: string (nullable = true)\n",
      " |-- actual_stars: double (nullable = true)\n",
      " |-- text: string (nullable = true)\n",
      "\n"
     ]
    }
   ],
   "source": [
    "evaluation.printSchema()"
   ],
   "metadata": {
    "collapsed": false
   }
  },
  {
   "cell_type": "code",
   "execution_count": 157,
   "outputs": [
    {
     "name": "stderr",
     "output_type": "stream",
     "text": [
      "[Stage 2828:=================================================>      (7 + 1) / 8]\r"
     ]
    },
    {
     "name": "stdout",
     "output_type": "stream",
     "text": [
      "rmse: 0.9177690341256891\n"
     ]
    },
    {
     "name": "stderr",
     "output_type": "stream",
     "text": [
      "                                                                                \r"
     ]
    }
   ],
   "source": [
    "from pyspark.ml.evaluation import RegressionEvaluator\n",
    "\n",
    "evaluator = RegressionEvaluator(metricName=\"rmse\", labelCol=\"actual_stars\",predictionCol=\"prediction\")\n",
    "rmse = evaluator.evaluate(evaluation)\n",
    "print(\"rmse:\",rmse)"
   ],
   "metadata": {
    "collapsed": false
   }
  },
  {
   "cell_type": "code",
   "execution_count": 151,
   "outputs": [],
   "source": [],
   "metadata": {
    "collapsed": false
   }
  }
 ],
 "metadata": {
  "kernelspec": {
   "display_name": "Python 3",
   "language": "python",
   "name": "python3"
  },
  "language_info": {
   "codemirror_mode": {
    "name": "ipython",
    "version": 2
   },
   "file_extension": ".py",
   "mimetype": "text/x-python",
   "name": "python",
   "nbconvert_exporter": "python",
   "pygments_lexer": "ipython2",
   "version": "2.7.6"
  }
 },
 "nbformat": 4,
 "nbformat_minor": 0
}
