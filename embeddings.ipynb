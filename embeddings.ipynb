{
 "cells": [
  {
   "cell_type": "markdown",
   "source": [
    "# Import Libraries"
   ],
   "metadata": {
    "collapsed": false
   }
  },
  {
   "cell_type": "code",
   "execution_count": 2,
   "outputs": [],
   "source": [
    "from pyspark.sql import SparkSession\n",
    "from pyspark.ml.feature import RegexTokenizer, CountVectorizer\n",
    "from pyspark.ml.feature import StopWordsRemover\n",
    "from pyspark.ml.feature import IDF\n",
    "from pyspark.ml import Pipeline, PipelineModel\n",
    "import numpy as np\n",
    "from pyspark.sql.functions import desc\n",
    "from pyspark.sql.types import *\n",
    "\n",
    "from pyspark.ml.feature import Word2Vec"
   ],
   "metadata": {
    "collapsed": false
   }
  },
  {
   "cell_type": "code",
   "execution_count": 3,
   "outputs": [
    {
     "name": "stderr",
     "output_type": "stream",
     "text": [
      "Setting default log level to \"WARN\".\n",
      "To adjust logging level use sc.setLogLevel(newLevel). For SparkR, use setLogLevel(newLevel).\n"
     ]
    }
   ],
   "source": [
    "spark = SparkSession \\\n",
    "        .builder \\\n",
    "        .appName(\"Content Based restaurant recommendation\") \\\n",
    "        .getOrCreate()\n",
    "sc = spark.sparkContext"
   ],
   "metadata": {
    "collapsed": false
   }
  },
  {
   "cell_type": "markdown",
   "source": [
    "# Load the sampled data"
   ],
   "metadata": {
    "collapsed": false
   }
  },
  {
   "cell_type": "code",
   "execution_count": 4,
   "outputs": [
    {
     "name": "stderr",
     "output_type": "stream",
     "text": [
      "                                                                                \r"
     ]
    }
   ],
   "source": [
    "business_df = spark.read.parquet('Sample_Datasets/montreal_business')\n",
    "reviews_df = spark.read.parquet('Sample_Datasets/montreal_reviews')\n",
    "users_df = spark.read.parquet('Sample_Datasets/montreal_users')"
   ],
   "metadata": {
    "collapsed": false
   }
  },
  {
   "cell_type": "markdown",
   "source": [
    "# Process Reviews\n",
    "1. Group reviews of restaurants\n",
    "2. Generate a TF-IDF vector from the reviews."
   ],
   "metadata": {
    "collapsed": false
   }
  },
  {
   "cell_type": "markdown",
   "source": [
    "### Step 1 : Group reviews of restaurants"
   ],
   "metadata": {
    "collapsed": false
   }
  },
  {
   "cell_type": "code",
   "execution_count": 5,
   "outputs": [
    {
     "name": "stderr",
     "output_type": "stream",
     "text": [
      "                                                                                \r"
     ]
    },
    {
     "name": "stdout",
     "output_type": "stream",
     "text": [
      "+--------------------+--------------------+\n",
      "|         business_id|                text|\n",
      "+--------------------+--------------------+\n",
      "|m8LwM6D7UkgZxCj7u...|It is very small ...|\n",
      "|Xt6OhDqC8J69wTkMN...|Nice new spot to ...|\n",
      "|luPvNx4XSxaM7pka8...|I'm writing this ...|\n",
      "+--------------------+--------------------+\n",
      "only showing top 3 rows\n",
      "\n"
     ]
    }
   ],
   "source": [
    "reviews_text = reviews_df.select('business_id', 'text')\n",
    "# Group reviews by restaurant ID\n",
    "reviews_by_business = reviews_text.rdd.map(lambda x: (x[0], x[1])).reduceByKey(lambda x, y: x + \" \" + y)\n",
    "reviews_by_business_df = reviews_by_business.toDF(['business_id', 'text'])\n",
    "reviews_by_business_df.show(3)"
   ],
   "metadata": {
    "collapsed": false
   }
  },
  {
   "cell_type": "markdown",
   "source": [
    "### Step 2: Convert reviews to TF-IDF feature vector"
   ],
   "metadata": {
    "collapsed": false
   }
  },
  {
   "cell_type": "code",
   "execution_count": 6,
   "outputs": [],
   "source": [
    "# Term Frequency (TF) : The number of times the word appears in a document\n",
    "# TF(t,d) = number of times t appears in d / number of terms in d\n",
    "# Inverse Document Frequency (IDF) : Shows importance of a term across all documents\n",
    "# IDF(t) = log( total number of documents / number of documents containing the term t)\n",
    "# TF-IDF = TF * IDF"
   ],
   "metadata": {
    "collapsed": false
   }
  },
  {
   "cell_type": "code",
   "execution_count": 7,
   "outputs": [
    {
     "name": "stderr",
     "output_type": "stream",
     "text": [
      "                                                                                \r"
     ]
    }
   ],
   "source": [
    "# Tokenzizing user reviews\n",
    "tokenize_sentence = RegexTokenizer(pattern = '\\w+', inputCol = 'text', outputCol = 'tokens', toLowercase=True, gaps = False)\n",
    "\n",
    "# Removing the stop words\n",
    "remove_stopwords = StopWordsRemover(inputCol = 'tokens', outputCol = 'nostopwords')\n",
    "\n",
    "# Creating the Word2Vec model\n",
    "word2vec = Word2Vec(vectorSize=100, minCount=5, inputCol=\"nostopwords\", outputCol=\"w2v\")\n",
    "\n",
    "# Building a pipeline for execution of above stages in order\n",
    "pipeline         = Pipeline(stages=[tokenize_sentence, remove_stopwords, word2vec])\n",
    "\n",
    "# Execute all the stages\n",
    "reviews_pipeline = pipeline.fit(reviews_by_business_df)\n",
    "\n",
    "# Saving the pipeline\n",
    "reviews_pipeline.write().overwrite().save('reviews_pipeline')"
   ],
   "metadata": {
    "collapsed": false
   }
  },
  {
   "cell_type": "code",
   "execution_count": 8,
   "outputs": [
    {
     "name": "stderr",
     "output_type": "stream",
     "text": [
      "                                                                                \r"
     ]
    },
    {
     "name": "stdout",
     "output_type": "stream",
     "text": [
      "root\n",
      " |-- business_id: string (nullable = true)\n",
      " |-- text: string (nullable = true)\n",
      " |-- tokens: array (nullable = true)\n",
      " |    |-- element: string (containsNull = true)\n",
      " |-- nostopwords: array (nullable = true)\n",
      " |    |-- element: string (containsNull = true)\n",
      " |-- w2v: vector (nullable = true)\n",
      "\n"
     ]
    }
   ],
   "source": [
    "# Loading and executing the saved pipeline\n",
    "\n",
    "reviews_pipeline = PipelineModel.load('reviews_pipeline')\n",
    "transformed_reviews_by_business = reviews_pipeline.transform(reviews_by_business_df)\n",
    "transformed_reviews_by_business.printSchema()"
   ],
   "metadata": {
    "collapsed": false
   }
  },
  {
   "cell_type": "markdown",
   "source": [
    "# Calculate cosine similarity to find the closeness between the TF-IDF vectors and then recommend top 10 restaurants to a particular user"
   ],
   "metadata": {
    "collapsed": false
   }
  },
  {
   "cell_type": "code",
   "execution_count": 9,
   "outputs": [],
   "source": [
    "def cosineSimilarity(vector1, vector2):\n",
    "    '''\n",
    "    This function calculates the cosine similarity between the restaurant feature vector and target restaurant feature vector\n",
    "    using formula (A.B) / (sqrt((A**2)  * sqrt((B**2)))\n",
    "    '''\n",
    "\n",
    "    dot_product = np.dot(vector1, vector2)\n",
    "    product_of_norms = np.sqrt(np.dot(vector1, vector1)) * np.sqrt(np.dot(vector2, vector2))\n",
    "\n",
    "    return float(dot_product/product_of_norms)"
   ],
   "metadata": {
    "collapsed": false
   }
  },
  {
   "cell_type": "code",
   "execution_count": 10,
   "outputs": [],
   "source": [
    "def getUserRecommendationsTop10(user_restaurants, all_restaurants_tfidf) :\n",
    "    '''\n",
    "    This function uses cosine similarity to recommend restaurants based for the user\n",
    "    '''\n",
    "\n",
    "    # schema for output DF\n",
    "    schema = StructType([\n",
    "                            StructField(\"business_id\", StringType(), True)\n",
    "                            ,StructField(\"cosine_similarity\", IntegerType(), True)\n",
    "                        ])\n",
    "\n",
    "    result_restaurants = spark.createDataFrame([], schema)\n",
    "\n",
    "    for rest_id in user_restaurants:\n",
    "\n",
    "        # Get the feature values i.e. review texts for the restaurants rated by the user\n",
    "        user_rated_restaurant_features = all_restaurants_tfidf.filter(lambda x: x[0] == rest_id).map(lambda x: x[1]).first()\n",
    "\n",
    "        # Calculate cosine similarity\n",
    "        similar_restaurants_rdd = all_restaurants_tfidf.filter(lambda x: x[0] != rest_id).map(lambda x: (x[0], cosineSimilarity(x[1], user_rated_restaurant_features)))\n",
    "\n",
    "        similar_restaurants_df = similar_restaurants_rdd.toDF(schema = ['business_id', 'cosine_similarity']).orderBy(desc('cosine_similarity')).limit(5)\n",
    "        result_restaurants = result_restaurants.union(similar_restaurants_df)\n",
    "\n",
    "    result_restaurants_top10 = result_restaurants.dropDuplicates(['business_id']).orderBy(desc('cosine_similarity')).limit(10)\n",
    "\n",
    "    return result_restaurants_top10"
   ],
   "metadata": {
    "collapsed": false
   }
  },
  {
   "cell_type": "code",
   "execution_count": 11,
   "outputs": [],
   "source": [
    "def getRestaurantDetails(sim_rest):\n",
    "    '''\n",
    "    Function to get the recommended restaurant details based on ids.\n",
    "    '''\n",
    "\n",
    "    restaurant_details = sim_rest.join(business_df, on='business_id', how = 'inner') \\\n",
    "                                 .select(sim_rest.business_id, \\\n",
    "                                       sim_rest.cosine_similarity, business_df.name, \\\n",
    "                                       business_df.categories, business_df.stars, business_df.review_count,\n",
    "                                       business_df.latitude, business_df.longitude).filter(business_df.stars >= float(3.0))\n",
    "\n",
    "    return restaurant_details"
   ],
   "metadata": {
    "collapsed": false
   }
  },
  {
   "cell_type": "markdown",
   "source": [
    "# Find Best Recommendations"
   ],
   "metadata": {
    "collapsed": false
   }
  },
  {
   "cell_type": "markdown",
   "source": [
    "### 1. Best Restaurants based on past reviews of the user"
   ],
   "metadata": {
    "collapsed": false
   }
  },
  {
   "cell_type": "code",
   "execution_count": 22,
   "outputs": [
    {
     "name": "stdout",
     "output_type": "stream",
     "text": [
      "\n",
      "Restaurants reviewed by target user: ydLrbFJtw5zwil371TlnDA\n",
      "+--------------------+-----------------+--------------------+-----+\n",
      "|         business_id|             name|          categories|stars|\n",
      "+--------------------+-----------------+--------------------+-----+\n",
      "|ZS9v8ceJte-kbvdy1...|        Café Névé|Food, Coffee & Te...|  4.5|\n",
      "|3lX1V-2qaoEqYgC4o...|Le Moineau Masqué|Cafes, Restaurant...|  4.0|\n",
      "+--------------------+-----------------+--------------------+-----+\n",
      "\n"
     ]
    },
    {
     "name": "stderr",
     "output_type": "stream",
     "text": [
      "                                                                                \r"
     ]
    },
    {
     "name": "stdout",
     "output_type": "stream",
     "text": [
      "\n",
      "Recommendations for User: ydLrbFJtw5zwil371TlnDA\n"
     ]
    },
    {
     "name": "stderr",
     "output_type": "stream",
     "text": [
      "                                                                                \r"
     ]
    },
    {
     "name": "stdout",
     "output_type": "stream",
     "text": [
      "+--------------------+----------------+--------------------+-----+------------+\n",
      "|         business_id|            name|          categories|stars|review_count|\n",
      "+--------------------+----------------+--------------------+-----+------------+\n",
      "|CESgogUugOYph4p12...|         Kitsuné|Restaurants, Coff...|  4.0|          64|\n",
      "|nlssnslcQPqsTWBkg...|      Le Brûloir|Food, Coffee & Te...|  4.5|          20|\n",
      "|Tv70ZOXji7yCfsoe-...|    Cafe Central|  Cafes, Restaurants|  4.5|          16|\n",
      "|K1ala_vciG1UETtJE...|      Café Pista|Cafes, Food, Brea...|  4.5|          34|\n",
      "|Bc13zfSbo1AJjxdjP...|Café Expressions|Coffee & Tea, Foo...|  4.0|          26|\n",
      "|WClZEbe0Eth8POTWj...|       Café 8 Oz|Cafes, Food, Coff...|  4.5|          21|\n",
      "|A_Gl8o6xlhugD0r8F...|    Kokkino Cafe|Food, Coffee & Te...|  4.0|           8|\n",
      "|vw2KJ_5tlFIALaHfz...|      Kahwa Café|Cafes, Restaurant...|  4.5|          42|\n",
      "|3oEZqnsMSGsSEoXI5...|   L'Or en Grain|Cafes, Coffee & T...|  4.5|          12|\n",
      "+--------------------+----------------+--------------------+-----+------------+\n",
      "\n"
     ]
    }
   ],
   "source": [
    "from pyspark.sql.functions import rand\n",
    "\n",
    "# Selecting a random user\n",
    "\n",
    "usr_id = reviews_df.select('user_id').orderBy(rand()).limit(1).collect()\n",
    "target_user = [val.user_id for val in usr_id][0]\n",
    "# target_user = 'KVehpTNCERwMGAx-h9MR-A'\n",
    "\n",
    "#Create user profile from the reviews the user has given\n",
    "user_reviews = reviews_df.filter( (reviews_df.user_id == target_user) & (reviews_df.stars >= float(3.0)) )\\\n",
    "                        .select(reviews_df.business_id).distinct()\n",
    "\n",
    "#Here we use collect only to retrieve user reviewed restaurants, so it is safe\n",
    "user_restaurants = [val.business_id for val in user_reviews.collect()]\n",
    "user_past_restaurants = user_reviews.join(business_df, on='business_id', how = 'inner')\n",
    "\n",
    "print(f'\\nRestaurants reviewed by target user: {target_user}')\n",
    "user_past_restaurants.select('business_id', 'name', 'categories', 'stars').show()\n",
    "\n",
    "# (business_id => [reviews word vectors] )\n",
    "all_restaurant_tfidf = transformed_reviews_by_business.select('business_id', 'w2v') \\\n",
    "                                                    .rdd.map(lambda x: (x[0], x[1]))\n",
    "\n",
    "#Fetch recommendations for target user\n",
    "recommended_restaurants = getUserRecommendationsTop10(user_restaurants, all_restaurant_tfidf)\n",
    "\n",
    "#Get details about the recommended restaurants\n",
    "recommended_restaurants_details = getRestaurantDetails(recommended_restaurants)\n",
    "\n",
    "print(f'\\nRecommendations for User: {target_user}')\n",
    "recommended_restaurants_details.drop('cosine_similarity','latitude', 'longitude') \\\n",
    "                           .orderBy(desc('cosine_similarity')).show(10)\n"
   ],
   "metadata": {
    "collapsed": false
   }
  },
  {
   "cell_type": "markdown",
   "source": [
    "### 2. Best Restaurants Recommendations based on a Keyword\n",
    "\n",
    "If a user wants some recommendations based on a specific keyword, like a particular type of restaurant, or recommendations based on a specific food item.\n"
   ],
   "metadata": {
    "collapsed": false
   }
  },
  {
   "cell_type": "code",
   "execution_count": 13,
   "outputs": [],
   "source": [
    "def keyWordsRecommendation(keyword, all_restaurant_tfidf):\n",
    "\n",
    "    keyword_df = sc.parallelize([(0, keyword)]).toDF(['business_id', 'text'])\n",
    "\n",
    "    #Create word vector from keyword\n",
    "    keyword_df = reviews_pipeline.transform(keyword_df)\n",
    "    #Here we collect only one row, so it is safe\n",
    "    keyword_tfidf = keyword_df.select('w2v').collect()[0][0]\n",
    "\n",
    "    # Fetch cosine similarity\n",
    "    similar_restaurants_rdd = all_restaurant_tfidf.map(lambda x: (x[0], cosineSimilarity(x[1], keyword_tfidf)))\n",
    "\n",
    "    similar_restaurants = similar_restaurants_rdd.toDF(['business_id', 'cosine_similarity']) \\\n",
    "                                             .orderBy(desc('cosine_similarity')).limit(10)\n",
    "\n",
    "    return similar_restaurants\n"
   ],
   "metadata": {
    "collapsed": false
   }
  },
  {
   "cell_type": "code",
   "execution_count": 29,
   "outputs": [
    {
     "name": "stdout",
     "output_type": "stream",
     "text": [
      "\n",
      "Restaurants similar to keyword - poutine\n"
     ]
    },
    {
     "name": "stderr",
     "output_type": "stream",
     "text": [
      "                                                                                \r"
     ]
    },
    {
     "name": "stdout",
     "output_type": "stream",
     "text": [
      "+--------------------+--------------------+--------------------+-----+------------+\n",
      "|         business_id|                name|          categories|stars|review_count|\n",
      "+--------------------+--------------------+--------------------+-----+------------+\n",
      "|-FKQjRx3yFlPIVWhB...|     Poutine Laurier|Sandwiches, Delis...|  4.5|           4|\n",
      "|mm2wLW24ESxNIEL2b...|        Poutineville|Poutineries, Cana...|  4.5|         536|\n",
      "|spesLRasSihLlG2J2...|       Restaurant AA|Restaurants, Hot ...|  4.0|          36|\n",
      "|EbLsUk8uKpA_vsYxf...|Planète Poutine e...|Restaurants, Pout...|  4.0|          15|\n",
      "|5T6kFKFycym_GkhgO...|         La Banquise|Fast Food, Diners...|  4.0|        1945|\n",
      "|QEHnipQSRUlshVQPO...|           Dic Ann's|Burgers, Restaurants|  3.5|           3|\n",
      "|DJjjze3lyq3XKwFMt...|Restaurant La Bel...|Fast Food, Restau...|  3.5|           6|\n",
      "|09enlT7b86opzmgL-...|Restaurants D Laf...|Restaurants, Fast...|  3.5|          21|\n",
      "|F-SXXhfcCZpPya6V2...|           Valentine|Burgers, Hot Dogs...|  3.0|           9|\n",
      "+--------------------+--------------------+--------------------+-----+------------+\n",
      "\n"
     ]
    }
   ],
   "source": [
    "keyword = 'poutine'\n",
    "\n",
    "print(f'\\nRestaurants similar to keyword - {keyword}')\n",
    "similar_restaurants = keyWordsRecommendation(keyword, all_restaurant_tfidf)\n",
    "\n",
    "# Fetch details of similar restaurants\n",
    "similar_restaurants = getRestaurantDetails(similar_restaurants)\n",
    "similar_restaurants.drop('input_business_id', 'cosine_similarity','latitude', 'longitude').orderBy(desc('stars')).show()"
   ],
   "metadata": {
    "collapsed": false
   }
  },
  {
   "cell_type": "code",
   "execution_count": 15,
   "outputs": [
    {
     "name": "stdout",
     "output_type": "stream",
     "text": [
      "[-0.25863617161909735,-0.26485103368759155,-0.1658378591140111,0.000828633705774943,0.1919932203988234,0.3378332257270813,0.03475867584347725,0.30242328842480976,-0.011711617931723595,-0.058146166537577905,0.08294862136244774,0.09100144915282726,-0.06132379546761513,0.07542818039655685,-0.0027947602793574333,0.030439416567484535,0.12304001643011966,-0.08529726167519887,-0.036115189393361405,0.04767097036043803,0.0834480500780046,0.17473609000444412,-0.2632087549815575,0.06288785859942436,0.3026687850554784,0.02739808956782023,-0.009677484631538391,-0.06734986106554666,0.03040852646032969,-0.09516599208776218,0.029463755587736763,-0.19014890491962433,0.026717002193133034,0.020970497901240982,0.17514940599600473,0.10146499560990681,-0.07324376034860809,0.22417822728554407,-0.008080226058761278,-0.24123933259397745,-0.07190421099464098,-0.11949200928211212,-0.004041691310703754,-0.16597258672118187,-0.028653038665652275,-0.12763248880704242,0.03158486261963844,0.12734217320879299,-0.0417227695385615,0.06461340064803758,-0.04536984860897064,0.06207844366629918,0.18758684769272804,0.04433645478760202,0.04360306511322657,-0.1404906449218591,0.16870917628208795,-0.058872184405724205,0.034810777132709816,0.08061213791370392,-0.03908024728298187,0.23062820732593536,0.10754003251592317,-0.14486800879240036,-0.01859258860349655,0.020190750869611897,0.14144839843114215,-0.010494058330853779,0.015651526550451912,0.05526024801656604,-0.03013646959637602,0.011408627033233643,0.06164306153853734,-0.010989487171173096,0.3472043772538503,-0.10480101406574249,0.053369234005610146,0.18711182475090027,-0.0731126715739568,-0.053865445156892136,0.056009079019228615,0.09644477566083272,0.07506369799375534,0.04762939363718033,-0.08365044991175333,-0.12277884533007939,-0.17974571099815267,0.14173094431559244,0.043558243972559765,0.17949934552113214,-0.3112333963314692,0.08374573724965254,0.09618356823921204,0.2387973517179489,-0.2754074037075043,0.023048710078001022,-0.02027980734904607,-0.30491965015729267,-0.08760327366629402,-0.06448931246995926]\n",
      "[-0.17988682289918262,-0.21515234808127084,-0.12803721179564792,0.007934669653574625,0.15049384410182634,0.32388126850128174,0.12065579493840535,0.26545613010724384,-0.0455885361880064,-0.09826407333215077,-0.027430164938171703,0.09908190245429674,-0.12550770491361618,0.15471727152665454,-0.09206183037410179,-0.022269316017627716,0.1751086125150323,-0.06389547636111577,-0.010667824496825535,0.1430029273033142,0.1490289179297785,0.138087493677934,-0.08416129214068253,0.1220493863026301,0.28099299470583594,0.11400074511766434,0.019202910363674164,-0.021116358538468678,0.15567727759480476,-0.09382454112831813,0.012999165182312328,-0.18121836086114246,0.04379769663016001,-0.026028613249460854,0.10307348519563675,0.21911635001500446,-0.05717596240962545,0.23141125092903772,0.03832423873245716,-0.12398901861160994,-0.1676264169315497,-0.08352971573670705,-0.07839732089390357,-0.13136334096391994,0.06793862270812193,-0.08484598994255066,0.02505612497528394,0.08654037987192471,-0.0021377479036649065,-0.0013673572490612664,0.04244879633188248,0.030212836960951485,0.200360848257939,0.038854993569354214,0.14008665333191553,0.02821551884214083,0.0779831459124883,-0.05453873549898465,0.03231386902431647,0.15033536652723947,-0.17836089183886844,0.08177537222703297,0.04730074480175972,-0.09814199060201645,0.03931035349766413,0.033201271047194794,0.06296753386656442,0.05806171350801984,-0.006670929491519928,-0.001962552467981974,0.004678859220196803,-0.07246619462966919,0.12167127182086308,0.08574031045039494,0.2634459709127744,-0.05049692591031392,0.015531749775012333,0.2117312252521515,0.015313955644766489,-0.10675555902222791,0.09336402763923009,0.029569488018751144,0.16733546803394952,0.037198769549528755,-0.04180735101302464,-0.07653215527534485,-0.17304371506907046,0.12576897939046222,0.04743173252791166,0.1681429569919904,-0.16587224105993906,-0.0033611413091421127,0.11321592330932617,0.26366473734378815,-0.2757175862789154,0.11218376209338506,-0.046255044639110565,-0.24807410438855487,-0.04295453695097724,-0.019890653590361275]\n"
     ]
    }
   ],
   "source": [
    "sentence1 = 'Good Indian Food'\n",
    "sentence2 = 'Good Mexican food'\n",
    "\n",
    "sentence1_df = sc.parallelize([(0, sentence1)]).toDF(['business_id', 'text'])\n",
    "sentence2_df = sc.parallelize([(0, sentence2)]).toDF(['business_id', 'text'])\n",
    "\n",
    "#Create word vector from keyword\n",
    "sentence1_df = reviews_pipeline.transform(sentence1_df)\n",
    "sentence1_tfidf = sentence1_df.select('w2v').collect()[0][0]\n",
    "print(sentence1_tfidf)\n",
    "\n",
    "sentence2_df = reviews_pipeline.transform(sentence2_df)\n",
    "sentence2_tfidf = sentence2_df.select('w2v').collect()[0][0]\n",
    "print(sentence2_tfidf)\n"
   ],
   "metadata": {
    "collapsed": false
   }
  },
  {
   "cell_type": "code",
   "execution_count": 15,
   "outputs": [],
   "source": [],
   "metadata": {
    "collapsed": false
   }
  }
 ],
 "metadata": {
  "kernelspec": {
   "display_name": "Python 3",
   "language": "python",
   "name": "python3"
  },
  "language_info": {
   "codemirror_mode": {
    "name": "ipython",
    "version": 2
   },
   "file_extension": ".py",
   "mimetype": "text/x-python",
   "name": "python",
   "nbconvert_exporter": "python",
   "pygments_lexer": "ipython2",
   "version": "2.7.6"
  }
 },
 "nbformat": 4,
 "nbformat_minor": 0
}
