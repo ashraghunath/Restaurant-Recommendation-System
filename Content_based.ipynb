{
 "cells": [
  {
   "cell_type": "markdown",
   "source": [
    "# Import Libraries"
   ],
   "metadata": {
    "collapsed": false
   }
  },
  {
   "cell_type": "code",
   "execution_count": 1,
   "metadata": {
    "collapsed": true
   },
   "outputs": [],
   "source": [
    "from pyspark.sql import SparkSession\n",
    "from pyspark.ml.feature import RegexTokenizer, CountVectorizer\n",
    "from pyspark.ml.feature import StopWordsRemover\n",
    "from pyspark.ml.feature import IDF\n",
    "from pyspark.ml import Pipeline, PipelineModel\n",
    "import numpy as np\n",
    "from pyspark.sql.functions import desc\n",
    "from pyspark.sql.types import *"
   ]
  },
  {
   "cell_type": "code",
   "execution_count": 2,
   "outputs": [
    {
     "name": "stderr",
     "output_type": "stream",
     "text": [
      "Setting default log level to \"WARN\".\n",
      "To adjust logging level use sc.setLogLevel(newLevel). For SparkR, use setLogLevel(newLevel).\n"
     ]
    }
   ],
   "source": [
    "spark = SparkSession \\\n",
    "        .builder \\\n",
    "        .appName(\"RestaurantRecommendation\") \\\n",
    "        .getOrCreate()\n",
    "sc = spark.sparkContext"
   ],
   "metadata": {
    "collapsed": false
   }
  },
  {
   "cell_type": "markdown",
   "source": [
    "# Load the sampled data"
   ],
   "metadata": {
    "collapsed": false
   }
  },
  {
   "cell_type": "code",
   "execution_count": 3,
   "outputs": [
    {
     "name": "stderr",
     "output_type": "stream",
     "text": [
      "                                                                                \r"
     ]
    }
   ],
   "source": [
    "business_df = spark.read.parquet('Sample_Datasets/montreal_business')\n",
    "reviews_df = spark.read.parquet('Sample_Datasets/montreal_reviews')\n",
    "users_df = spark.read.parquet('Sample_Datasets/montreal_users')"
   ],
   "metadata": {
    "collapsed": false
   }
  },
  {
   "cell_type": "markdown",
   "source": [
    "# Process Reviews\n",
    "1. Group reviews of restaurants\n",
    "2. Generate a TF-IDF vector from the reviews."
   ],
   "metadata": {
    "collapsed": false
   }
  },
  {
   "cell_type": "markdown",
   "source": [
    "### Step 1 : Group reviews of restaurants"
   ],
   "metadata": {
    "collapsed": false
   }
  },
  {
   "cell_type": "code",
   "execution_count": 4,
   "outputs": [
    {
     "name": "stderr",
     "output_type": "stream",
     "text": [
      "                                                                                \r"
     ]
    },
    {
     "name": "stdout",
     "output_type": "stream",
     "text": [
      "+--------------------+--------------------+\n",
      "|         business_id|                text|\n",
      "+--------------------+--------------------+\n",
      "|m8LwM6D7UkgZxCj7u...|It is very small ...|\n",
      "|Xt6OhDqC8J69wTkMN...|Nice new spot to ...|\n",
      "|luPvNx4XSxaM7pka8...|I'm writing this ...|\n",
      "+--------------------+--------------------+\n",
      "only showing top 3 rows\n",
      "\n"
     ]
    }
   ],
   "source": [
    "reviews_text = reviews_df.select('business_id', 'text')\n",
    "# Group reviews by restaurant ID\n",
    "reviews_by_business = reviews_text.rdd.map(lambda x: (x[0], x[1])).reduceByKey(lambda x, y: x + \" \" + y)\n",
    "reviews_by_business_df = reviews_by_business.toDF(['business_id', 'text'])\n",
    "reviews_by_business_df.show(3)"
   ],
   "metadata": {
    "collapsed": false
   }
  },
  {
   "cell_type": "markdown",
   "source": [
    "### Step 2: Convert reviews to TF-IDF feature vector"
   ],
   "metadata": {
    "collapsed": false
   }
  },
  {
   "cell_type": "code",
   "execution_count": 5,
   "outputs": [
    {
     "name": "stderr",
     "output_type": "stream",
     "text": [
      "                                                                                \r"
     ]
    }
   ],
   "source": [
    "# Remove the stop words from text, and create the tf idf matrix\n",
    "tokenize_sentence        = RegexTokenizer(pattern = '\\w+', inputCol = 'text', outputCol = 'tokens', toLowercase=True, gaps = False)\n",
    "remove_stopwords = StopWordsRemover(inputCol = 'tokens', outputCol = 'nostopwords')\n",
    "# 1000 words to limit number of features and reduce overfitting\n",
    "countVectorizer  = CountVectorizer(inputCol='nostopwords', outputCol='tf', vocabSize=1000)\n",
    "tfiDF            = IDF(inputCol='tf', outputCol='tfidf_vec')\n",
    "pipeline         = Pipeline(stages=[tokenize_sentence, remove_stopwords, countVectorizer, tfiDF])\n",
    "\n",
    "reviews_pipeline = pipeline.fit(reviews_by_business_df)\n",
    "reviews_pipeline.write().overwrite().save('reviews_pipeline')"
   ],
   "metadata": {
    "collapsed": false
   }
  },
  {
   "cell_type": "code",
   "execution_count": 6,
   "outputs": [
    {
     "name": "stdout",
     "output_type": "stream",
     "text": [
      "root\n",
      " |-- business_id: string (nullable = true)\n",
      " |-- text: string (nullable = true)\n",
      " |-- tokens: array (nullable = true)\n",
      " |    |-- element: string (containsNull = true)\n",
      " |-- nostopwords: array (nullable = true)\n",
      " |    |-- element: string (containsNull = true)\n",
      " |-- tf: vector (nullable = true)\n",
      " |-- tfidf_vec: vector (nullable = true)\n",
      "\n"
     ]
    }
   ],
   "source": [
    "reviews_pipeline = PipelineModel.load('reviews_pipeline')\n",
    "transformed_reviews_by_business = reviews_pipeline.transform(reviews_by_business_df)\n",
    "transformed_reviews_by_business.printSchema()"
   ],
   "metadata": {
    "collapsed": false
   }
  },
  {
   "cell_type": "markdown",
   "source": [
    "# Calculate cosine similarity between reviews of restaurants"
   ],
   "metadata": {
    "collapsed": false
   }
  },
  {
   "cell_type": "code",
   "execution_count": 7,
   "outputs": [],
   "source": [
    "def cosineSimilarity(vector1, vector2):\n",
    "    '''\n",
    "    This function calculates the cosine similarity between the restaurant feature vector and target restaurant feature vector\n",
    "    using formula (A.B) / (sqrt((A**2)  * sqrt((B**2)))\n",
    "    '''\n",
    "\n",
    "    dot_product = np.dot(vector1, vector2)\n",
    "    product_of_norms = np.sqrt(np.dot(vector1, vector1)) * np.sqrt(np.dot(vector2, vector2))\n",
    "\n",
    "    return float(dot_product/product_of_norms)"
   ],
   "metadata": {
    "collapsed": false
   }
  },
  {
   "cell_type": "code",
   "execution_count": 8,
   "outputs": [],
   "source": [
    "def getUserRecommendationsTop10(user_restaurants, all_restaurants_tfidf) :\n",
    "    '''\n",
    "    This function uses cosine similarity to recommend restaurants based for the user\n",
    "    '''\n",
    "\n",
    "    # schema for output DF\n",
    "    schema = StructType([\n",
    "                            StructField(\"business_id\", StringType(), True)\n",
    "                            ,StructField(\"cosine_similarity\", IntegerType(), True)\n",
    "                        ])\n",
    "\n",
    "    result_restaurants = spark.createDataFrame([], schema)\n",
    "\n",
    "    for rest_id in user_restaurants:\n",
    "\n",
    "        # Get the feature values i.e. review texts for the restaurants rated by the user\n",
    "        user_rated_restaurant_features = all_restaurants_tfidf.filter(lambda x: x[0] == rest_id).map(lambda x: x[1]).first()\n",
    "\n",
    "        # Calculate cosine similarity\n",
    "        similar_restaurants_rdd = all_restaurants_tfidf.filter(lambda x: x[0] != rest_id).map(lambda x: (x[0], cosineSimilarity(x[1], user_rated_restaurant_features)))\n",
    "\n",
    "        similar_restaurants_df = similar_restaurants_rdd.toDF(schema = ['business_id', 'cosine_similarity']).orderBy(desc('cosine_similarity')).limit(5)\n",
    "        result_restaurants = result_restaurants.union(similar_restaurants_df)\n",
    "\n",
    "    result_restaurants_top10 = result_restaurants.dropDuplicates(['business_id']).orderBy(desc('cosine_similarity')).limit(10)\n",
    "\n",
    "    return result_restaurants_top10"
   ],
   "metadata": {
    "collapsed": false
   }
  },
  {
   "cell_type": "code",
   "execution_count": 9,
   "outputs": [],
   "source": [
    "def getRestaurantDetails(sim_rest):\n",
    "    '''\n",
    "    Function to get the recommended restaurant details based on ids.\n",
    "    '''\n",
    "\n",
    "    restaurant_details = sim_rest.join(business_df, on='business_id', how = 'inner') \\\n",
    "                                 .select(sim_rest.business_id, \\\n",
    "                                       sim_rest.cosine_similarity, business_df.name, \\\n",
    "                                       business_df.categories, business_df.stars, business_df.review_count,\n",
    "                                       business_df.latitude, business_df.longitude)\n",
    "\n",
    "    return restaurant_details"
   ],
   "metadata": {
    "collapsed": false
   }
  },
  {
   "cell_type": "markdown",
   "source": [
    "# Find Best Recommendations"
   ],
   "metadata": {
    "collapsed": false
   }
  },
  {
   "cell_type": "markdown",
   "source": [
    "### 1. Best Restaurants based on past reviews of the user"
   ],
   "metadata": {
    "collapsed": false
   }
  },
  {
   "cell_type": "code",
   "execution_count": 10,
   "outputs": [
    {
     "name": "stderr",
     "output_type": "stream",
     "text": [
      "                                                                                \r"
     ]
    },
    {
     "name": "stdout",
     "output_type": "stream",
     "text": [
      "\n",
      "Restaurants reviewed by target user: KVehpTNCERwMGAx-h9MR-A\n",
      "+--------------------+-------------------+--------------------+-----+\n",
      "|         business_id|               name|          categories|stars|\n",
      "+--------------------+-------------------+--------------------+-----+\n",
      "|qBRlwvEuAeTBh_yQL...|Bières et Compagnie|Brazilian, Restau...|  3.5|\n",
      "|Wr0zpZnYtLxlRcP60...|          Pica Pica|Spanish, Tapas Ba...|  4.5|\n",
      "+--------------------+-------------------+--------------------+-----+\n",
      "\n"
     ]
    },
    {
     "name": "stderr",
     "output_type": "stream",
     "text": [
      "                                                                                \r"
     ]
    },
    {
     "name": "stdout",
     "output_type": "stream",
     "text": [
      "\n",
      "Recommendations for User: KVehpTNCERwMGAx-h9MR-A\n"
     ]
    },
    {
     "name": "stderr",
     "output_type": "stream",
     "text": [
      "                                                                                \r"
     ]
    },
    {
     "name": "stdout",
     "output_type": "stream",
     "text": [
      "+--------------------+-------------------+--------------------+-----+------------+\n",
      "|         business_id|               name|          categories|stars|review_count|\n",
      "+--------------------+-------------------+--------------------+-----+------------+\n",
      "|HSrbuWbiBnkujnfCJ...|     Vices et Versa|Poutineries, Rest...|  4.0|         139|\n",
      "|8NHV3DBvq9Q88Ztzd...|      Le Saint-Bock|Restaurants, Bras...|  4.0|         197|\n",
      "|B0YUHoSSVpq4a8Uh2...|Brasserie Harricana|Breakfast & Brunc...|  4.0|          68|\n",
      "|lHazo7qKEcSc62PMU...|    L'Amère à Boire|Tapas Bars, Resta...|  4.0|          67|\n",
      "|JgKpVoemZ-Khkfgif...|     The Bier Markt|Food, Beer, Wine ...|  3.5|         221|\n",
      "|TFYkVf814tT6gDUBo...|              Tapeo|Restaurants, Tapa...|  4.5|          69|\n",
      "|xNpD5ObRmK0q87f6Q...|           Tapas 24|Spanish, Tapas/Sm...|  3.5|         102|\n",
      "|zWVSNGmW2O1iN7PEV...|        Taza Flores|Tex-Mex, Restaura...|  4.5|          40|\n",
      "|sYCN1nTvy-gIUXf_H...|          Toro Toro|Restaurants, Tapa...|  3.5|          34|\n",
      "|10RFV-vuQ52VUkmzF...|          Le Bureau|Dive Bars, Nightl...|  3.5|          31|\n",
      "+--------------------+-------------------+--------------------+-----+------------+\n",
      "\n"
     ]
    }
   ],
   "source": [
    "# Selecting a random user\n",
    "\n",
    "# usr_id = reviews_df.select('user_id').orderBy(rand()).limit(1).collect()\n",
    "# target_user = [val.user_id for val in usr_id][0]\n",
    "target_user = 'KVehpTNCERwMGAx-h9MR-A'\n",
    "\n",
    "#Create user profile from the reviews the user has given\n",
    "user_reviews = reviews_df.filter( (reviews_df.user_id == target_user) & (reviews_df.stars > float(3.0)) )\\\n",
    "                        .select(reviews_df.business_id).distinct()\n",
    "\n",
    "#Here we use collect only to retrieve user reviewed restaurants, so it is safe\n",
    "user_restaurants = [val.business_id for val in user_reviews.collect()]\n",
    "user_past_restaurants = user_reviews.join(business_df, on='business_id', how = 'inner')\n",
    "\n",
    "print(f'\\nRestaurants reviewed by target user: {target_user}')\n",
    "user_past_restaurants.select('business_id', 'name', 'categories', 'stars').show()\n",
    "\n",
    "# (business_id => [reviews word vectors] )\n",
    "all_restaurant_tfidf = transformed_reviews_by_business.select('business_id', 'tfidf_vec') \\\n",
    "                                                    .rdd.map(lambda x: (x[0], x[1]))\n",
    "\n",
    "#Fetch recommendations for target user\n",
    "recommended_restaurants = getUserRecommendationsTop10(user_restaurants, all_restaurant_tfidf)\n",
    "\n",
    "#Get details about the recommended restaurants\n",
    "recommended_restaurants_details = getRestaurantDetails(recommended_restaurants)\n",
    "\n",
    "print(f'\\nRecommendations for User: {target_user}')\n",
    "recommended_restaurants_details.drop('cosine_similarity','latitude', 'longitude') \\\n",
    "                           .orderBy(desc('cosine_similarity')).show(10)\n"
   ],
   "metadata": {
    "collapsed": false
   }
  },
  {
   "cell_type": "markdown",
   "source": [
    "### 2. Best Restaurants Recommendations based on a Keyword\n",
    "\n",
    "If a user wants some recommendations based on a specific keyword, like a particular type of restaurant, or recommendations based on a specific food item.\n"
   ],
   "metadata": {
    "collapsed": false
   }
  },
  {
   "cell_type": "code",
   "execution_count": 11,
   "outputs": [],
   "source": [
    "def keyWordsRecommendation(keyword, all_restaurant_tfidf):\n",
    "\n",
    "    keyword_df = sc.parallelize([(0, keyword)]).toDF(['business_id', 'text'])\n",
    "\n",
    "    #Create word vector from keyword\n",
    "    keyword_df = reviews_pipeline.transform(keyword_df)\n",
    "    #Here we collect only one row, so it is safe\n",
    "    keyword_tfidf = keyword_df.select('tfidf_vec').collect()[0][0]\n",
    "\n",
    "    # Fetch cosine similarity\n",
    "    similar_restaurants_rdd = all_restaurant_tfidf.map(lambda x: (x[0], cosineSimilarity(x[1], keyword_tfidf)))\n",
    "\n",
    "    similar_restaurants = similar_restaurants_rdd.toDF(['business_id', 'cosine_similarity']) \\\n",
    "                                             .orderBy(desc('cosine_similarity')).limit(10)\n",
    "\n",
    "    return similar_restaurants\n"
   ],
   "metadata": {
    "collapsed": false
   }
  },
  {
   "cell_type": "code",
   "execution_count": 12,
   "outputs": [
    {
     "name": "stdout",
     "output_type": "stream",
     "text": [
      "\n",
      "Restaurants similar to keyword - Indian\n"
     ]
    },
    {
     "name": "stderr",
     "output_type": "stream",
     "text": [
      "                                                                                \r"
     ]
    },
    {
     "name": "stdout",
     "output_type": "stream",
     "text": [
      "+--------------------+-----------------+--------------------+-----+------------+\n",
      "|         business_id|             name|          categories|stars|review_count|\n",
      "+--------------------+-----------------+--------------------+-----+------------+\n",
      "|6wZIRMkNY3XVF3rSo...| Le Super Qualité| Restaurants, Indian|  4.5|          28|\n",
      "|B3ucstFotOHce9VhS...|Restaurant Gandhi| Indian, Restaurants|  4.0|         119|\n",
      "|rwLm3556i3xw2n3ND...|          Thanjai|Vegan, Restaurant...|  4.0|         120|\n",
      "|vVW4aVlo0bxPrgEKH...|    Notre Endroit| Restaurants, Indian|  4.0|          26|\n",
      "|Ra6dcmjOIqDdBXrem...|          Singh's| Indian, Restaurants|  4.0|          90|\n",
      "|82fdk8YOZ67hl_t66...|           Le Taj|Middle Eastern, I...|  4.0|         253|\n",
      "|A_05gZ2QwayLb0YeQ...|  Chennai Express| Restaurants, Indian|  4.0|          53|\n",
      "|gA4bnK91phT5FTzG4...|  Restaurant Devi|Indian, Restauran...|  3.5|          86|\n",
      "|5HAv0eKeid0MIEAr-...|        Taj Mahal| Restaurants, Indian|  3.0|          22|\n",
      "|5KsvP10z9InBcI6hh...|  Buffet Maharaja|Restaurants, Buff...|  2.0|          60|\n",
      "+--------------------+-----------------+--------------------+-----+------------+\n",
      "\n"
     ]
    }
   ],
   "source": [
    "keyword = 'Indian'\n",
    "\n",
    "print(f'\\nRestaurants similar to keyword - {keyword}')\n",
    "similar_restaurants = keyWordsRecommendation(keyword, all_restaurant_tfidf)\n",
    "\n",
    "# Fetch details of similar restaurants\n",
    "similar_restaurants = getRestaurantDetails(similar_restaurants)\n",
    "similar_restaurants.drop('input_business_id', 'cosine_similarity','latitude', 'longitude').orderBy(desc('stars')).show()"
   ],
   "metadata": {
    "collapsed": false
   }
  }
 ],
 "metadata": {
  "kernelspec": {
   "display_name": "Python 3",
   "language": "python",
   "name": "python3"
  },
  "language_info": {
   "codemirror_mode": {
    "name": "ipython",
    "version": 2
   },
   "file_extension": ".py",
   "mimetype": "text/x-python",
   "name": "python",
   "nbconvert_exporter": "python",
   "pygments_lexer": "ipython2",
   "version": "2.7.6"
  }
 },
 "nbformat": 4,
 "nbformat_minor": 0
}
